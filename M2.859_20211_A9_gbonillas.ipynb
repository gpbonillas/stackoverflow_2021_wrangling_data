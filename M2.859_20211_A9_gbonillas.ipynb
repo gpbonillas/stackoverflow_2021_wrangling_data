{
 "cells": [
  {
   "cell_type": "markdown",
   "metadata": {},
   "source": [
    "<div style=\"width: 100%; clear: both;\">\n",
    "<div style=\"float: left; width: 50%;\">\n",
    "<img src=\"http://www.uoc.edu/portal/_resources/common/imatges/marca_UOC/UOC_Masterbrand.jpg\" align=\"left\">\n",
    "</div>\n",
    "<div style=\"float: right; width: 50%;\">\n",
    "<p style=\"margin: 0; padding-top: 22px; text-align:right;\">M2.859 · Visualización de datos · Práctica, Parte 2</p>\n",
    "<p style=\"margin: 0; text-align:right;\">2021-1 · Máster universitario en Ciencia de datos (Data science)</p>\n",
    "<p style=\"margin: 0; text-align:right; padding-button: 100px;\">Estudios de Informática, Multimedia y Telecomunicación</p>\n",
    "</div>\n",
    "</div>\n",
    "<div style=\"width:100%;\">&nbsp;</div>\n",
    "\n",
    "\n",
    "# A9: Práctica Final (parte 2) - Wrangling data\n",
    "\n",
    "\n",
    "El [**wrangling data**](https://en.wikipedia.org/wiki/Data_wrangling) es el proceso de transformar y mapear datos de un formulario de datos \"sin procesar\" a otro formato con la intención de hacerlo más apropiado y valioso para una variedad de propósitos posteriores, como el análisis. El objetivo del wrangling data es garantizar la calidad y la utilidad de los datos. Los analistas de datos suelen pasar la mayor parte de su tiempo en el proceso de disputa de datos en comparación con el análisis real de los datos.\n",
    "\n",
    "El proceso de wrangling data puede incluir más manipulación, visualización de datos, agregación de datos, entrenamiento de un modelo estadístico, así como muchos otros usos potenciales. El wrangling data normalmente sigue un conjunto de pasos generales que comienzan con la extracción de los datos sin procesar de la fuente de datos, \"removiendo\" los datos sin procesar (por ejemplo, clasificación) o analizando los datos en estructuras de datos predefinidas y, finalmente, depositando el contenido resultante en un sumidero de datos para almacenamiento y uso futuro.\n",
    "   \n",
    "Para ello vamos a necesitar las siguientes librerías:"
   ]
  },
  {
   "cell_type": "code",
   "execution_count": 4,
   "metadata": {},
   "outputs": [],
   "source": [
    "from six import StringIO\n",
    "\n",
    "from IPython.display import Image \n",
    "from sklearn import datasets\n",
    "from sklearn.decomposition import PCA\n",
    "from sklearn.model_selection import train_test_split, cross_val_score\n",
    "from sklearn.metrics import accuracy_score, confusion_matrix, classification_report\n",
    "from sklearn.tree import DecisionTreeClassifier, export_graphviz\n",
    "import pydotplus\n",
    "import numpy as np\n",
    "import seaborn as sns\n",
    "import matplotlib.pyplot as plt\n",
    "%matplotlib inline\n",
    "import pandas as pd\n",
    "pd.set_option('display.max_columns', None)"
   ]
  },
  {
   "cell_type": "markdown",
   "metadata": {},
   "source": [
    "# 1. Carga del conjunto de datos (1 punto)\n",
    "\n",
    "Se ha seleccionado un conjunto de datos desde el portal Stack Overflow Annual Developer Survey, que examina todos los aspectos de la experiencia de los programadores de la comunidad (Stack Overflow), desde la satisfacción profesional y la búsqueda de empleo hasta la educación y las opiniones sobre el software de código abierto; y los resultados se publican en la siguiente URL: https://insights.stackoverflow.com/survey.\n",
    "\n",
    "En este portal se encuentran publicados los resultados de los últimos 11 años. Para los fines de la práctica final de esta asignatura se usará el dataset del año 2021, cuyo link de descarga es: https://info.stackoverflowsolutions.com/rs/719-EMH-566/images/stack-overflow-developer-survey-2021.zip."
   ]
  },
  {
   "cell_type": "code",
   "execution_count": 3,
   "metadata": {
    "scrolled": false
   },
   "outputs": [
    {
     "data": {
      "text/html": [
       "<div>\n",
       "<style scoped>\n",
       "    .dataframe tbody tr th:only-of-type {\n",
       "        vertical-align: middle;\n",
       "    }\n",
       "\n",
       "    .dataframe tbody tr th {\n",
       "        vertical-align: top;\n",
       "    }\n",
       "\n",
       "    .dataframe thead th {\n",
       "        text-align: right;\n",
       "    }\n",
       "</style>\n",
       "<table border=\"1\" class=\"dataframe\">\n",
       "  <thead>\n",
       "    <tr style=\"text-align: right;\">\n",
       "      <th></th>\n",
       "      <th>ResponseId</th>\n",
       "      <th>MainBranch</th>\n",
       "      <th>Employment</th>\n",
       "      <th>Country</th>\n",
       "      <th>US_State</th>\n",
       "      <th>UK_Country</th>\n",
       "      <th>EdLevel</th>\n",
       "      <th>Age1stCode</th>\n",
       "      <th>LearnCode</th>\n",
       "      <th>YearsCode</th>\n",
       "      <th>YearsCodePro</th>\n",
       "      <th>DevType</th>\n",
       "      <th>OrgSize</th>\n",
       "      <th>Currency</th>\n",
       "      <th>CompTotal</th>\n",
       "      <th>CompFreq</th>\n",
       "      <th>LanguageHaveWorkedWith</th>\n",
       "      <th>LanguageWantToWorkWith</th>\n",
       "      <th>DatabaseHaveWorkedWith</th>\n",
       "      <th>DatabaseWantToWorkWith</th>\n",
       "      <th>PlatformHaveWorkedWith</th>\n",
       "      <th>PlatformWantToWorkWith</th>\n",
       "      <th>WebframeHaveWorkedWith</th>\n",
       "      <th>WebframeWantToWorkWith</th>\n",
       "      <th>MiscTechHaveWorkedWith</th>\n",
       "      <th>MiscTechWantToWorkWith</th>\n",
       "      <th>ToolsTechHaveWorkedWith</th>\n",
       "      <th>ToolsTechWantToWorkWith</th>\n",
       "      <th>NEWCollabToolsHaveWorkedWith</th>\n",
       "      <th>NEWCollabToolsWantToWorkWith</th>\n",
       "      <th>OpSys</th>\n",
       "      <th>NEWStuck</th>\n",
       "      <th>NEWSOSites</th>\n",
       "      <th>SOVisitFreq</th>\n",
       "      <th>SOAccount</th>\n",
       "      <th>SOPartFreq</th>\n",
       "      <th>SOComm</th>\n",
       "      <th>NEWOtherComms</th>\n",
       "      <th>Age</th>\n",
       "      <th>Gender</th>\n",
       "      <th>Trans</th>\n",
       "      <th>Sexuality</th>\n",
       "      <th>Ethnicity</th>\n",
       "      <th>Accessibility</th>\n",
       "      <th>MentalHealth</th>\n",
       "      <th>SurveyLength</th>\n",
       "      <th>SurveyEase</th>\n",
       "      <th>ConvertedCompYearly</th>\n",
       "    </tr>\n",
       "  </thead>\n",
       "  <tbody>\n",
       "    <tr>\n",
       "      <th>14490</th>\n",
       "      <td>14491</td>\n",
       "      <td>I am not primarily a developer, but I write co...</td>\n",
       "      <td>Student, full-time</td>\n",
       "      <td>Chile</td>\n",
       "      <td>NaN</td>\n",
       "      <td>NaN</td>\n",
       "      <td>Master’s degree (M.A., M.S., M.Eng., MBA, etc.)</td>\n",
       "      <td>11 - 17 years</td>\n",
       "      <td>Other (please specify):</td>\n",
       "      <td>7</td>\n",
       "      <td>NaN</td>\n",
       "      <td>NaN</td>\n",
       "      <td>NaN</td>\n",
       "      <td>NaN</td>\n",
       "      <td>NaN</td>\n",
       "      <td>NaN</td>\n",
       "      <td>Java;Node.js;Python;R</td>\n",
       "      <td>Python</td>\n",
       "      <td>NaN</td>\n",
       "      <td>NaN</td>\n",
       "      <td>NaN</td>\n",
       "      <td>NaN</td>\n",
       "      <td>NaN</td>\n",
       "      <td>NaN</td>\n",
       "      <td>Keras;NumPy;Pandas;TensorFlow</td>\n",
       "      <td>NumPy;Pandas</td>\n",
       "      <td>Git</td>\n",
       "      <td>Git</td>\n",
       "      <td>IPython/Jupyter;Sublime Text;Visual Studio Code</td>\n",
       "      <td>IPython/Jupyter;Sublime Text</td>\n",
       "      <td>Linux-based</td>\n",
       "      <td>Visit Stack Overflow;Go for a walk or other ph...</td>\n",
       "      <td>Stack Overflow;Stack Exchange</td>\n",
       "      <td>Daily or almost daily</td>\n",
       "      <td>Yes</td>\n",
       "      <td>A few times per week</td>\n",
       "      <td>Yes, definitely</td>\n",
       "      <td>No</td>\n",
       "      <td>25-34 years old</td>\n",
       "      <td>Man</td>\n",
       "      <td>No</td>\n",
       "      <td>Straight / Heterosexual</td>\n",
       "      <td>Hispanic or Latino/a/x</td>\n",
       "      <td>None of the above</td>\n",
       "      <td>None of the above</td>\n",
       "      <td>Appropriate in length</td>\n",
       "      <td>Easy</td>\n",
       "      <td>NaN</td>\n",
       "    </tr>\n",
       "    <tr>\n",
       "      <th>76987</th>\n",
       "      <td>76988</td>\n",
       "      <td>I am a developer by profession</td>\n",
       "      <td>Employed full-time</td>\n",
       "      <td>United States of America</td>\n",
       "      <td>Indiana</td>\n",
       "      <td>NaN</td>\n",
       "      <td>Secondary school (e.g. American high school, G...</td>\n",
       "      <td>11 - 17 years</td>\n",
       "      <td>Other online resources (ex: videos, blogs, etc...</td>\n",
       "      <td>18</td>\n",
       "      <td>7</td>\n",
       "      <td>Developer, full-stack</td>\n",
       "      <td>10,000 or more employees</td>\n",
       "      <td>USD\\tUnited States dollar</td>\n",
       "      <td>200000.0</td>\n",
       "      <td>Yearly</td>\n",
       "      <td>Clojure;JavaScript;SQL</td>\n",
       "      <td>Clojure;JavaScript;Rust</td>\n",
       "      <td>Elasticsearch</td>\n",
       "      <td>NaN</td>\n",
       "      <td>AWS</td>\n",
       "      <td>NaN</td>\n",
       "      <td>React.js</td>\n",
       "      <td>React.js</td>\n",
       "      <td>NaN</td>\n",
       "      <td>NaN</td>\n",
       "      <td>NaN</td>\n",
       "      <td>NaN</td>\n",
       "      <td>Emacs;Sublime Text</td>\n",
       "      <td>Emacs;Sublime Text</td>\n",
       "      <td>MacOS</td>\n",
       "      <td>Go for a walk or other physical activity;Googl...</td>\n",
       "      <td>Stack Overflow;Stack Exchange</td>\n",
       "      <td>Less than once per month or monthly</td>\n",
       "      <td>No</td>\n",
       "      <td>NaN</td>\n",
       "      <td>No, not at all</td>\n",
       "      <td>Yes</td>\n",
       "      <td>25-34 years old</td>\n",
       "      <td>Man</td>\n",
       "      <td>No</td>\n",
       "      <td>Straight / Heterosexual</td>\n",
       "      <td>White or of European descent</td>\n",
       "      <td>None of the above</td>\n",
       "      <td>None of the above</td>\n",
       "      <td>Too long</td>\n",
       "      <td>Easy</td>\n",
       "      <td>200000.0</td>\n",
       "    </tr>\n",
       "    <tr>\n",
       "      <th>38902</th>\n",
       "      <td>38903</td>\n",
       "      <td>I am a developer by profession</td>\n",
       "      <td>Independent contractor, freelancer, or self-em...</td>\n",
       "      <td>United States of America</td>\n",
       "      <td>Texas</td>\n",
       "      <td>NaN</td>\n",
       "      <td>Bachelor’s degree (B.A., B.S., B.Eng., etc.)</td>\n",
       "      <td>11 - 17 years</td>\n",
       "      <td>School</td>\n",
       "      <td>13</td>\n",
       "      <td>8</td>\n",
       "      <td>Developer, full-stack</td>\n",
       "      <td>Just me - I am a freelancer, sole proprietor, ...</td>\n",
       "      <td>USD\\tUnited States dollar</td>\n",
       "      <td>50000.0</td>\n",
       "      <td>Yearly</td>\n",
       "      <td>HTML/CSS;Java;JavaScript;Node.js;PHP;Python;SQ...</td>\n",
       "      <td>HTML/CSS;JavaScript;Node.js;PHP;SQL;TypeScript</td>\n",
       "      <td>Firebase;MySQL</td>\n",
       "      <td>Firebase;MySQL</td>\n",
       "      <td>AWS;Google Cloud Platform</td>\n",
       "      <td>AWS</td>\n",
       "      <td>Angular;Angular.js;Express;jQuery;Laravel</td>\n",
       "      <td>Angular;Angular.js;Express;jQuery;Laravel</td>\n",
       "      <td>Cordova</td>\n",
       "      <td>Cordova</td>\n",
       "      <td>Git</td>\n",
       "      <td>Git</td>\n",
       "      <td>Android Studio;Notepad++;Sublime Text;TextMate...</td>\n",
       "      <td>Android Studio;Visual Studio Code;Xcode</td>\n",
       "      <td>MacOS</td>\n",
       "      <td>Google it</td>\n",
       "      <td>Stack Overflow;Stack Exchange</td>\n",
       "      <td>Daily or almost daily</td>\n",
       "      <td>Yes</td>\n",
       "      <td>I have never participated in Q&amp;A on Stack Over...</td>\n",
       "      <td>No, not really</td>\n",
       "      <td>No</td>\n",
       "      <td>25-34 years old</td>\n",
       "      <td>Man</td>\n",
       "      <td>No</td>\n",
       "      <td>Straight / Heterosexual</td>\n",
       "      <td>South Asian</td>\n",
       "      <td>None of the above</td>\n",
       "      <td>None of the above</td>\n",
       "      <td>Appropriate in length</td>\n",
       "      <td>Easy</td>\n",
       "      <td>50000.0</td>\n",
       "    </tr>\n",
       "    <tr>\n",
       "      <th>78069</th>\n",
       "      <td>78070</td>\n",
       "      <td>I am a developer by profession</td>\n",
       "      <td>Not employed, but looking for work</td>\n",
       "      <td>Bangladesh</td>\n",
       "      <td>NaN</td>\n",
       "      <td>NaN</td>\n",
       "      <td>Primary/elementary school</td>\n",
       "      <td>11 - 17 years</td>\n",
       "      <td>Coding Bootcamp;Other online resources (ex: vi...</td>\n",
       "      <td>5</td>\n",
       "      <td>NaN</td>\n",
       "      <td>Developer, mobile;Developer, front-end;Develop...</td>\n",
       "      <td>NaN</td>\n",
       "      <td>NaN</td>\n",
       "      <td>NaN</td>\n",
       "      <td>NaN</td>\n",
       "      <td>HTML/CSS;JavaScript;Node.js;PHP;Python;SQL</td>\n",
       "      <td>C;C#;C++;HTML/CSS;Java;JavaScript;Kotlin;Node....</td>\n",
       "      <td>Firebase;MongoDB;MySQL;Oracle</td>\n",
       "      <td>Firebase;MariaDB;Microsoft SQL Server;MongoDB;...</td>\n",
       "      <td>Heroku</td>\n",
       "      <td>AWS;DigitalOcean;Google Cloud Platform;Heroku;...</td>\n",
       "      <td>Express;jQuery;Laravel;React.js;Vue.js</td>\n",
       "      <td>Angular.js;Django;Express;jQuery;Laravel;React...</td>\n",
       "      <td>NaN</td>\n",
       "      <td>NaN</td>\n",
       "      <td>Git</td>\n",
       "      <td>Git</td>\n",
       "      <td>Android Studio;Notepad++;Sublime Text;Visual S...</td>\n",
       "      <td>Android Studio;Notepad++;PyCharm;Visual Studio...</td>\n",
       "      <td>Windows</td>\n",
       "      <td>Call a coworker or friend;Visit Stack Overflow...</td>\n",
       "      <td>Stack Overflow;Stack Overflow for Teams (priva...</td>\n",
       "      <td>Multiple times per day</td>\n",
       "      <td>Yes</td>\n",
       "      <td>Multiple times per day</td>\n",
       "      <td>Yes, definitely</td>\n",
       "      <td>No</td>\n",
       "      <td>Under 18 years old</td>\n",
       "      <td>Man</td>\n",
       "      <td>Yes</td>\n",
       "      <td>Straight / Heterosexual</td>\n",
       "      <td>Prefer not to say</td>\n",
       "      <td>Prefer not to say</td>\n",
       "      <td>Prefer not to say</td>\n",
       "      <td>Appropriate in length</td>\n",
       "      <td>Neither easy nor difficult</td>\n",
       "      <td>NaN</td>\n",
       "    </tr>\n",
       "    <tr>\n",
       "      <th>477</th>\n",
       "      <td>478</td>\n",
       "      <td>I am a developer by profession</td>\n",
       "      <td>Employed full-time</td>\n",
       "      <td>United Kingdom of Great Britain and Northern I...</td>\n",
       "      <td>NaN</td>\n",
       "      <td>England</td>\n",
       "      <td>Master’s degree (M.A., M.S., M.Eng., MBA, etc.)</td>\n",
       "      <td>18 - 24 years</td>\n",
       "      <td>Other (please specify):</td>\n",
       "      <td>7</td>\n",
       "      <td>6</td>\n",
       "      <td>Developer, back-end;DevOps specialist;System a...</td>\n",
       "      <td>20 to 99 employees</td>\n",
       "      <td>GBP\\tPound sterling</td>\n",
       "      <td>41950.0</td>\n",
       "      <td>Yearly</td>\n",
       "      <td>Bash/Shell;Java;Python;SQL</td>\n",
       "      <td>Bash/Shell;C#;Java;Python</td>\n",
       "      <td>MySQL</td>\n",
       "      <td>Microsoft SQL Server</td>\n",
       "      <td>AWS</td>\n",
       "      <td>AWS</td>\n",
       "      <td>NaN</td>\n",
       "      <td>NaN</td>\n",
       "      <td>NaN</td>\n",
       "      <td>NaN</td>\n",
       "      <td>Docker;Git</td>\n",
       "      <td>Docker;Git</td>\n",
       "      <td>Eclipse;Notepad++;Visual Studio Code</td>\n",
       "      <td>Eclipse;Notepad++;Visual Studio Code</td>\n",
       "      <td>Windows</td>\n",
       "      <td>Visit Stack Overflow;Google it</td>\n",
       "      <td>Stack Overflow</td>\n",
       "      <td>Multiple times per day</td>\n",
       "      <td>Yes</td>\n",
       "      <td>Less than once per month or monthly</td>\n",
       "      <td>No, not really</td>\n",
       "      <td>No</td>\n",
       "      <td>25-34 years old</td>\n",
       "      <td>Man</td>\n",
       "      <td>No</td>\n",
       "      <td>Prefer not to say</td>\n",
       "      <td>White or of European descent</td>\n",
       "      <td>None of the above</td>\n",
       "      <td>None of the above</td>\n",
       "      <td>Appropriate in length</td>\n",
       "      <td>Easy</td>\n",
       "      <td>54224.0</td>\n",
       "    </tr>\n",
       "  </tbody>\n",
       "</table>\n",
       "</div>"
      ],
      "text/plain": [
       "       ResponseId                                         MainBranch  \\\n",
       "14490       14491  I am not primarily a developer, but I write co...   \n",
       "76987       76988                     I am a developer by profession   \n",
       "38902       38903                     I am a developer by profession   \n",
       "78069       78070                     I am a developer by profession   \n",
       "477           478                     I am a developer by profession   \n",
       "\n",
       "                                              Employment  \\\n",
       "14490                                 Student, full-time   \n",
       "76987                                 Employed full-time   \n",
       "38902  Independent contractor, freelancer, or self-em...   \n",
       "78069                 Not employed, but looking for work   \n",
       "477                                   Employed full-time   \n",
       "\n",
       "                                                 Country US_State UK_Country  \\\n",
       "14490                                              Chile      NaN        NaN   \n",
       "76987                           United States of America  Indiana        NaN   \n",
       "38902                           United States of America    Texas        NaN   \n",
       "78069                                         Bangladesh      NaN        NaN   \n",
       "477    United Kingdom of Great Britain and Northern I...      NaN    England   \n",
       "\n",
       "                                                 EdLevel     Age1stCode  \\\n",
       "14490    Master’s degree (M.A., M.S., M.Eng., MBA, etc.)  11 - 17 years   \n",
       "76987  Secondary school (e.g. American high school, G...  11 - 17 years   \n",
       "38902       Bachelor’s degree (B.A., B.S., B.Eng., etc.)  11 - 17 years   \n",
       "78069                          Primary/elementary school  11 - 17 years   \n",
       "477      Master’s degree (M.A., M.S., M.Eng., MBA, etc.)  18 - 24 years   \n",
       "\n",
       "                                               LearnCode YearsCode  \\\n",
       "14490                            Other (please specify):         7   \n",
       "76987  Other online resources (ex: videos, blogs, etc...        18   \n",
       "38902                                             School        13   \n",
       "78069  Coding Bootcamp;Other online resources (ex: vi...         5   \n",
       "477                              Other (please specify):         7   \n",
       "\n",
       "      YearsCodePro                                            DevType  \\\n",
       "14490          NaN                                                NaN   \n",
       "76987            7                              Developer, full-stack   \n",
       "38902            8                              Developer, full-stack   \n",
       "78069          NaN  Developer, mobile;Developer, front-end;Develop...   \n",
       "477              6  Developer, back-end;DevOps specialist;System a...   \n",
       "\n",
       "                                                 OrgSize  \\\n",
       "14490                                                NaN   \n",
       "76987                           10,000 or more employees   \n",
       "38902  Just me - I am a freelancer, sole proprietor, ...   \n",
       "78069                                                NaN   \n",
       "477                                   20 to 99 employees   \n",
       "\n",
       "                        Currency  CompTotal CompFreq  \\\n",
       "14490                        NaN        NaN      NaN   \n",
       "76987  USD\\tUnited States dollar   200000.0   Yearly   \n",
       "38902  USD\\tUnited States dollar    50000.0   Yearly   \n",
       "78069                        NaN        NaN      NaN   \n",
       "477          GBP\\tPound sterling    41950.0   Yearly   \n",
       "\n",
       "                                  LanguageHaveWorkedWith  \\\n",
       "14490                              Java;Node.js;Python;R   \n",
       "76987                             Clojure;JavaScript;SQL   \n",
       "38902  HTML/CSS;Java;JavaScript;Node.js;PHP;Python;SQ...   \n",
       "78069         HTML/CSS;JavaScript;Node.js;PHP;Python;SQL   \n",
       "477                           Bash/Shell;Java;Python;SQL   \n",
       "\n",
       "                                  LanguageWantToWorkWith  \\\n",
       "14490                                             Python   \n",
       "76987                            Clojure;JavaScript;Rust   \n",
       "38902     HTML/CSS;JavaScript;Node.js;PHP;SQL;TypeScript   \n",
       "78069  C;C#;C++;HTML/CSS;Java;JavaScript;Kotlin;Node....   \n",
       "477                            Bash/Shell;C#;Java;Python   \n",
       "\n",
       "              DatabaseHaveWorkedWith  \\\n",
       "14490                            NaN   \n",
       "76987                  Elasticsearch   \n",
       "38902                 Firebase;MySQL   \n",
       "78069  Firebase;MongoDB;MySQL;Oracle   \n",
       "477                            MySQL   \n",
       "\n",
       "                                  DatabaseWantToWorkWith  \\\n",
       "14490                                                NaN   \n",
       "76987                                                NaN   \n",
       "38902                                     Firebase;MySQL   \n",
       "78069  Firebase;MariaDB;Microsoft SQL Server;MongoDB;...   \n",
       "477                                 Microsoft SQL Server   \n",
       "\n",
       "          PlatformHaveWorkedWith  \\\n",
       "14490                        NaN   \n",
       "76987                        AWS   \n",
       "38902  AWS;Google Cloud Platform   \n",
       "78069                     Heroku   \n",
       "477                          AWS   \n",
       "\n",
       "                                  PlatformWantToWorkWith  \\\n",
       "14490                                                NaN   \n",
       "76987                                                NaN   \n",
       "38902                                                AWS   \n",
       "78069  AWS;DigitalOcean;Google Cloud Platform;Heroku;...   \n",
       "477                                                  AWS   \n",
       "\n",
       "                          WebframeHaveWorkedWith  \\\n",
       "14490                                        NaN   \n",
       "76987                                   React.js   \n",
       "38902  Angular;Angular.js;Express;jQuery;Laravel   \n",
       "78069     Express;jQuery;Laravel;React.js;Vue.js   \n",
       "477                                          NaN   \n",
       "\n",
       "                                  WebframeWantToWorkWith  \\\n",
       "14490                                                NaN   \n",
       "76987                                           React.js   \n",
       "38902          Angular;Angular.js;Express;jQuery;Laravel   \n",
       "78069  Angular.js;Django;Express;jQuery;Laravel;React...   \n",
       "477                                                  NaN   \n",
       "\n",
       "              MiscTechHaveWorkedWith MiscTechWantToWorkWith  \\\n",
       "14490  Keras;NumPy;Pandas;TensorFlow           NumPy;Pandas   \n",
       "76987                            NaN                    NaN   \n",
       "38902                        Cordova                Cordova   \n",
       "78069                            NaN                    NaN   \n",
       "477                              NaN                    NaN   \n",
       "\n",
       "      ToolsTechHaveWorkedWith ToolsTechWantToWorkWith  \\\n",
       "14490                     Git                     Git   \n",
       "76987                     NaN                     NaN   \n",
       "38902                     Git                     Git   \n",
       "78069                     Git                     Git   \n",
       "477                Docker;Git              Docker;Git   \n",
       "\n",
       "                            NEWCollabToolsHaveWorkedWith  \\\n",
       "14490    IPython/Jupyter;Sublime Text;Visual Studio Code   \n",
       "76987                                 Emacs;Sublime Text   \n",
       "38902  Android Studio;Notepad++;Sublime Text;TextMate...   \n",
       "78069  Android Studio;Notepad++;Sublime Text;Visual S...   \n",
       "477                 Eclipse;Notepad++;Visual Studio Code   \n",
       "\n",
       "                            NEWCollabToolsWantToWorkWith        OpSys  \\\n",
       "14490                       IPython/Jupyter;Sublime Text  Linux-based   \n",
       "76987                                 Emacs;Sublime Text        MacOS   \n",
       "38902            Android Studio;Visual Studio Code;Xcode        MacOS   \n",
       "78069  Android Studio;Notepad++;PyCharm;Visual Studio...      Windows   \n",
       "477                 Eclipse;Notepad++;Visual Studio Code      Windows   \n",
       "\n",
       "                                                NEWStuck  \\\n",
       "14490  Visit Stack Overflow;Go for a walk or other ph...   \n",
       "76987  Go for a walk or other physical activity;Googl...   \n",
       "38902                                          Google it   \n",
       "78069  Call a coworker or friend;Visit Stack Overflow...   \n",
       "477                       Visit Stack Overflow;Google it   \n",
       "\n",
       "                                              NEWSOSites  \\\n",
       "14490                      Stack Overflow;Stack Exchange   \n",
       "76987                      Stack Overflow;Stack Exchange   \n",
       "38902                      Stack Overflow;Stack Exchange   \n",
       "78069  Stack Overflow;Stack Overflow for Teams (priva...   \n",
       "477                                       Stack Overflow   \n",
       "\n",
       "                               SOVisitFreq SOAccount  \\\n",
       "14490                Daily or almost daily       Yes   \n",
       "76987  Less than once per month or monthly        No   \n",
       "38902                Daily or almost daily       Yes   \n",
       "78069               Multiple times per day       Yes   \n",
       "477                 Multiple times per day       Yes   \n",
       "\n",
       "                                              SOPartFreq           SOComm  \\\n",
       "14490                               A few times per week  Yes, definitely   \n",
       "76987                                                NaN   No, not at all   \n",
       "38902  I have never participated in Q&A on Stack Over...   No, not really   \n",
       "78069                             Multiple times per day  Yes, definitely   \n",
       "477                  Less than once per month or monthly   No, not really   \n",
       "\n",
       "      NEWOtherComms                 Age Gender Trans                Sexuality  \\\n",
       "14490            No     25-34 years old    Man    No  Straight / Heterosexual   \n",
       "76987           Yes     25-34 years old    Man    No  Straight / Heterosexual   \n",
       "38902            No     25-34 years old    Man    No  Straight / Heterosexual   \n",
       "78069            No  Under 18 years old    Man   Yes  Straight / Heterosexual   \n",
       "477              No     25-34 years old    Man    No        Prefer not to say   \n",
       "\n",
       "                          Ethnicity      Accessibility       MentalHealth  \\\n",
       "14490        Hispanic or Latino/a/x  None of the above  None of the above   \n",
       "76987  White or of European descent  None of the above  None of the above   \n",
       "38902                   South Asian  None of the above  None of the above   \n",
       "78069             Prefer not to say  Prefer not to say  Prefer not to say   \n",
       "477    White or of European descent  None of the above  None of the above   \n",
       "\n",
       "                SurveyLength                  SurveyEase  ConvertedCompYearly  \n",
       "14490  Appropriate in length                        Easy                  NaN  \n",
       "76987               Too long                        Easy             200000.0  \n",
       "38902  Appropriate in length                        Easy              50000.0  \n",
       "78069  Appropriate in length  Neither easy nor difficult                  NaN  \n",
       "477    Appropriate in length                        Easy              54224.0  "
      ]
     },
     "execution_count": 3,
     "metadata": {},
     "output_type": "execute_result"
    }
   ],
   "source": [
    "so2021_df = pd.read_csv('survey_results_public.csv', header=0)\n",
    "so2021_df.sample(5)"
   ]
  },
  {
   "cell_type": "markdown",
   "metadata": {},
   "source": [
    "<div style=\"background-color: #EDF7FF; border-color: #7C9DBF; border-left: 5px solid #7C9DBF; padding: 0.5em;\">\n",
    "<strong>Selección de variables:</strong> se realiza la selección de todas las variables del dataset que servirán para responder a todas las cuestiones planteadas en la primera parte de la práctica:\n",
    "</div>"
   ]
  },
  {
   "cell_type": "code",
   "execution_count": 8,
   "metadata": {},
   "outputs": [
    {
     "data": {
      "text/html": [
       "<div>\n",
       "<style scoped>\n",
       "    .dataframe tbody tr th:only-of-type {\n",
       "        vertical-align: middle;\n",
       "    }\n",
       "\n",
       "    .dataframe tbody tr th {\n",
       "        vertical-align: top;\n",
       "    }\n",
       "\n",
       "    .dataframe thead th {\n",
       "        text-align: right;\n",
       "    }\n",
       "</style>\n",
       "<table border=\"1\" class=\"dataframe\">\n",
       "  <thead>\n",
       "    <tr style=\"text-align: right;\">\n",
       "      <th></th>\n",
       "      <th>MainBranch</th>\n",
       "      <th>Employment</th>\n",
       "      <th>Country</th>\n",
       "      <th>EdLevel</th>\n",
       "      <th>Age1stCode</th>\n",
       "      <th>YearsCode</th>\n",
       "      <th>YearsCodePro</th>\n",
       "      <th>DevType</th>\n",
       "      <th>CompTotal</th>\n",
       "      <th>LanguageHaveWorkedWith</th>\n",
       "      <th>DatabaseHaveWorkedWith</th>\n",
       "      <th>PlatformHaveWorkedWith</th>\n",
       "      <th>WebframeHaveWorkedWith</th>\n",
       "      <th>MiscTechHaveWorkedWith</th>\n",
       "      <th>ToolsTechHaveWorkedWith</th>\n",
       "      <th>NEWCollabToolsHaveWorkedWith</th>\n",
       "      <th>OpSys</th>\n",
       "      <th>Age</th>\n",
       "      <th>Gender</th>\n",
       "      <th>Trans</th>\n",
       "      <th>Ethnicity</th>\n",
       "      <th>MentalHealth</th>\n",
       "      <th>ConvertedCompYearly</th>\n",
       "    </tr>\n",
       "  </thead>\n",
       "  <tbody>\n",
       "    <tr>\n",
       "      <th>0</th>\n",
       "      <td>I am a developer by profession</td>\n",
       "      <td>Independent contractor, freelancer, or self-em...</td>\n",
       "      <td>Slovakia</td>\n",
       "      <td>Secondary school (e.g. American high school, G...</td>\n",
       "      <td>18 - 24 years</td>\n",
       "      <td>NaN</td>\n",
       "      <td>NaN</td>\n",
       "      <td>Developer, mobile</td>\n",
       "      <td>4800.0</td>\n",
       "      <td>C++;HTML/CSS;JavaScript;Objective-C;PHP;Swift</td>\n",
       "      <td>PostgreSQL;SQLite</td>\n",
       "      <td>NaN</td>\n",
       "      <td>Laravel;Symfony</td>\n",
       "      <td>NaN</td>\n",
       "      <td>NaN</td>\n",
       "      <td>PHPStorm;Xcode</td>\n",
       "      <td>MacOS</td>\n",
       "      <td>25-34 years old</td>\n",
       "      <td>Man</td>\n",
       "      <td>No</td>\n",
       "      <td>White or of European descent</td>\n",
       "      <td>None of the above</td>\n",
       "      <td>62268.0</td>\n",
       "    </tr>\n",
       "    <tr>\n",
       "      <th>1</th>\n",
       "      <td>I am a student who is learning to code</td>\n",
       "      <td>Student, full-time</td>\n",
       "      <td>Netherlands</td>\n",
       "      <td>Bachelor’s degree (B.A., B.S., B.Eng., etc.)</td>\n",
       "      <td>11 - 17 years</td>\n",
       "      <td>7</td>\n",
       "      <td>NaN</td>\n",
       "      <td>NaN</td>\n",
       "      <td>NaN</td>\n",
       "      <td>JavaScript;Python</td>\n",
       "      <td>PostgreSQL</td>\n",
       "      <td>NaN</td>\n",
       "      <td>Angular;Flask;Vue.js</td>\n",
       "      <td>Cordova</td>\n",
       "      <td>Docker;Git;Yarn</td>\n",
       "      <td>Android Studio;IntelliJ;Notepad++;PyCharm</td>\n",
       "      <td>Windows</td>\n",
       "      <td>18-24 years old</td>\n",
       "      <td>Man</td>\n",
       "      <td>No</td>\n",
       "      <td>White or of European descent</td>\n",
       "      <td>None of the above</td>\n",
       "      <td>NaN</td>\n",
       "    </tr>\n",
       "    <tr>\n",
       "      <th>2</th>\n",
       "      <td>I am not primarily a developer, but I write co...</td>\n",
       "      <td>Student, full-time</td>\n",
       "      <td>Russian Federation</td>\n",
       "      <td>Bachelor’s degree (B.A., B.S., B.Eng., etc.)</td>\n",
       "      <td>11 - 17 years</td>\n",
       "      <td>NaN</td>\n",
       "      <td>NaN</td>\n",
       "      <td>NaN</td>\n",
       "      <td>NaN</td>\n",
       "      <td>Assembly;C;Python;R;Rust</td>\n",
       "      <td>SQLite</td>\n",
       "      <td>Heroku</td>\n",
       "      <td>Flask</td>\n",
       "      <td>NumPy;Pandas;TensorFlow;Torch/PyTorch</td>\n",
       "      <td>NaN</td>\n",
       "      <td>IPython/Jupyter;PyCharm;RStudio;Sublime Text;V...</td>\n",
       "      <td>MacOS</td>\n",
       "      <td>18-24 years old</td>\n",
       "      <td>Man</td>\n",
       "      <td>No</td>\n",
       "      <td>Prefer not to say</td>\n",
       "      <td>None of the above</td>\n",
       "      <td>NaN</td>\n",
       "    </tr>\n",
       "    <tr>\n",
       "      <th>3</th>\n",
       "      <td>I am a developer by profession</td>\n",
       "      <td>Employed full-time</td>\n",
       "      <td>Austria</td>\n",
       "      <td>Master’s degree (M.A., M.S., M.Eng., MBA, etc.)</td>\n",
       "      <td>11 - 17 years</td>\n",
       "      <td>NaN</td>\n",
       "      <td>NaN</td>\n",
       "      <td>Developer, front-end</td>\n",
       "      <td>NaN</td>\n",
       "      <td>JavaScript;TypeScript</td>\n",
       "      <td>NaN</td>\n",
       "      <td>NaN</td>\n",
       "      <td>Angular;jQuery</td>\n",
       "      <td>NaN</td>\n",
       "      <td>NaN</td>\n",
       "      <td>NaN</td>\n",
       "      <td>Windows</td>\n",
       "      <td>35-44 years old</td>\n",
       "      <td>Man</td>\n",
       "      <td>No</td>\n",
       "      <td>White or of European descent</td>\n",
       "      <td>NaN</td>\n",
       "      <td>NaN</td>\n",
       "    </tr>\n",
       "    <tr>\n",
       "      <th>4</th>\n",
       "      <td>I am a developer by profession</td>\n",
       "      <td>Independent contractor, freelancer, or self-em...</td>\n",
       "      <td>United Kingdom of Great Britain and Northern I...</td>\n",
       "      <td>Master’s degree (M.A., M.S., M.Eng., MBA, etc.)</td>\n",
       "      <td>5 - 10 years</td>\n",
       "      <td>17</td>\n",
       "      <td>10</td>\n",
       "      <td>Developer, desktop or enterprise applications;...</td>\n",
       "      <td>NaN</td>\n",
       "      <td>Bash/Shell;HTML/CSS;Python;SQL</td>\n",
       "      <td>Elasticsearch;PostgreSQL;Redis</td>\n",
       "      <td>NaN</td>\n",
       "      <td>Flask</td>\n",
       "      <td>Apache Spark;Hadoop;NumPy;Pandas</td>\n",
       "      <td>Docker;Git;Kubernetes;Yarn</td>\n",
       "      <td>Atom;IPython/Jupyter;Notepad++;PyCharm;Vim</td>\n",
       "      <td>Linux-based</td>\n",
       "      <td>25-34 years old</td>\n",
       "      <td>Man</td>\n",
       "      <td>No</td>\n",
       "      <td>White or of European descent</td>\n",
       "      <td>NaN</td>\n",
       "      <td>NaN</td>\n",
       "    </tr>\n",
       "  </tbody>\n",
       "</table>\n",
       "</div>"
      ],
      "text/plain": [
       "                                          MainBranch  \\\n",
       "0                     I am a developer by profession   \n",
       "1             I am a student who is learning to code   \n",
       "2  I am not primarily a developer, but I write co...   \n",
       "3                     I am a developer by profession   \n",
       "4                     I am a developer by profession   \n",
       "\n",
       "                                          Employment  \\\n",
       "0  Independent contractor, freelancer, or self-em...   \n",
       "1                                 Student, full-time   \n",
       "2                                 Student, full-time   \n",
       "3                                 Employed full-time   \n",
       "4  Independent contractor, freelancer, or self-em...   \n",
       "\n",
       "                                             Country  \\\n",
       "0                                           Slovakia   \n",
       "1                                        Netherlands   \n",
       "2                                 Russian Federation   \n",
       "3                                            Austria   \n",
       "4  United Kingdom of Great Britain and Northern I...   \n",
       "\n",
       "                                             EdLevel     Age1stCode YearsCode  \\\n",
       "0  Secondary school (e.g. American high school, G...  18 - 24 years       NaN   \n",
       "1       Bachelor’s degree (B.A., B.S., B.Eng., etc.)  11 - 17 years         7   \n",
       "2       Bachelor’s degree (B.A., B.S., B.Eng., etc.)  11 - 17 years       NaN   \n",
       "3    Master’s degree (M.A., M.S., M.Eng., MBA, etc.)  11 - 17 years       NaN   \n",
       "4    Master’s degree (M.A., M.S., M.Eng., MBA, etc.)   5 - 10 years        17   \n",
       "\n",
       "  YearsCodePro                                            DevType  CompTotal  \\\n",
       "0          NaN                                  Developer, mobile     4800.0   \n",
       "1          NaN                                                NaN        NaN   \n",
       "2          NaN                                                NaN        NaN   \n",
       "3          NaN                               Developer, front-end        NaN   \n",
       "4           10  Developer, desktop or enterprise applications;...        NaN   \n",
       "\n",
       "                          LanguageHaveWorkedWith  \\\n",
       "0  C++;HTML/CSS;JavaScript;Objective-C;PHP;Swift   \n",
       "1                              JavaScript;Python   \n",
       "2                       Assembly;C;Python;R;Rust   \n",
       "3                          JavaScript;TypeScript   \n",
       "4                 Bash/Shell;HTML/CSS;Python;SQL   \n",
       "\n",
       "           DatabaseHaveWorkedWith PlatformHaveWorkedWith  \\\n",
       "0               PostgreSQL;SQLite                    NaN   \n",
       "1                      PostgreSQL                    NaN   \n",
       "2                          SQLite                 Heroku   \n",
       "3                             NaN                    NaN   \n",
       "4  Elasticsearch;PostgreSQL;Redis                    NaN   \n",
       "\n",
       "  WebframeHaveWorkedWith                 MiscTechHaveWorkedWith  \\\n",
       "0        Laravel;Symfony                                    NaN   \n",
       "1   Angular;Flask;Vue.js                                Cordova   \n",
       "2                  Flask  NumPy;Pandas;TensorFlow;Torch/PyTorch   \n",
       "3         Angular;jQuery                                    NaN   \n",
       "4                  Flask       Apache Spark;Hadoop;NumPy;Pandas   \n",
       "\n",
       "      ToolsTechHaveWorkedWith  \\\n",
       "0                         NaN   \n",
       "1             Docker;Git;Yarn   \n",
       "2                         NaN   \n",
       "3                         NaN   \n",
       "4  Docker;Git;Kubernetes;Yarn   \n",
       "\n",
       "                        NEWCollabToolsHaveWorkedWith        OpSys  \\\n",
       "0                                     PHPStorm;Xcode        MacOS   \n",
       "1          Android Studio;IntelliJ;Notepad++;PyCharm      Windows   \n",
       "2  IPython/Jupyter;PyCharm;RStudio;Sublime Text;V...        MacOS   \n",
       "3                                                NaN      Windows   \n",
       "4         Atom;IPython/Jupyter;Notepad++;PyCharm;Vim  Linux-based   \n",
       "\n",
       "               Age Gender Trans                     Ethnicity  \\\n",
       "0  25-34 years old    Man    No  White or of European descent   \n",
       "1  18-24 years old    Man    No  White or of European descent   \n",
       "2  18-24 years old    Man    No             Prefer not to say   \n",
       "3  35-44 years old    Man    No  White or of European descent   \n",
       "4  25-34 years old    Man    No  White or of European descent   \n",
       "\n",
       "        MentalHealth  ConvertedCompYearly  \n",
       "0  None of the above              62268.0  \n",
       "1  None of the above                  NaN  \n",
       "2  None of the above                  NaN  \n",
       "3                NaN                  NaN  \n",
       "4                NaN                  NaN  "
      ]
     },
     "execution_count": 8,
     "metadata": {},
     "output_type": "execute_result"
    }
   ],
   "source": [
    "so2021_data = so2021_df[['MainBranch', 'Employment', 'Country', 'EdLevel', 'Age1stCode', 'YearsCode', 'YearsCodePro', 'DevType', 'CompTotal', 'LanguageHaveWorkedWith', 'DatabaseHaveWorkedWith', 'PlatformHaveWorkedWith', 'WebframeHaveWorkedWith', 'MiscTechHaveWorkedWith', 'ToolsTechHaveWorkedWith', 'NEWCollabToolsHaveWorkedWith', 'OpSys', 'Age', 'Gender', 'Trans', 'Ethnicity', 'MentalHealth', 'ConvertedCompYearly']]\n",
    "so2021_data.head(5)"
   ]
  },
  {
   "cell_type": "code",
   "execution_count": 11,
   "metadata": {},
   "outputs": [
    {
     "data": {
      "text/plain": [
       "(83439, 23)"
      ]
     },
     "execution_count": 11,
     "metadata": {},
     "output_type": "execute_result"
    }
   ],
   "source": [
    "so2021_data.shape"
   ]
  },
  {
   "cell_type": "code",
   "execution_count": 12,
   "metadata": {},
   "outputs": [
    {
     "name": "stdout",
     "output_type": "stream",
     "text": [
      "<class 'pandas.core.frame.DataFrame'>\n",
      "RangeIndex: 83439 entries, 0 to 83438\n",
      "Data columns (total 23 columns):\n",
      " #   Column                        Non-Null Count  Dtype  \n",
      "---  ------                        --------------  -----  \n",
      " 0   MainBranch                    83439 non-null  object \n",
      " 1   Employment                    83323 non-null  object \n",
      " 2   Country                       83439 non-null  object \n",
      " 3   EdLevel                       83126 non-null  object \n",
      " 4   Age1stCode                    83243 non-null  object \n",
      " 5   YearsCode                     81641 non-null  object \n",
      " 6   YearsCodePro                  61216 non-null  object \n",
      " 7   DevType                       66484 non-null  object \n",
      " 8   CompTotal                     47183 non-null  float64\n",
      " 9   LanguageHaveWorkedWith        82357 non-null  object \n",
      " 10  DatabaseHaveWorkedWith        69546 non-null  object \n",
      " 11  PlatformHaveWorkedWith        52135 non-null  object \n",
      " 12  WebframeHaveWorkedWith        61707 non-null  object \n",
      " 13  MiscTechHaveWorkedWith        47055 non-null  object \n",
      " 14  ToolsTechHaveWorkedWith       72537 non-null  object \n",
      " 15  NEWCollabToolsHaveWorkedWith  81234 non-null  object \n",
      " 16  OpSys                         83294 non-null  object \n",
      " 17  Age                           82407 non-null  object \n",
      " 18  Gender                        82286 non-null  object \n",
      " 19  Trans                         80678 non-null  object \n",
      " 20  Ethnicity                     79464 non-null  object \n",
      " 21  MentalHealth                  76920 non-null  object \n",
      " 22  ConvertedCompYearly           46844 non-null  float64\n",
      "dtypes: float64(2), object(21)\n",
      "memory usage: 14.6+ MB\n"
     ]
    }
   ],
   "source": [
    "so2021_data.info()"
   ]
  },
  {
   "cell_type": "code",
   "execution_count": 13,
   "metadata": {},
   "outputs": [
    {
     "data": {
      "text/plain": [
       "True"
      ]
     },
     "execution_count": 13,
     "metadata": {},
     "output_type": "execute_result"
    }
   ],
   "source": [
    "so2021_data.isnull().values.any() #valores perdidos en dataset"
   ]
  },
  {
   "cell_type": "code",
   "execution_count": 14,
   "metadata": {},
   "outputs": [
    {
     "data": {
      "text/plain": [
       "MainBranch                      False\n",
       "Employment                       True\n",
       "Country                         False\n",
       "EdLevel                          True\n",
       "Age1stCode                       True\n",
       "YearsCode                        True\n",
       "YearsCodePro                     True\n",
       "DevType                          True\n",
       "CompTotal                        True\n",
       "LanguageHaveWorkedWith           True\n",
       "DatabaseHaveWorkedWith           True\n",
       "PlatformHaveWorkedWith           True\n",
       "WebframeHaveWorkedWith           True\n",
       "MiscTechHaveWorkedWith           True\n",
       "ToolsTechHaveWorkedWith          True\n",
       "NEWCollabToolsHaveWorkedWith     True\n",
       "OpSys                            True\n",
       "Age                              True\n",
       "Gender                           True\n",
       "Trans                            True\n",
       "Ethnicity                        True\n",
       "MentalHealth                     True\n",
       "ConvertedCompYearly              True\n",
       "dtype: bool"
      ]
     },
     "execution_count": 14,
     "metadata": {},
     "output_type": "execute_result"
    }
   ],
   "source": [
    "so2021_data.isnull().any() # valores perdidos por columnas en el dataset"
   ]
  },
  {
   "cell_type": "code",
   "execution_count": 157,
   "metadata": {},
   "outputs": [],
   "source": [
    "data = so2021_data.dropna()"
   ]
  },
  {
   "cell_type": "code",
   "execution_count": 158,
   "metadata": {},
   "outputs": [
    {
     "data": {
      "text/plain": [
       "MainBranch                      False\n",
       "Employment                      False\n",
       "Country                         False\n",
       "EdLevel                         False\n",
       "Age1stCode                      False\n",
       "YearsCode                       False\n",
       "YearsCodePro                    False\n",
       "DevType                         False\n",
       "CompTotal                       False\n",
       "LanguageHaveWorkedWith          False\n",
       "DatabaseHaveWorkedWith          False\n",
       "PlatformHaveWorkedWith          False\n",
       "WebframeHaveWorkedWith          False\n",
       "MiscTechHaveWorkedWith          False\n",
       "ToolsTechHaveWorkedWith         False\n",
       "NEWCollabToolsHaveWorkedWith    False\n",
       "OpSys                           False\n",
       "Age                             False\n",
       "Gender                          False\n",
       "Trans                           False\n",
       "Ethnicity                       False\n",
       "MentalHealth                    False\n",
       "ConvertedCompYearly             False\n",
       "dtype: bool"
      ]
     },
     "execution_count": 158,
     "metadata": {},
     "output_type": "execute_result"
    }
   ],
   "source": [
    "data.isnull().any() # valores perdidos por columnas en el dataset"
   ]
  },
  {
   "cell_type": "code",
   "execution_count": 159,
   "metadata": {},
   "outputs": [
    {
     "name": "stdout",
     "output_type": "stream",
     "text": [
      "<class 'pandas.core.frame.DataFrame'>\n",
      "Int64Index: 15173 entries, 45 to 83437\n",
      "Data columns (total 23 columns):\n",
      " #   Column                        Non-Null Count  Dtype  \n",
      "---  ------                        --------------  -----  \n",
      " 0   MainBranch                    15173 non-null  object \n",
      " 1   Employment                    15173 non-null  object \n",
      " 2   Country                       15173 non-null  object \n",
      " 3   EdLevel                       15173 non-null  object \n",
      " 4   Age1stCode                    15173 non-null  object \n",
      " 5   YearsCode                     15173 non-null  object \n",
      " 6   YearsCodePro                  15173 non-null  object \n",
      " 7   DevType                       15173 non-null  object \n",
      " 8   CompTotal                     15173 non-null  float64\n",
      " 9   LanguageHaveWorkedWith        15173 non-null  object \n",
      " 10  DatabaseHaveWorkedWith        15173 non-null  object \n",
      " 11  PlatformHaveWorkedWith        15173 non-null  object \n",
      " 12  WebframeHaveWorkedWith        15173 non-null  object \n",
      " 13  MiscTechHaveWorkedWith        15173 non-null  object \n",
      " 14  ToolsTechHaveWorkedWith       15173 non-null  object \n",
      " 15  NEWCollabToolsHaveWorkedWith  15173 non-null  object \n",
      " 16  OpSys                         15173 non-null  object \n",
      " 17  Age                           15173 non-null  object \n",
      " 18  Gender                        15173 non-null  object \n",
      " 19  Trans                         15173 non-null  object \n",
      " 20  Ethnicity                     15173 non-null  object \n",
      " 21  MentalHealth                  15173 non-null  object \n",
      " 22  ConvertedCompYearly           15173 non-null  float64\n",
      "dtypes: float64(2), object(21)\n",
      "memory usage: 2.8+ MB\n"
     ]
    }
   ],
   "source": [
    "data.info()"
   ]
  },
  {
   "cell_type": "code",
   "execution_count": 160,
   "metadata": {
    "scrolled": true
   },
   "outputs": [
    {
     "data": {
      "text/html": [
       "<div>\n",
       "<style scoped>\n",
       "    .dataframe tbody tr th:only-of-type {\n",
       "        vertical-align: middle;\n",
       "    }\n",
       "\n",
       "    .dataframe tbody tr th {\n",
       "        vertical-align: top;\n",
       "    }\n",
       "\n",
       "    .dataframe thead th {\n",
       "        text-align: right;\n",
       "    }\n",
       "</style>\n",
       "<table border=\"1\" class=\"dataframe\">\n",
       "  <thead>\n",
       "    <tr style=\"text-align: right;\">\n",
       "      <th></th>\n",
       "      <th>MainBranch</th>\n",
       "      <th>Employment</th>\n",
       "      <th>Country</th>\n",
       "      <th>EdLevel</th>\n",
       "      <th>Age1stCode</th>\n",
       "      <th>YearsCode</th>\n",
       "      <th>YearsCodePro</th>\n",
       "      <th>DevType</th>\n",
       "      <th>CompTotal</th>\n",
       "      <th>LanguageHaveWorkedWith</th>\n",
       "      <th>DatabaseHaveWorkedWith</th>\n",
       "      <th>PlatformHaveWorkedWith</th>\n",
       "      <th>WebframeHaveWorkedWith</th>\n",
       "      <th>MiscTechHaveWorkedWith</th>\n",
       "      <th>ToolsTechHaveWorkedWith</th>\n",
       "      <th>NEWCollabToolsHaveWorkedWith</th>\n",
       "      <th>OpSys</th>\n",
       "      <th>Age</th>\n",
       "      <th>Gender</th>\n",
       "      <th>Trans</th>\n",
       "      <th>Ethnicity</th>\n",
       "      <th>MentalHealth</th>\n",
       "      <th>ConvertedCompYearly</th>\n",
       "    </tr>\n",
       "  </thead>\n",
       "  <tbody>\n",
       "    <tr>\n",
       "      <th>45</th>\n",
       "      <td>I am a developer by profession</td>\n",
       "      <td>Employed full-time</td>\n",
       "      <td>Brazil</td>\n",
       "      <td>Bachelor’s degree (B.A., B.S., B.Eng., etc.)</td>\n",
       "      <td>11 - 17 years</td>\n",
       "      <td>22</td>\n",
       "      <td>15</td>\n",
       "      <td>Developer, desktop or enterprise applications;...</td>\n",
       "      <td>22000.0</td>\n",
       "      <td>C#;C++;JavaScript;PowerShell;SQL;TypeScript</td>\n",
       "      <td>Microsoft SQL Server;PostgreSQL;Redis</td>\n",
       "      <td>Heroku;Microsoft Azure</td>\n",
       "      <td>ASP.NET Core ;React.js</td>\n",
       "      <td>.NET Core / .NET 5</td>\n",
       "      <td>Docker;Git;Kubernetes</td>\n",
       "      <td>Notepad++;Visual Studio;Visual Studio Code</td>\n",
       "      <td>Windows</td>\n",
       "      <td>35-44 years old</td>\n",
       "      <td>Man</td>\n",
       "      <td>No</td>\n",
       "      <td>White or of European descent</td>\n",
       "      <td>I have a mood or emotional disorder (e.g. depr...</td>\n",
       "      <td>60480.0</td>\n",
       "    </tr>\n",
       "    <tr>\n",
       "      <th>50</th>\n",
       "      <td>I am a developer by profession</td>\n",
       "      <td>Employed full-time</td>\n",
       "      <td>Greece</td>\n",
       "      <td>Bachelor’s degree (B.A., B.S., B.Eng., etc.)</td>\n",
       "      <td>18 - 24 years</td>\n",
       "      <td>12</td>\n",
       "      <td>6</td>\n",
       "      <td>Developer, full-stack</td>\n",
       "      <td>2000.0</td>\n",
       "      <td>C#;HTML/CSS;JavaScript;Node.js;PowerShell;Type...</td>\n",
       "      <td>Couchbase;MariaDB;Microsoft SQL Server;MongoDB...</td>\n",
       "      <td>AWS;DigitalOcean;Microsoft Azure</td>\n",
       "      <td>Angular;ASP.NET;ASP.NET Core ;Express;Svelte</td>\n",
       "      <td>.NET Framework;.NET Core / .NET 5</td>\n",
       "      <td>Docker;Kubernetes</td>\n",
       "      <td>Notepad++;Visual Studio;Visual Studio Code</td>\n",
       "      <td>Windows</td>\n",
       "      <td>25-34 years old</td>\n",
       "      <td>Man</td>\n",
       "      <td>No</td>\n",
       "      <td>White or of European descent</td>\n",
       "      <td>None of the above</td>\n",
       "      <td>25944.0</td>\n",
       "    </tr>\n",
       "    <tr>\n",
       "      <th>58</th>\n",
       "      <td>I am not primarily a developer, but I write co...</td>\n",
       "      <td>Employed full-time</td>\n",
       "      <td>Russian Federation</td>\n",
       "      <td>Professional degree (JD, MD, etc.)</td>\n",
       "      <td>11 - 17 years</td>\n",
       "      <td>5</td>\n",
       "      <td>3</td>\n",
       "      <td>Developer, full-stack;Data scientist or machin...</td>\n",
       "      <td>120000.0</td>\n",
       "      <td>Bash/Shell;HTML/CSS;JavaScript;Python;SQL</td>\n",
       "      <td>Oracle</td>\n",
       "      <td>Heroku</td>\n",
       "      <td>Django;FastAPI;Vue.js</td>\n",
       "      <td>NumPy;Pandas;Torch/PyTorch</td>\n",
       "      <td>Docker;Git</td>\n",
       "      <td>IPython/Jupyter;Visual Studio Code</td>\n",
       "      <td>Linux-based</td>\n",
       "      <td>25-34 years old</td>\n",
       "      <td>Man</td>\n",
       "      <td>No</td>\n",
       "      <td>White or of European descent</td>\n",
       "      <td>None of the above</td>\n",
       "      <td>22644.0</td>\n",
       "    </tr>\n",
       "    <tr>\n",
       "      <th>64</th>\n",
       "      <td>I am not primarily a developer, but I write co...</td>\n",
       "      <td>Independent contractor, freelancer, or self-em...</td>\n",
       "      <td>United States of America</td>\n",
       "      <td>Master’s degree (M.A., M.S., M.Eng., MBA, etc.)</td>\n",
       "      <td>11 - 17 years</td>\n",
       "      <td>6</td>\n",
       "      <td>5</td>\n",
       "      <td>Developer, front-end;Developer, desktop or ent...</td>\n",
       "      <td>500000.0</td>\n",
       "      <td>HTML/CSS;JavaScript;Python</td>\n",
       "      <td>MySQL</td>\n",
       "      <td>AWS</td>\n",
       "      <td>Flask</td>\n",
       "      <td>Pandas</td>\n",
       "      <td>Git</td>\n",
       "      <td>Notepad++;PyCharm;Sublime Text</td>\n",
       "      <td>Linux-based</td>\n",
       "      <td>35-44 years old</td>\n",
       "      <td>Man</td>\n",
       "      <td>No</td>\n",
       "      <td>White or of European descent</td>\n",
       "      <td>None of the above</td>\n",
       "      <td>500000.0</td>\n",
       "    </tr>\n",
       "    <tr>\n",
       "      <th>76</th>\n",
       "      <td>I am not primarily a developer, but I write co...</td>\n",
       "      <td>Employed full-time</td>\n",
       "      <td>Poland</td>\n",
       "      <td>Bachelor’s degree (B.A., B.S., B.Eng., etc.)</td>\n",
       "      <td>11 - 17 years</td>\n",
       "      <td>12</td>\n",
       "      <td>8</td>\n",
       "      <td>Developer, front-end;Developer, full-stack;Dev...</td>\n",
       "      <td>15000.0</td>\n",
       "      <td>Bash/Shell;C#;Dart;Delphi;Go;HTML/CSS;Java;Jav...</td>\n",
       "      <td>Firebase;Microsoft SQL Server;MongoDB;MySQL;Po...</td>\n",
       "      <td>Google Cloud Platform;Microsoft Azure</td>\n",
       "      <td>Angular;Angular.js;ASP.NET;ASP.NET Core ;Djang...</td>\n",
       "      <td>.NET Framework;.NET Core / .NET 5;Apache Spark...</td>\n",
       "      <td>Docker;Git;Unity 3D</td>\n",
       "      <td>Android Studio;Eclipse;NetBeans;Notepad++;Visu...</td>\n",
       "      <td>Linux-based</td>\n",
       "      <td>25-34 years old</td>\n",
       "      <td>Man</td>\n",
       "      <td>No</td>\n",
       "      <td>White or of European descent</td>\n",
       "      <td>None of the above</td>\n",
       "      <td>45564.0</td>\n",
       "    </tr>\n",
       "  </tbody>\n",
       "</table>\n",
       "</div>"
      ],
      "text/plain": [
       "                                           MainBranch  \\\n",
       "45                     I am a developer by profession   \n",
       "50                     I am a developer by profession   \n",
       "58  I am not primarily a developer, but I write co...   \n",
       "64  I am not primarily a developer, but I write co...   \n",
       "76  I am not primarily a developer, but I write co...   \n",
       "\n",
       "                                           Employment  \\\n",
       "45                                 Employed full-time   \n",
       "50                                 Employed full-time   \n",
       "58                                 Employed full-time   \n",
       "64  Independent contractor, freelancer, or self-em...   \n",
       "76                                 Employed full-time   \n",
       "\n",
       "                     Country                                          EdLevel  \\\n",
       "45                    Brazil     Bachelor’s degree (B.A., B.S., B.Eng., etc.)   \n",
       "50                    Greece     Bachelor’s degree (B.A., B.S., B.Eng., etc.)   \n",
       "58        Russian Federation               Professional degree (JD, MD, etc.)   \n",
       "64  United States of America  Master’s degree (M.A., M.S., M.Eng., MBA, etc.)   \n",
       "76                    Poland     Bachelor’s degree (B.A., B.S., B.Eng., etc.)   \n",
       "\n",
       "       Age1stCode YearsCode YearsCodePro  \\\n",
       "45  11 - 17 years        22           15   \n",
       "50  18 - 24 years        12            6   \n",
       "58  11 - 17 years         5            3   \n",
       "64  11 - 17 years         6            5   \n",
       "76  11 - 17 years        12            8   \n",
       "\n",
       "                                              DevType  CompTotal  \\\n",
       "45  Developer, desktop or enterprise applications;...    22000.0   \n",
       "50                              Developer, full-stack     2000.0   \n",
       "58  Developer, full-stack;Data scientist or machin...   120000.0   \n",
       "64  Developer, front-end;Developer, desktop or ent...   500000.0   \n",
       "76  Developer, front-end;Developer, full-stack;Dev...    15000.0   \n",
       "\n",
       "                               LanguageHaveWorkedWith  \\\n",
       "45        C#;C++;JavaScript;PowerShell;SQL;TypeScript   \n",
       "50  C#;HTML/CSS;JavaScript;Node.js;PowerShell;Type...   \n",
       "58          Bash/Shell;HTML/CSS;JavaScript;Python;SQL   \n",
       "64                         HTML/CSS;JavaScript;Python   \n",
       "76  Bash/Shell;C#;Dart;Delphi;Go;HTML/CSS;Java;Jav...   \n",
       "\n",
       "                               DatabaseHaveWorkedWith  \\\n",
       "45              Microsoft SQL Server;PostgreSQL;Redis   \n",
       "50  Couchbase;MariaDB;Microsoft SQL Server;MongoDB...   \n",
       "58                                             Oracle   \n",
       "64                                              MySQL   \n",
       "76  Firebase;Microsoft SQL Server;MongoDB;MySQL;Po...   \n",
       "\n",
       "                   PlatformHaveWorkedWith  \\\n",
       "45                 Heroku;Microsoft Azure   \n",
       "50       AWS;DigitalOcean;Microsoft Azure   \n",
       "58                                 Heroku   \n",
       "64                                    AWS   \n",
       "76  Google Cloud Platform;Microsoft Azure   \n",
       "\n",
       "                               WebframeHaveWorkedWith  \\\n",
       "45                             ASP.NET Core ;React.js   \n",
       "50       Angular;ASP.NET;ASP.NET Core ;Express;Svelte   \n",
       "58                              Django;FastAPI;Vue.js   \n",
       "64                                              Flask   \n",
       "76  Angular;Angular.js;ASP.NET;ASP.NET Core ;Djang...   \n",
       "\n",
       "                               MiscTechHaveWorkedWith ToolsTechHaveWorkedWith  \\\n",
       "45                                 .NET Core / .NET 5   Docker;Git;Kubernetes   \n",
       "50                  .NET Framework;.NET Core / .NET 5       Docker;Kubernetes   \n",
       "58                         NumPy;Pandas;Torch/PyTorch              Docker;Git   \n",
       "64                                             Pandas                     Git   \n",
       "76  .NET Framework;.NET Core / .NET 5;Apache Spark...     Docker;Git;Unity 3D   \n",
       "\n",
       "                         NEWCollabToolsHaveWorkedWith        OpSys  \\\n",
       "45         Notepad++;Visual Studio;Visual Studio Code      Windows   \n",
       "50         Notepad++;Visual Studio;Visual Studio Code      Windows   \n",
       "58                 IPython/Jupyter;Visual Studio Code  Linux-based   \n",
       "64                     Notepad++;PyCharm;Sublime Text  Linux-based   \n",
       "76  Android Studio;Eclipse;NetBeans;Notepad++;Visu...  Linux-based   \n",
       "\n",
       "                Age Gender Trans                     Ethnicity  \\\n",
       "45  35-44 years old    Man    No  White or of European descent   \n",
       "50  25-34 years old    Man    No  White or of European descent   \n",
       "58  25-34 years old    Man    No  White or of European descent   \n",
       "64  35-44 years old    Man    No  White or of European descent   \n",
       "76  25-34 years old    Man    No  White or of European descent   \n",
       "\n",
       "                                         MentalHealth  ConvertedCompYearly  \n",
       "45  I have a mood or emotional disorder (e.g. depr...              60480.0  \n",
       "50                                  None of the above              25944.0  \n",
       "58                                  None of the above              22644.0  \n",
       "64                                  None of the above             500000.0  \n",
       "76                                  None of the above              45564.0  "
      ]
     },
     "execution_count": 160,
     "metadata": {},
     "output_type": "execute_result"
    }
   ],
   "source": [
    "data.head()"
   ]
  },
  {
   "cell_type": "code",
   "execution_count": 174,
   "metadata": {},
   "outputs": [],
   "source": [
    "data.to_csv('data.csv', index=False)"
   ]
  },
  {
   "cell_type": "code",
   "execution_count": 293,
   "metadata": {},
   "outputs": [],
   "source": [
    "data_test = data.copy()"
   ]
  },
  {
   "cell_type": "code",
   "execution_count": 295,
   "metadata": {},
   "outputs": [],
   "source": [
    "data_test.to_csv('data_test.csv', index=False)"
   ]
  },
  {
   "cell_type": "markdown",
   "metadata": {},
   "source": [
    "<div style=\"background-color: #EDF7FF; border-color: #7C9DBF; border-left: 5px solid #7C9DBF; padding: 0.5em;\">\n",
    "<strong>Variable Ethnicity:</strong>.\n",
    "</div>"
   ]
  },
  {
   "cell_type": "code",
   "execution_count": 296,
   "metadata": {},
   "outputs": [],
   "source": [
    "from re import search\n",
    "\n",
    "def choose_ethnia(cell_ethnia):\n",
    "    val_ethnia_exceptions = [\"I don't know\", \"Or, in your own words:\"]\n",
    "    \n",
    "    if cell_ethnia == \"I don't know;Or, in your own words:\":\n",
    "        return val_ethnia_exceptions[0]\n",
    "    \n",
    "    if search(\";\", cell_ethnia):\n",
    "        row_ethnia_values = cell_ethnia.split(';', 5)\n",
    "        first_val = row_ethnia_values[0]\n",
    "\n",
    "        if first_val not in val_ethnia_exceptions:\n",
    "            return first_val\n",
    "\n",
    "        if len(row_ethnia_values) > 1:\n",
    "            if row_ethnia_values[1] not in val_ethnia_exceptions:\n",
    "                return row_ethnia_values[1]\n",
    "\n",
    "        if len(row_ethnia_values) > 2:\n",
    "            if row_ethnia_values[2] not in val_ethnia_exceptions:\n",
    "                return row_ethnia_values[2]\n",
    "    else:\n",
    "        return cell_ethnia"
   ]
  },
  {
   "cell_type": "code",
   "execution_count": 297,
   "metadata": {},
   "outputs": [],
   "source": [
    "data_test['Ethnicity'] = data_test['Ethnicity'].apply(choose_ethnia)"
   ]
  },
  {
   "cell_type": "code",
   "execution_count": 299,
   "metadata": {},
   "outputs": [],
   "source": [
    "data_test.drop(index=data_test[data_test['Ethnicity'] == 'Or, in your own words:'].index, inplace=True)"
   ]
  },
  {
   "cell_type": "code",
   "execution_count": 300,
   "metadata": {},
   "outputs": [],
   "source": [
    "data_test.drop(index=data_test[data_test['Ethnicity'] == 'Prefer not to say'].index, inplace=True)"
   ]
  },
  {
   "cell_type": "code",
   "execution_count": 301,
   "metadata": {},
   "outputs": [
    {
     "data": {
      "text/plain": [
       "7670                                             Biracial\n",
       "109                           Black or of African descent\n",
       "122                                            East Asian\n",
       "201                                Hispanic or Latino/a/x\n",
       "465                                          I don't know\n",
       "4719    Indigenous (such as Native American, Pacific I...\n",
       "188                                        Middle Eastern\n",
       "318                                           Multiracial\n",
       "243                                           South Asian\n",
       "186                                       Southeast Asian\n",
       "45                           White or of European descent\n",
       "Name: Ethnicity, dtype: object"
      ]
     },
     "execution_count": 301,
     "metadata": {},
     "output_type": "execute_result"
    }
   ],
   "source": [
    "data_test['Ethnicity'].drop_duplicates().sort_values()"
   ]
  },
  {
   "cell_type": "code",
   "execution_count": 302,
   "metadata": {},
   "outputs": [],
   "source": [
    "data_test['Ethnicity'] = data_test['Ethnicity'].replace(['Black or of African descent'], 'Negro')\n",
    "data_test['Ethnicity'] = data_test['Ethnicity'].replace(['East Asian'], 'Asiatico del este')\n",
    "data_test['Ethnicity'] = data_test['Ethnicity'].replace(['Hispanic or Latino/a/x'], 'Latino')\n",
    "data_test['Ethnicity'] = data_test['Ethnicity'].replace([\"I don't know\"], 'No Definido')\n",
    "data_test['Ethnicity'] = data_test['Ethnicity'].replace(['Indigenous (such as Native American, Pacific Islander, or Indigenous Australian)'], 'Indigena')\n",
    "data_test['Ethnicity'] = data_test['Ethnicity'].replace(['Middle Eastern'], 'Medio Oriente')\n",
    "data_test['Ethnicity'] = data_test['Ethnicity'].replace(['South Asian'], 'Asiatico del Sur')\n",
    "data_test['Ethnicity'] = data_test['Ethnicity'].replace(['Southeast Asian'], 'Asiatico del Sudeste')\n",
    "data_test['Ethnicity'] = data_test['Ethnicity'].replace(['White or of European descent'], 'Blanco o Europeo')"
   ]
  },
  {
   "cell_type": "code",
   "execution_count": 303,
   "metadata": {},
   "outputs": [
    {
     "data": {
      "text/plain": [
       "186     Asiatico del Sudeste\n",
       "243         Asiatico del Sur\n",
       "122        Asiatico del este\n",
       "7670                Biracial\n",
       "45          Blanco o Europeo\n",
       "4719                Indigena\n",
       "201                   Latino\n",
       "188            Medio Oriente\n",
       "318              Multiracial\n",
       "109                    Negro\n",
       "465              No Definido\n",
       "Name: Ethnicity, dtype: object"
      ]
     },
     "execution_count": 303,
     "metadata": {},
     "output_type": "execute_result"
    }
   ],
   "source": [
    "data_test['Ethnicity'].drop_duplicates().sort_values()"
   ]
  },
  {
   "cell_type": "code",
   "execution_count": 304,
   "metadata": {},
   "outputs": [],
   "source": [
    "data_test.to_csv('data_test.csv', index=False)"
   ]
  },
  {
   "cell_type": "markdown",
   "metadata": {},
   "source": [
    "<div style=\"background-color: #EDF7FF; border-color: #7C9DBF; border-left: 5px solid #7C9DBF; padding: 0.5em;\">\n",
    "<strong>Variable Employment:</strong>.\n",
    "</div>"
   ]
  },
  {
   "cell_type": "code",
   "execution_count": 305,
   "metadata": {},
   "outputs": [
    {
     "data": {
      "text/plain": [
       "45                                   Employed full-time\n",
       "83                                   Employed part-time\n",
       "64    Independent contractor, freelancer, or self-em...\n",
       "Name: Employment, dtype: object"
      ]
     },
     "execution_count": 305,
     "metadata": {},
     "output_type": "execute_result"
    }
   ],
   "source": [
    "data_test['Employment'].drop_duplicates().sort_values()"
   ]
  },
  {
   "cell_type": "code",
   "execution_count": 306,
   "metadata": {},
   "outputs": [],
   "source": [
    "data_test['Employment'] = data_test['Employment'].replace(['Employed full-time'], 'Tiempo completo')\n",
    "data_test['Employment'] = data_test['Employment'].replace(['Employed part-time'], 'Tiempo parcial')\n",
    "data_test['Employment'] = data_test['Employment'].replace(['Independent contractor, freelancer, or self-employed'], 'Independiete')"
   ]
  },
  {
   "cell_type": "code",
   "execution_count": 307,
   "metadata": {},
   "outputs": [
    {
     "data": {
      "text/plain": [
       "64       Independiete\n",
       "45    Tiempo completo\n",
       "83     Tiempo parcial\n",
       "Name: Employment, dtype: object"
      ]
     },
     "execution_count": 307,
     "metadata": {},
     "output_type": "execute_result"
    }
   ],
   "source": [
    "data_test['Employment'].drop_duplicates().sort_values()"
   ]
  },
  {
   "cell_type": "markdown",
   "metadata": {},
   "source": [
    "<div style=\"background-color: #EDF7FF; border-color: #7C9DBF; border-left: 5px solid #7C9DBF; padding: 0.5em;\">\n",
    "<strong>Variable EdLevel:</strong>.\n",
    "</div>"
   ]
  },
  {
   "cell_type": "code",
   "execution_count": 308,
   "metadata": {},
   "outputs": [
    {
     "data": {
      "text/plain": [
       "130                  Associate degree (A.A., A.S., etc.)\n",
       "45          Bachelor’s degree (B.A., B.S., B.Eng., etc.)\n",
       "64       Master’s degree (M.A., M.S., M.Eng., MBA, etc.)\n",
       "77            Other doctoral degree (Ph.D., Ed.D., etc.)\n",
       "731                            Primary/elementary school\n",
       "58                    Professional degree (JD, MD, etc.)\n",
       "380    Secondary school (e.g. American high school, G...\n",
       "110    Some college/university study without earning ...\n",
       "86                                        Something else\n",
       "Name: EdLevel, dtype: object"
      ]
     },
     "execution_count": 308,
     "metadata": {},
     "output_type": "execute_result"
    }
   ],
   "source": [
    "data_test['EdLevel'].drop_duplicates().sort_values()"
   ]
  },
  {
   "cell_type": "code",
   "execution_count": 309,
   "metadata": {},
   "outputs": [],
   "source": [
    "data_test['EdLevel'] = data_test['EdLevel'].replace(['Associate degree (A.A., A.S., etc.)'], 'Grado Asociado')\n",
    "data_test['EdLevel'] = data_test['EdLevel'].replace(['Bachelor’s degree (B.A., B.S., B.Eng., etc.)'], 'Licenciatura')\n",
    "data_test['EdLevel'] = data_test['EdLevel'].replace(['Master’s degree (M.A., M.S., M.Eng., MBA, etc.)'], 'Master')\n",
    "data_test['EdLevel'] = data_test['EdLevel'].replace(['Other doctoral degree (Ph.D., Ed.D., etc.)'], 'Doctorado')\n",
    "data_test['EdLevel'] = data_test['EdLevel'].replace(['Primary/elementary school'], 'Primaria')\n",
    "data_test['EdLevel'] = data_test['EdLevel'].replace(['Professional degree (JD, MD, etc.)'], 'Grado Profesional')\n",
    "data_test['EdLevel'] = data_test['EdLevel'].replace(['Secondary school (e.g. American high school, German Realschule or Gymnasium, etc.)'], 'Secundaria')\n",
    "data_test['EdLevel'] = data_test['EdLevel'].replace(['Some college/university study without earning a degree'], 'Estudios sin grado')\n",
    "data_test['EdLevel'] = data_test['EdLevel'].replace(['Something else'], 'Otro')"
   ]
  },
  {
   "cell_type": "code",
   "execution_count": 310,
   "metadata": {},
   "outputs": [
    {
     "data": {
      "text/plain": [
       "77              Doctorado\n",
       "110    Estudios sin grado\n",
       "130        Grado Asociado\n",
       "58      Grado Profesional\n",
       "45           Licenciatura\n",
       "64                 Master\n",
       "86                   Otro\n",
       "731              Primaria\n",
       "380            Secundaria\n",
       "Name: EdLevel, dtype: object"
      ]
     },
     "execution_count": 310,
     "metadata": {},
     "output_type": "execute_result"
    }
   ],
   "source": [
    "data_test['EdLevel'].drop_duplicates().sort_values()"
   ]
  },
  {
   "cell_type": "code",
   "execution_count": 311,
   "metadata": {},
   "outputs": [],
   "source": [
    "data_test.to_csv('data_test.csv', index=False)"
   ]
  },
  {
   "cell_type": "markdown",
   "metadata": {},
   "source": [
    "<div style=\"background-color: #EDF7FF; border-color: #7C9DBF; border-left: 5px solid #7C9DBF; padding: 0.5em;\">\n",
    "<strong>Variable DevType:</strong>.\n",
    "</div>"
   ]
  },
  {
   "cell_type": "code",
   "execution_count": 312,
   "metadata": {},
   "outputs": [
    {
     "data": {
      "text/plain": [
       "6113                                   Academic researcher\n",
       "1413          Academic researcher;Data or business analyst\n",
       "9267     Academic researcher;Database administrator;Dev...\n",
       "37989    Academic researcher;Database administrator;Sci...\n",
       "8378                 Academic researcher;DevOps specialist\n",
       "                               ...                        \n",
       "27480                                     Student;Educator\n",
       "23376                         Student;System administrator\n",
       "77415                Student;System administrator;Educator\n",
       "1317                                  System administrator\n",
       "14465                 System administrator;Product manager\n",
       "Name: DevType, Length: 3374, dtype: object"
      ]
     },
     "execution_count": 312,
     "metadata": {},
     "output_type": "execute_result"
    }
   ],
   "source": [
    "data_test['DevType'].drop_duplicates().sort_values()"
   ]
  },
  {
   "cell_type": "code",
   "execution_count": 313,
   "metadata": {},
   "outputs": [],
   "source": [
    "from re import search\n",
    "\n",
    "def choose_devtype(cell_devtype):\n",
    "    val_devtype_exceptions = [\"Other (please specify):\"]\n",
    "    \n",
    "    if cell_devtype == \"Other (please specify):\":\n",
    "        return val_devtype_exceptions[0]\n",
    "    \n",
    "    if search(\";\", cell_devtype):\n",
    "        row_devtype_values = cell_devtype.split(';', 10)\n",
    "        first_val = row_devtype_values[0]\n",
    "        \n",
    "        if first_val not in val_devtype_exceptions:\n",
    "            return first_val\n",
    "\n",
    "        if len(row_devtype_values) > 1:\n",
    "            if row_devtype_values[1] not in val_devtype_exceptions:\n",
    "                return row_devtype_values[1]    \n",
    "\n",
    "    else:\n",
    "        return cell_devtype"
   ]
  },
  {
   "cell_type": "code",
   "execution_count": 314,
   "metadata": {},
   "outputs": [],
   "source": [
    "data_test['DevType'] = data_test['DevType'].apply(choose_devtype)"
   ]
  },
  {
   "cell_type": "code",
   "execution_count": 315,
   "metadata": {},
   "outputs": [
    {
     "data": {
      "text/plain": [
       "45    Developer, desktop or enterprise applications\n",
       "50                            Developer, full-stack\n",
       "58                            Developer, full-stack\n",
       "64                             Developer, front-end\n",
       "76                             Developer, front-end\n",
       "Name: DevType, dtype: object"
      ]
     },
     "execution_count": 315,
     "metadata": {},
     "output_type": "execute_result"
    }
   ],
   "source": [
    "data_test['DevType'].head()"
   ]
  },
  {
   "cell_type": "code",
   "execution_count": 316,
   "metadata": {},
   "outputs": [
    {
     "data": {
      "text/plain": [
       "1160                               Academic researcher\n",
       "4752                          Data or business analyst\n",
       "77       Data scientist or machine learning specialist\n",
       "6237                            Database administrator\n",
       "21365                                         Designer\n",
       "4288                                 DevOps specialist\n",
       "1348                             Developer, QA or test\n",
       "86                                 Developer, back-end\n",
       "45       Developer, desktop or enterprise applications\n",
       "2517       Developer, embedded applications or devices\n",
       "64                                Developer, front-end\n",
       "50                               Developer, full-stack\n",
       "690                        Developer, game or graphics\n",
       "100                                  Developer, mobile\n",
       "15061                                         Educator\n",
       "114                                     Engineer, data\n",
       "3419                        Engineer, site reliability\n",
       "942                                Engineering manager\n",
       "17240                  Marketing or sales professional\n",
       "249                            Other (please specify):\n",
       "28419                                  Product manager\n",
       "5724                                         Scientist\n",
       "710               Senior Executive (C-Suite, VP, etc.)\n",
       "9664                                           Student\n",
       "1317                              System administrator\n",
       "Name: DevType, dtype: object"
      ]
     },
     "execution_count": 316,
     "metadata": {},
     "output_type": "execute_result"
    }
   ],
   "source": [
    "data_test['DevType'].drop_duplicates().sort_values()"
   ]
  },
  {
   "cell_type": "code",
   "execution_count": 317,
   "metadata": {},
   "outputs": [
    {
     "data": {
      "text/plain": [
       "Developer, full-stack                            4416\n",
       "Developer, front-end                             2903\n",
       "Developer, mobile                                2798\n",
       "Developer, back-end                              1484\n",
       "Developer, desktop or enterprise applications    1096\n",
       "Engineer, data                                    595\n",
       "Data scientist or machine learning specialist     408\n",
       "Other (please specify):                           137\n",
       "Engineering manager                               126\n",
       "DevOps specialist                                 107\n",
       "Senior Executive (C-Suite, VP, etc.)               74\n",
       "Academic researcher                                62\n",
       "Developer, QA or test                              59\n",
       "Data or business analyst                           48\n",
       "Developer, embedded applications or devices        41\n",
       "System administrator                               25\n",
       "Engineer, site reliability                         24\n",
       "Product manager                                    23\n",
       "Database administrator                             20\n",
       "Student                                            16\n",
       "Developer, game or graphics                        15\n",
       "Scientist                                          13\n",
       "Designer                                           10\n",
       "Educator                                           10\n",
       "Marketing or sales professional                     7\n",
       "Name: DevType, dtype: int64"
      ]
     },
     "execution_count": 317,
     "metadata": {},
     "output_type": "execute_result"
    }
   ],
   "source": [
    "data_test['DevType'].value_counts()"
   ]
  },
  {
   "cell_type": "code",
   "execution_count": 318,
   "metadata": {},
   "outputs": [],
   "source": [
    "data_test['DevType'] = data_test['DevType'].replace(['Developer, full-stack'], 'Desarrollador full-stack')\n",
    "data_test['DevType'] = data_test['DevType'].replace(['Developer, front-end'], 'Desarrollador front-end')\n",
    "data_test['DevType'] = data_test['DevType'].replace(['Developer, mobile'], 'Desarrollador móvil')\n",
    "data_test['DevType'] = data_test['DevType'].replace(['Developer, back-end'], 'Desarrollador back-end')\n",
    "data_test['DevType'] = data_test['DevType'].replace(['Developer, desktop or enterprise applications'], 'Desarrollador Escritorio')\n",
    "data_test['DevType'] = data_test['DevType'].replace(['Engineer, data'], 'Ingeniero de datos')\n",
    "data_test['DevType'] = data_test['DevType'].replace(['Data scientist or machine learning specialist'], 'Cientifico de datos')\n",
    "data_test['DevType'] = data_test['DevType'].replace(['Other (please specify):'], 'Otro')\n",
    "data_test['DevType'] = data_test['DevType'].replace(['Engineering manager'], 'Manager de Ingeniería')\n",
    "data_test['DevType'] = data_test['DevType'].replace(['DevOps specialist'], 'Especialista en DevOps')\n",
    "data_test['DevType'] = data_test['DevType'].replace(['Senior Executive (C-Suite, VP, etc.)'], 'Ejecutivo Senior')\n",
    "data_test['DevType'] = data_test['DevType'].replace(['Academic researcher'], 'Investigador Académico')\n",
    "data_test['DevType'] = data_test['DevType'].replace(['Developer, QA or test'], 'Desarrollador de QA o Test')\n",
    "data_test['DevType'] = data_test['DevType'].replace(['Data or business analyst'], 'Analista de datos o negocio')\n",
    "data_test['DevType'] = data_test['DevType'].replace(['Developer, embedded applications or devices'], 'Desarrollador de aplicaciones embebidas')\n",
    "data_test['DevType'] = data_test['DevType'].replace(['System administrator'], 'Administrador de sistemas')\n",
    "data_test['DevType'] = data_test['DevType'].replace(['Engineer, site reliability'], 'Ingeniero de confiabilidad del sitio')\n",
    "data_test['DevType'] = data_test['DevType'].replace(['Product manager'], 'Gerente de producto')\n",
    "data_test['DevType'] = data_test['DevType'].replace(['Database administrator'], 'Administrador de base de datos')\n",
    "data_test['DevType'] = data_test['DevType'].replace(['Student'], 'Estudiante')\n",
    "data_test['DevType'] = data_test['DevType'].replace(['Developer, game or graphics'], 'Desarrollador de juegos o gráfico')\n",
    "data_test['DevType'] = data_test['DevType'].replace(['Scientist'], 'Científico')\n",
    "data_test['DevType'] = data_test['DevType'].replace(['Designer'], 'Diseñador')\n",
    "data_test['DevType'] = data_test['DevType'].replace(['Educator'], 'Educador')\n",
    "data_test['DevType'] = data_test['DevType'].replace(['Marketing or sales professional'], 'Profesional en Marketing o ventas')"
   ]
  },
  {
   "cell_type": "code",
   "execution_count": 319,
   "metadata": {},
   "outputs": [
    {
     "data": {
      "text/plain": [
       "6237              Administrador de base de datos\n",
       "1317                   Administrador de sistemas\n",
       "4752                 Analista de datos o negocio\n",
       "77                           Cientifico de datos\n",
       "5724                                  Científico\n",
       "45                      Desarrollador Escritorio\n",
       "86                        Desarrollador back-end\n",
       "1348                  Desarrollador de QA o Test\n",
       "2517     Desarrollador de aplicaciones embebidas\n",
       "690            Desarrollador de juegos o gráfico\n",
       "64                       Desarrollador front-end\n",
       "50                      Desarrollador full-stack\n",
       "100                          Desarrollador móvil\n",
       "21365                                  Diseñador\n",
       "15061                                   Educador\n",
       "710                             Ejecutivo Senior\n",
       "4288                      Especialista en DevOps\n",
       "9664                                  Estudiante\n",
       "28419                        Gerente de producto\n",
       "3419        Ingeniero de confiabilidad del sitio\n",
       "114                           Ingeniero de datos\n",
       "1160                      Investigador Académico\n",
       "942                        Manager de Ingeniería\n",
       "249                                         Otro\n",
       "17240          Profesional en Marketing o ventas\n",
       "Name: DevType, dtype: object"
      ]
     },
     "execution_count": 319,
     "metadata": {},
     "output_type": "execute_result"
    }
   ],
   "source": [
    "data_test['DevType'].drop_duplicates().sort_values()"
   ]
  },
  {
   "cell_type": "code",
   "execution_count": 320,
   "metadata": {},
   "outputs": [
    {
     "data": {
      "text/plain": [
       "Desarrollador full-stack                   4416\n",
       "Desarrollador front-end                    2903\n",
       "Desarrollador móvil                        2798\n",
       "Desarrollador back-end                     1484\n",
       "Desarrollador Escritorio                   1096\n",
       "Ingeniero de datos                          595\n",
       "Cientifico de datos                         408\n",
       "Otro                                        137\n",
       "Manager de Ingeniería                       126\n",
       "Especialista en DevOps                      107\n",
       "Ejecutivo Senior                             74\n",
       "Investigador Académico                       62\n",
       "Desarrollador de QA o Test                   59\n",
       "Analista de datos o negocio                  48\n",
       "Desarrollador de aplicaciones embebidas      41\n",
       "Administrador de sistemas                    25\n",
       "Ingeniero de confiabilidad del sitio         24\n",
       "Gerente de producto                          23\n",
       "Administrador de base de datos               20\n",
       "Estudiante                                   16\n",
       "Desarrollador de juegos o gráfico            15\n",
       "Científico                                   13\n",
       "Diseñador                                    10\n",
       "Educador                                     10\n",
       "Profesional en Marketing o ventas             7\n",
       "Name: DevType, dtype: int64"
      ]
     },
     "execution_count": 320,
     "metadata": {},
     "output_type": "execute_result"
    }
   ],
   "source": [
    "data_test['DevType'].value_counts()"
   ]
  },
  {
   "cell_type": "markdown",
   "metadata": {},
   "source": [
    "<div style=\"background-color: #EDF7FF; border-color: #7C9DBF; border-left: 5px solid #7C9DBF; padding: 0.5em;\">\n",
    "<strong>Variable MainBranch:</strong>\n",
    "</div>"
   ]
  },
  {
   "cell_type": "code",
   "execution_count": 321,
   "metadata": {},
   "outputs": [
    {
     "data": {
      "text/plain": [
       "45                       I am a developer by profession\n",
       "58    I am not primarily a developer, but I write co...\n",
       "Name: MainBranch, dtype: object"
      ]
     },
     "execution_count": 321,
     "metadata": {},
     "output_type": "execute_result"
    }
   ],
   "source": [
    "data_test['MainBranch'].drop_duplicates().sort_values()"
   ]
  },
  {
   "cell_type": "code",
   "execution_count": 322,
   "metadata": {},
   "outputs": [],
   "source": [
    "data_test['MainBranch'] = data_test['MainBranch'].replace(['I am a developer by profession'], 'Desarrollador Profesional')\n",
    "data_test['MainBranch'] = data_test['MainBranch'].replace(['I am not primarily a developer, but I write code sometimes as part of my work'], 'Desarrollador ocasional')"
   ]
  },
  {
   "cell_type": "code",
   "execution_count": 323,
   "metadata": {},
   "outputs": [
    {
     "data": {
      "text/plain": [
       "45    Desarrollador Profesional\n",
       "58      Desarrollador ocasional\n",
       "Name: MainBranch, dtype: object"
      ]
     },
     "execution_count": 323,
     "metadata": {},
     "output_type": "execute_result"
    }
   ],
   "source": [
    "data_test['MainBranch'].drop_duplicates().sort_values()"
   ]
  },
  {
   "cell_type": "code",
   "execution_count": 324,
   "metadata": {},
   "outputs": [],
   "source": [
    "data_test.to_csv('data_test.csv', index=False)"
   ]
  },
  {
   "cell_type": "markdown",
   "metadata": {},
   "source": [
    "<div style=\"background-color: #EDF7FF; border-color: #7C9DBF; border-left: 5px solid #7C9DBF; padding: 0.5em;\">\n",
    "<strong>Variable Age1stCode:</strong>\n",
    "</div>"
   ]
  },
  {
   "cell_type": "code",
   "execution_count": 325,
   "metadata": {},
   "outputs": [
    {
     "data": {
      "text/plain": [
       "45              11 - 17 years\n",
       "50              18 - 24 years\n",
       "222             25 - 34 years\n",
       "751             35 - 44 years\n",
       "2371            45 - 54 years\n",
       "77               5 - 10 years\n",
       "2225            55 - 64 years\n",
       "37610     Older than 64 years\n",
       "188      Younger than 5 years\n",
       "Name: Age1stCode, dtype: object"
      ]
     },
     "execution_count": 325,
     "metadata": {},
     "output_type": "execute_result"
    }
   ],
   "source": [
    "data_test['Age1stCode'].drop_duplicates().sort_values()"
   ]
  },
  {
   "cell_type": "code",
   "execution_count": 326,
   "metadata": {},
   "outputs": [
    {
     "data": {
      "text/plain": [
       "11 - 17 years           8018\n",
       "18 - 24 years           3408\n",
       "5 - 10 years            2018\n",
       "25 - 34 years            639\n",
       "35 - 44 years            219\n",
       "Younger than 5 years     105\n",
       "45 - 54 years             85\n",
       "55 - 64 years             24\n",
       "Older than 64 years        1\n",
       "Name: Age1stCode, dtype: int64"
      ]
     },
     "execution_count": 326,
     "metadata": {},
     "output_type": "execute_result"
    }
   ],
   "source": [
    "data_test['Age1stCode'].value_counts()"
   ]
  },
  {
   "cell_type": "code",
   "execution_count": 327,
   "metadata": {},
   "outputs": [],
   "source": [
    "data_test['Age1stCode'] = data_test['Age1stCode'].replace(['11 - 17 years'], '11-17')\n",
    "data_test['Age1stCode'] = data_test['Age1stCode'].replace(['18 - 24 years'], '18-24')\n",
    "data_test['Age1stCode'] = data_test['Age1stCode'].replace(['25 - 34 years'], '25-34')\n",
    "data_test['Age1stCode'] = data_test['Age1stCode'].replace(['35 - 44 years'], '35-44')\n",
    "data_test['Age1stCode'] = data_test['Age1stCode'].replace(['45 - 54 years'], '45-54')\n",
    "data_test['Age1stCode'] = data_test['Age1stCode'].replace(['5 - 10 years'], '5-10')\n",
    "data_test['Age1stCode'] = data_test['Age1stCode'].replace(['55 - 64 years'], '55-64')\n",
    "data_test['Age1stCode'] = data_test['Age1stCode'].replace(['Older than 64 years'], '> 64')\n",
    "data_test['Age1stCode'] = data_test['Age1stCode'].replace(['Younger than 5 years'], '< 5')"
   ]
  },
  {
   "cell_type": "code",
   "execution_count": 328,
   "metadata": {},
   "outputs": [
    {
     "data": {
      "text/plain": [
       "11-17    8018\n",
       "18-24    3408\n",
       "5-10     2018\n",
       "25-34     639\n",
       "35-44     219\n",
       "< 5       105\n",
       "45-54      85\n",
       "55-64      24\n",
       "> 64        1\n",
       "Name: Age1stCode, dtype: int64"
      ]
     },
     "execution_count": 328,
     "metadata": {},
     "output_type": "execute_result"
    }
   ],
   "source": [
    "data_test['Age1stCode'].value_counts()"
   ]
  },
  {
   "cell_type": "markdown",
   "metadata": {},
   "source": [
    "<div style=\"background-color: #EDF7FF; border-color: #7C9DBF; border-left: 5px solid #7C9DBF; padding: 0.5em;\">\n",
    "<strong>Variable YearsCode:</strong>\n",
    "</div>"
   ]
  },
  {
   "cell_type": "code",
   "execution_count": 333,
   "metadata": {},
   "outputs": [],
   "source": [
    "data_test['YearsCode'] = data_test['YearsCode'].replace(['More than 50 years'], 50)\n",
    "data_test['YearsCode'] = data_test['YearsCode'].replace(['Less than 1 year'], 1)"
   ]
  },
  {
   "cell_type": "markdown",
   "metadata": {},
   "source": [
    "<div style=\"background-color: #EDF7FF; border-color: #7C9DBF; border-left: 5px solid #7C9DBF; padding: 0.5em;\">\n",
    "<strong>Variable YearsCodePro:</strong>\n",
    "</div>"
   ]
  },
  {
   "cell_type": "code",
   "execution_count": 334,
   "metadata": {},
   "outputs": [],
   "source": [
    "data_test['YearsCodePro'] = data_test['YearsCodePro'].replace(['More than 50 years'], 50)\n",
    "data_test['YearsCodePro'] = data_test['YearsCodePro'].replace(['Less than 1 year'], 1)"
   ]
  },
  {
   "cell_type": "markdown",
   "metadata": {},
   "source": [
    "<div style=\"background-color: #EDF7FF; border-color: #7C9DBF; border-left: 5px solid #7C9DBF; padding: 0.5em;\">\n",
    "<strong>Variable OpSys:</strong>\n",
    "</div>"
   ]
  },
  {
   "cell_type": "code",
   "execution_count": 335,
   "metadata": {},
   "outputs": [
    {
     "data": {
      "text/plain": [
       "Windows                              6770\n",
       "MacOS                                4255\n",
       "Linux-based                          2912\n",
       "Windows Subsystem for Linux (WSL)     523\n",
       "Other (please specify):                47\n",
       "BSD                                    10\n",
       "Name: OpSys, dtype: int64"
      ]
     },
     "execution_count": 335,
     "metadata": {},
     "output_type": "execute_result"
    }
   ],
   "source": [
    "data_test['OpSys'].value_counts()"
   ]
  },
  {
   "cell_type": "code",
   "execution_count": 336,
   "metadata": {},
   "outputs": [],
   "source": [
    "data_test['OpSys'] = data_test['OpSys'].replace(['Windows Subsystem for Linux (WSL)'], 'Windows')\n",
    "data_test['OpSys'] = data_test['OpSys'].replace(['Linux-based'], 'Linux')\n",
    "data_test['OpSys'] = data_test['OpSys'].replace(['Other (please specify)'], 'Otro')"
   ]
  },
  {
   "cell_type": "code",
   "execution_count": 337,
   "metadata": {},
   "outputs": [
    {
     "data": {
      "text/plain": [
       "Windows                    7293\n",
       "MacOS                      4255\n",
       "Linux                      2912\n",
       "Other (please specify):      47\n",
       "BSD                          10\n",
       "Name: OpSys, dtype: int64"
      ]
     },
     "execution_count": 337,
     "metadata": {},
     "output_type": "execute_result"
    }
   ],
   "source": [
    "data_test['OpSys'].value_counts()"
   ]
  },
  {
   "cell_type": "markdown",
   "metadata": {},
   "source": [
    "<div style=\"background-color: #EDF7FF; border-color: #7C9DBF; border-left: 5px solid #7C9DBF; padding: 0.5em;\">\n",
    "<strong>Variable Age:</strong>\n",
    "</div>"
   ]
  },
  {
   "cell_type": "code",
   "execution_count": 338,
   "metadata": {},
   "outputs": [
    {
     "data": {
      "text/plain": [
       "25-34 years old       7275\n",
       "35-44 years old       3361\n",
       "18-24 years old       2602\n",
       "45-54 years old        957\n",
       "55-64 years old        255\n",
       "Under 18 years old      35\n",
       "65 years or older       26\n",
       "Prefer not to say        6\n",
       "Name: Age, dtype: int64"
      ]
     },
     "execution_count": 338,
     "metadata": {},
     "output_type": "execute_result"
    }
   ],
   "source": [
    "data_test['Age'].value_counts()"
   ]
  },
  {
   "cell_type": "code",
   "execution_count": 339,
   "metadata": {},
   "outputs": [],
   "source": [
    "data_test['Age'] = data_test['Age'].replace(['25-34 years old'], '25-34')\n",
    "data_test['Age'] = data_test['Age'].replace(['35-44 years old'], '35-44')\n",
    "data_test['Age'] = data_test['Age'].replace(['18-24 years old'], '18-24')\n",
    "data_test['Age'] = data_test['Age'].replace(['45-54 years old'], '45-54')\n",
    "data_test['Age'] = data_test['Age'].replace(['55-64 years old'], '55-64')\n",
    "data_test['Age'] = data_test['Age'].replace(['Under 18 years old'], '< 18')\n",
    "data_test['Age'] = data_test['Age'].replace(['65 years or older'], '>= 65')\n",
    "data_test['Age'] = data_test['Age'].replace(['Prefer not to say'], 'No definido')"
   ]
  },
  {
   "cell_type": "code",
   "execution_count": 362,
   "metadata": {},
   "outputs": [],
   "source": [
    "data_test['Age'] = data_test['Age'].replace(['25-34 years old'], '25-34')"
   ]
  },
  {
   "cell_type": "code",
   "execution_count": 363,
   "metadata": {},
   "outputs": [
    {
     "data": {
      "text/plain": [
       "25-34          7275\n",
       "35-44          3361\n",
       "18-24          2602\n",
       "45-54           957\n",
       "55-64           255\n",
       "< 18             35\n",
       ">= 65            26\n",
       "No definido       6\n",
       "Name: Age, dtype: int64"
      ]
     },
     "execution_count": 363,
     "metadata": {},
     "output_type": "execute_result"
    }
   ],
   "source": [
    "data_test['Age'].value_counts()"
   ]
  },
  {
   "cell_type": "markdown",
   "metadata": {},
   "source": [
    "<div style=\"background-color: #EDF7FF; border-color: #7C9DBF; border-left: 5px solid #7C9DBF; padding: 0.5em;\">\n",
    "<strong>Variable Gender:</strong>\n",
    "</div>"
   ]
  },
  {
   "cell_type": "code",
   "execution_count": 341,
   "metadata": {},
   "outputs": [
    {
     "data": {
      "text/plain": [
       "Man                                                                                   13748\n",
       "Woman                                                                                   502\n",
       "Non-binary, genderqueer, or gender non-conforming                                        94\n",
       "Prefer not to say                                                                        53\n",
       "Man;Non-binary, genderqueer, or gender non-conforming                                    37\n",
       "Man;Or, in your own words:                                                               27\n",
       "Or, in your own words:                                                                   25\n",
       "Woman;Non-binary, genderqueer, or gender non-conforming                                  19\n",
       "Man;Woman                                                                                 5\n",
       "Man;Woman;Non-binary, genderqueer, or gender non-conforming;Or, in your own words:        3\n",
       "Non-binary, genderqueer, or gender non-conforming;Or, in your own words:                  2\n",
       "Man;Woman;Non-binary, genderqueer, or gender non-conforming                               2\n",
       "Name: Gender, dtype: int64"
      ]
     },
     "execution_count": 341,
     "metadata": {},
     "output_type": "execute_result"
    }
   ],
   "source": [
    "data_test['Gender'].value_counts()"
   ]
  },
  {
   "cell_type": "code",
   "execution_count": 342,
   "metadata": {},
   "outputs": [],
   "source": [
    "data_test['Gender'] = data_test['Gender'].replace(['Man'], 'Hombre')\n",
    "data_test['Gender'] = data_test['Gender'].replace(['Woman'], 'Mujer')\n",
    "data_test['Gender'] = data_test['Gender'].replace(['Non-binary, genderqueer, or gender non-conforming'], 'No binario u otro')\n",
    "data_test['Gender'] = data_test['Gender'].replace(['Man;Non-binary, genderqueer, or gender non-conforming'], 'No binario u otro')\n",
    "data_test['Gender'] = data_test['Gender'].replace(['Man;Or, in your own words:'], 'Hombre')\n",
    "data_test['Gender'] = data_test['Gender'].replace(['Or, in your own words:'], 'No definido')\n",
    "data_test['Gender'] = data_test['Gender'].replace(['Woman;Non-binary, genderqueer, or gender non-conforming'], 'No binario u otro')\n",
    "data_test['Gender'] = data_test['Gender'].replace(['Man;Woman'], 'No definido')\n",
    "data_test['Gender'] = data_test['Gender'].replace(['Man;Woman;Non-binary, genderqueer, or gender non-conforming;Or, in your own words:'], 'No binario u otro')\n",
    "data_test['Gender'] = data_test['Gender'].replace(['Non-binary, genderqueer, or gender non-conforming;Or, in your own words:'], 'No binario u otro')\n",
    "data_test['Gender'] = data_test['Gender'].replace(['Man;Woman;Non-binary, genderqueer, or gender non-conforming'], 'No binario u otro')"
   ]
  },
  {
   "cell_type": "code",
   "execution_count": 344,
   "metadata": {},
   "outputs": [],
   "source": [
    "data_test['Gender'] = data_test['Gender'].replace(['Prefer not to say'], 'No definido')"
   ]
  },
  {
   "cell_type": "code",
   "execution_count": 350,
   "metadata": {},
   "outputs": [
    {
     "data": {
      "text/plain": [
       "Hombre               13775\n",
       "Mujer                  502\n",
       "No binario u otro      157\n",
       "No definido             83\n",
       "Name: Gender, dtype: int64"
      ]
     },
     "execution_count": 350,
     "metadata": {},
     "output_type": "execute_result"
    }
   ],
   "source": [
    "data_test['Gender'].value_counts()"
   ]
  },
  {
   "cell_type": "markdown",
   "metadata": {},
   "source": [
    "<div style=\"background-color: #EDF7FF; border-color: #7C9DBF; border-left: 5px solid #7C9DBF; padding: 0.5em;\">\n",
    "<strong>Variable Trans:</strong>\n",
    "</div>"
   ]
  },
  {
   "cell_type": "code",
   "execution_count": 349,
   "metadata": {},
   "outputs": [
    {
     "data": {
      "text/plain": [
       "No                        14262\n",
       "Yes                         110\n",
       "Prefer not to say            88\n",
       "Or, in your own words:       57\n",
       "Name: Trans, dtype: int64"
      ]
     },
     "execution_count": 349,
     "metadata": {},
     "output_type": "execute_result"
    }
   ],
   "source": [
    "data_test['Trans'].value_counts()"
   ]
  },
  {
   "cell_type": "code",
   "execution_count": 351,
   "metadata": {},
   "outputs": [],
   "source": [
    "data_test['Trans'] = data_test['Trans'].replace(['Yes'], 'Si')\n",
    "data_test['Trans'] = data_test['Trans'].replace(['Prefer not to say'], 'No definido')\n",
    "data_test['Trans'] = data_test['Trans'].replace(['Or, in your own words:'], 'No definido')"
   ]
  },
  {
   "cell_type": "code",
   "execution_count": 352,
   "metadata": {},
   "outputs": [
    {
     "data": {
      "text/plain": [
       "No             14262\n",
       "No definido      145\n",
       "Si               110\n",
       "Name: Trans, dtype: int64"
      ]
     },
     "execution_count": 352,
     "metadata": {},
     "output_type": "execute_result"
    }
   ],
   "source": [
    "data_test['Trans'].value_counts()"
   ]
  },
  {
   "cell_type": "markdown",
   "metadata": {},
   "source": [
    "<div style=\"background-color: #EDF7FF; border-color: #7C9DBF; border-left: 5px solid #7C9DBF; padding: 0.5em;\">\n",
    "<strong>Variable MentalHealth:</strong>\n",
    "</div>"
   ]
  },
  {
   "cell_type": "code",
   "execution_count": 353,
   "metadata": {},
   "outputs": [
    {
     "data": {
      "text/plain": [
       "None of the above                                                                                                                                                                                                                                    10924\n",
       "I have a concentration and/or memory disorder (e.g. ADHD)                                                                                                                                                                                              627\n",
       "I have an anxiety disorder                                                                                                                                                                                                                             605\n",
       "I have a mood or emotional disorder (e.g. depression, bipolar disorder)                                                                                                                                                                                442\n",
       "Prefer not to say                                                                                                                                                                                                                                      396\n",
       "I have a mood or emotional disorder (e.g. depression, bipolar disorder);I have an anxiety disorder                                                                                                                                                     369\n",
       "I have autism / an autism spectrum disorder (e.g. Asperger's)                                                                                                                                                                                          206\n",
       "I have a concentration and/or memory disorder (e.g. ADHD);I have a mood or emotional disorder (e.g. depression, bipolar disorder);I have an anxiety disorder                                                                                           191\n",
       "Or, in your own words:                                                                                                                                                                                                                                 142\n",
       "I have a concentration and/or memory disorder (e.g. ADHD);I have a mood or emotional disorder (e.g. depression, bipolar disorder)                                                                                                                      137\n",
       "I have a concentration and/or memory disorder (e.g. ADHD);I have an anxiety disorder                                                                                                                                                                   131\n",
       "I have a concentration and/or memory disorder (e.g. ADHD);I have autism / an autism spectrum disorder (e.g. Asperger's)                                                                                                                                 72\n",
       "I have a concentration and/or memory disorder (e.g. ADHD);I have a mood or emotional disorder (e.g. depression, bipolar disorder);I have an anxiety disorder;I have autism / an autism spectrum disorder (e.g. Asperger's)                              63\n",
       "I have a mood or emotional disorder (e.g. depression, bipolar disorder);I have autism / an autism spectrum disorder (e.g. Asperger's)                                                                                                                   48\n",
       "I have a mood or emotional disorder (e.g. depression, bipolar disorder);I have an anxiety disorder;I have autism / an autism spectrum disorder (e.g. Asperger's)                                                                                        39\n",
       "I have an anxiety disorder;I have autism / an autism spectrum disorder (e.g. Asperger's)                                                                                                                                                                27\n",
       "I have a concentration and/or memory disorder (e.g. ADHD);I have a mood or emotional disorder (e.g. depression, bipolar disorder);I have autism / an autism spectrum disorder (e.g. Asperger's)                                                         24\n",
       "I have a concentration and/or memory disorder (e.g. ADHD);I have an anxiety disorder;I have autism / an autism spectrum disorder (e.g. Asperger's)                                                                                                      22\n",
       "I have a concentration and/or memory disorder (e.g. ADHD);Or, in your own words:                                                                                                                                                                        18\n",
       "I have a concentration and/or memory disorder (e.g. ADHD);I have a mood or emotional disorder (e.g. depression, bipolar disorder);Or, in your own words:                                                                                                 7\n",
       "I have a mood or emotional disorder (e.g. depression, bipolar disorder);Or, in your own words:                                                                                                                                                           6\n",
       "I have an anxiety disorder;Or, in your own words:                                                                                                                                                                                                        5\n",
       "I have a mood or emotional disorder (e.g. depression, bipolar disorder);I have an anxiety disorder;Or, in your own words:                                                                                                                                4\n",
       "I have a concentration and/or memory disorder (e.g. ADHD);I have a mood or emotional disorder (e.g. depression, bipolar disorder);I have an anxiety disorder;Or, in your own words:                                                                      4\n",
       "I have a concentration and/or memory disorder (e.g. ADHD);I have an anxiety disorder;Or, in your own words:                                                                                                                                              3\n",
       "I have a concentration and/or memory disorder (e.g. ADHD);I have autism / an autism spectrum disorder (e.g. Asperger's);Or, in your own words:                                                                                                           2\n",
       "I have a concentration and/or memory disorder (e.g. ADHD);I have a mood or emotional disorder (e.g. depression, bipolar disorder);I have an anxiety disorder;I have autism / an autism spectrum disorder (e.g. Asperger's);Or, in your own words:        1\n",
       "I have a concentration and/or memory disorder (e.g. ADHD);I have a mood or emotional disorder (e.g. depression, bipolar disorder);I have autism / an autism spectrum disorder (e.g. Asperger's);Or, in your own words:                                   1\n",
       "I have autism / an autism spectrum disorder (e.g. Asperger's);Or, in your own words:                                                                                                                                                                     1\n",
       "Name: MentalHealth, dtype: int64"
      ]
     },
     "execution_count": 353,
     "metadata": {},
     "output_type": "execute_result"
    }
   ],
   "source": [
    "data_test['MentalHealth'].value_counts()"
   ]
  },
  {
   "cell_type": "code",
   "execution_count": 356,
   "metadata": {},
   "outputs": [],
   "source": [
    "from re import search\n",
    "\n",
    "def choose_mental_health(cell_mental_health):\n",
    "    val_mental_health_exceptions = [\"Or, in your own words:\"]\n",
    "    \n",
    "    if cell_mental_health == \"Or, in your own words:\":\n",
    "        return val_mental_health_exceptions[0]\n",
    "    \n",
    "    if search(\";\", cell_mental_health):\n",
    "        row_mental_health_values = cell_mental_health.split(';', 10)\n",
    "        first_val = row_mental_health_values[0]\n",
    "        \n",
    "        return first_val\n",
    "    else:\n",
    "        return cell_mental_health"
   ]
  },
  {
   "cell_type": "code",
   "execution_count": 357,
   "metadata": {},
   "outputs": [],
   "source": [
    "data_test['MentalHealth'] = data_test['MentalHealth'].apply(choose_mental_health)"
   ]
  },
  {
   "cell_type": "code",
   "execution_count": 358,
   "metadata": {},
   "outputs": [
    {
     "data": {
      "text/plain": [
       "None of the above                                                          10924\n",
       "I have a concentration and/or memory disorder (e.g. ADHD)                   1303\n",
       "I have a mood or emotional disorder (e.g. depression, bipolar disorder)      908\n",
       "I have an anxiety disorder                                                   637\n",
       "Prefer not to say                                                            396\n",
       "I have autism / an autism spectrum disorder (e.g. Asperger's)                207\n",
       "Or, in your own words:                                                       142\n",
       "Name: MentalHealth, dtype: int64"
      ]
     },
     "execution_count": 358,
     "metadata": {},
     "output_type": "execute_result"
    }
   ],
   "source": [
    "data_test['MentalHealth'].value_counts()"
   ]
  },
  {
   "cell_type": "code",
   "execution_count": 359,
   "metadata": {},
   "outputs": [],
   "source": [
    "data_test['MentalHealth'] = data_test['MentalHealth'].replace(['None of the above'], 'Ninguna de las mencionadas')\n",
    "data_test['MentalHealth'] = data_test['MentalHealth'].replace(['I have a concentration and/or memory disorder (e.g. ADHD)'], 'Desorden de concentración o memoria')\n",
    "data_test['MentalHealth'] = data_test['MentalHealth'].replace(['I have a mood or emotional disorder (e.g. depression, bipolar disorder)'], 'Desorden emocional')\n",
    "data_test['MentalHealth'] = data_test['MentalHealth'].replace(['I have an anxiety disorder'], 'Desorden de ansiedad')\n",
    "data_test['MentalHealth'] = data_test['MentalHealth'].replace(['Prefer not to say'], 'No definido')\n",
    "data_test['MentalHealth'] = data_test['MentalHealth'].replace([\"I have autism / an autism spectrum disorder (e.g. Asperger's)\"], 'Tipo de autismo')\n",
    "data_test['MentalHealth'] = data_test['MentalHealth'].replace(['Or, in your own words:'], 'No definido')"
   ]
  },
  {
   "cell_type": "code",
   "execution_count": 360,
   "metadata": {},
   "outputs": [
    {
     "data": {
      "text/plain": [
       "Ninguna de las mencionadas             10924\n",
       "Desorden de concentración o memoria     1303\n",
       "Desorden emocional                       908\n",
       "Desorden de ansiedad                     637\n",
       "No definido                              538\n",
       "Tipo de autismo                          207\n",
       "Name: MentalHealth, dtype: int64"
      ]
     },
     "execution_count": 360,
     "metadata": {},
     "output_type": "execute_result"
    }
   ],
   "source": [
    "data_test['MentalHealth'].value_counts()"
   ]
  },
  {
   "cell_type": "markdown",
   "metadata": {},
   "source": [
    "# 2. Selección de campos para subdatasets\n",
    "\n",
    "Se seleccionarán los campos adecuados para responder a cada una de las cuestiones que se plantearon en la primera parte de la práctica."
   ]
  },
  {
   "cell_type": "markdown",
   "metadata": {},
   "source": [
    "### 2.1. Según la autodeterminación de la etnia, ¿Qué etnia tiene un mayor sueldo anual?\n",
    "\n",
    "Se seleccionarán los campos adecuados para responder a esta pregunta"
   ]
  },
  {
   "cell_type": "code",
   "execution_count": 366,
   "metadata": {},
   "outputs": [
    {
     "data": {
      "text/html": [
       "<div>\n",
       "<style scoped>\n",
       "    .dataframe tbody tr th:only-of-type {\n",
       "        vertical-align: middle;\n",
       "    }\n",
       "\n",
       "    .dataframe tbody tr th {\n",
       "        vertical-align: top;\n",
       "    }\n",
       "\n",
       "    .dataframe thead th {\n",
       "        text-align: right;\n",
       "    }\n",
       "</style>\n",
       "<table border=\"1\" class=\"dataframe\">\n",
       "  <thead>\n",
       "    <tr style=\"text-align: right;\">\n",
       "      <th></th>\n",
       "      <th>Country</th>\n",
       "      <th>Ethnicity</th>\n",
       "      <th>ConvertedCompYearly</th>\n",
       "    </tr>\n",
       "  </thead>\n",
       "  <tbody>\n",
       "    <tr>\n",
       "      <th>45</th>\n",
       "      <td>Brazil</td>\n",
       "      <td>Blanco o Europeo</td>\n",
       "      <td>60480.0</td>\n",
       "    </tr>\n",
       "    <tr>\n",
       "      <th>50</th>\n",
       "      <td>Greece</td>\n",
       "      <td>Blanco o Europeo</td>\n",
       "      <td>25944.0</td>\n",
       "    </tr>\n",
       "    <tr>\n",
       "      <th>58</th>\n",
       "      <td>Russian Federation</td>\n",
       "      <td>Blanco o Europeo</td>\n",
       "      <td>22644.0</td>\n",
       "    </tr>\n",
       "    <tr>\n",
       "      <th>64</th>\n",
       "      <td>United States of America</td>\n",
       "      <td>Blanco o Europeo</td>\n",
       "      <td>500000.0</td>\n",
       "    </tr>\n",
       "    <tr>\n",
       "      <th>76</th>\n",
       "      <td>Poland</td>\n",
       "      <td>Blanco o Europeo</td>\n",
       "      <td>45564.0</td>\n",
       "    </tr>\n",
       "  </tbody>\n",
       "</table>\n",
       "</div>"
      ],
      "text/plain": [
       "                     Country         Ethnicity  ConvertedCompYearly\n",
       "45                    Brazil  Blanco o Europeo              60480.0\n",
       "50                    Greece  Blanco o Europeo              25944.0\n",
       "58        Russian Federation  Blanco o Europeo              22644.0\n",
       "64  United States of America  Blanco o Europeo             500000.0\n",
       "76                    Poland  Blanco o Europeo              45564.0"
      ]
     },
     "execution_count": 366,
     "metadata": {},
     "output_type": "execute_result"
    }
   ],
   "source": [
    "data_etnia = data_test[['Country', 'Ethnicity', 'ConvertedCompYearly']]\n",
    "data_etnia.head()"
   ]
  },
  {
   "cell_type": "code",
   "execution_count": 509,
   "metadata": {},
   "outputs": [],
   "source": [
    "df_data_etnia = data_etnia.copy()"
   ]
  },
  {
   "cell_type": "code",
   "execution_count": 512,
   "metadata": {
    "scrolled": true
   },
   "outputs": [
    {
     "name": "stdout",
     "output_type": "stream",
     "text": [
      "                        Country             Ethnicity  ConvertedCompYearly\n",
      "45                       Brazil      Blanco o Europeo              60480.0\n",
      "50                       Greece      Blanco o Europeo              25944.0\n",
      "58           Russian Federation      Blanco o Europeo              22644.0\n",
      "76                       Poland      Blanco o Europeo              45564.0\n",
      "77                       Canada      Blanco o Europeo             151263.0\n",
      "...                         ...                   ...                  ...\n",
      "83425                   Finland      Blanco o Europeo              19452.0\n",
      "83428                    Brazil                Latino              41232.0\n",
      "83431                  Pakistan  Asiatico del Sudeste              11676.0\n",
      "83432                    Canada     Asiatico del este              80169.0\n",
      "83436  United States of America      Blanco o Europeo              90000.0\n",
      "\n",
      "[11611 rows x 3 columns]\n"
     ]
    }
   ],
   "source": [
    "def remove_outliers(df, q=0.05):\n",
    "    upper = df.quantile(1-q)\n",
    "    lower = df.quantile(q)\n",
    "    mask = (df < upper) & (df > lower)\n",
    "    return mask\n",
    "\n",
    "mask = remove_outliers(df_data_etnia['ConvertedCompYearly'], 0.1)\n",
    "\n",
    "print(df_data_etnia[mask])"
   ]
  },
  {
   "cell_type": "code",
   "execution_count": 513,
   "metadata": {},
   "outputs": [],
   "source": [
    "df_data_etnia_no_outliers = df_data_etnia[mask]"
   ]
  },
  {
   "cell_type": "code",
   "execution_count": 517,
   "metadata": {},
   "outputs": [],
   "source": [
    "df_data_etnia_no_outliers = df_data_etnia_no_outliers.copy()"
   ]
  },
  {
   "cell_type": "code",
   "execution_count": 519,
   "metadata": {},
   "outputs": [
    {
     "name": "stdout",
     "output_type": "stream",
     "text": [
      "                        Country             Ethnicity  ConvertedCompYearly  \\\n",
      "45                       Brazil      Blanco o Europeo              60480.0   \n",
      "50                       Greece      Blanco o Europeo              25944.0   \n",
      "58           Russian Federation      Blanco o Europeo              22644.0   \n",
      "76                       Poland      Blanco o Europeo              45564.0   \n",
      "77                       Canada      Blanco o Europeo             151263.0   \n",
      "...                         ...                   ...                  ...   \n",
      "83425                   Finland      Blanco o Europeo              19452.0   \n",
      "83428                    Brazil                Latino              41232.0   \n",
      "83431                  Pakistan  Asiatico del Sudeste              11676.0   \n",
      "83432                    Canada     Asiatico del este              80169.0   \n",
      "83436  United States of America      Blanco o Europeo              90000.0   \n",
      "\n",
      "      ConvertedCompYearlyCategorical  \n",
      "45                             MEDIO  \n",
      "50                              BAJO  \n",
      "58                              BAJO  \n",
      "76                             MEDIO  \n",
      "77                              ALTO  \n",
      "...                              ...  \n",
      "83425                           BAJO  \n",
      "83428                          MEDIO  \n",
      "83431                           BAJO  \n",
      "83432                          MEDIO  \n",
      "83436                          MEDIO  \n",
      "\n",
      "[11611 rows x 4 columns]\n"
     ]
    }
   ],
   "source": [
    "df_data_etnia_no_outliers['ConvertedCompYearlyCategorical'] = 'ALTO'\n",
    "df_data_etnia_no_outliers.loc[(df_data_etnia_no_outliers['ConvertedCompYearly'] >= 0) & (df_data_etnia_no_outliers['ConvertedCompYearly'] <= 32747), 'ConvertedCompYearlyCategorical'] = 'BAJO'\n",
    "df_data_etnia_no_outliers.loc[(df_data_etnia_no_outliers['ConvertedCompYearly'] > 32747) & (df_data_etnia_no_outliers['ConvertedCompYearly'] <= 90000), 'ConvertedCompYearlyCategorical'] = 'MEDIO'\n",
    "\n",
    "print(df_data_etnia_no_outliers)"
   ]
  },
  {
   "cell_type": "code",
   "execution_count": 520,
   "metadata": {},
   "outputs": [],
   "source": [
    "df_data_etnia_alto = df_data_etnia_no_outliers[df_data_etnia_no_outliers['ConvertedCompYearlyCategorical'] == 'ALTO']"
   ]
  },
  {
   "cell_type": "code",
   "execution_count": 521,
   "metadata": {},
   "outputs": [],
   "source": [
    "df_data_etnia_alto = df_data_etnia_alto[['Ethnicity', 'ConvertedCompYearlyCategorical']]"
   ]
  },
  {
   "cell_type": "code",
   "execution_count": 523,
   "metadata": {},
   "outputs": [],
   "source": [
    "df_flourish = df_data_etnia_alto['Ethnicity'].value_counts().to_frame('counts').reset_index()"
   ]
  },
  {
   "cell_type": "code",
   "execution_count": 524,
   "metadata": {},
   "outputs": [
    {
     "data": {
      "text/html": [
       "<div>\n",
       "<style scoped>\n",
       "    .dataframe tbody tr th:only-of-type {\n",
       "        vertical-align: middle;\n",
       "    }\n",
       "\n",
       "    .dataframe tbody tr th {\n",
       "        vertical-align: top;\n",
       "    }\n",
       "\n",
       "    .dataframe thead th {\n",
       "        text-align: right;\n",
       "    }\n",
       "</style>\n",
       "<table border=\"1\" class=\"dataframe\">\n",
       "  <thead>\n",
       "    <tr style=\"text-align: right;\">\n",
       "      <th></th>\n",
       "      <th>index</th>\n",
       "      <th>counts</th>\n",
       "    </tr>\n",
       "  </thead>\n",
       "  <tbody>\n",
       "    <tr>\n",
       "      <th>0</th>\n",
       "      <td>Blanco o Europeo</td>\n",
       "      <td>2413</td>\n",
       "    </tr>\n",
       "    <tr>\n",
       "      <th>1</th>\n",
       "      <td>Latino</td>\n",
       "      <td>119</td>\n",
       "    </tr>\n",
       "    <tr>\n",
       "      <th>2</th>\n",
       "      <td>Asiatico del Sur</td>\n",
       "      <td>97</td>\n",
       "    </tr>\n",
       "    <tr>\n",
       "      <th>3</th>\n",
       "      <td>Medio Oriente</td>\n",
       "      <td>75</td>\n",
       "    </tr>\n",
       "    <tr>\n",
       "      <th>4</th>\n",
       "      <td>Asiatico del este</td>\n",
       "      <td>51</td>\n",
       "    </tr>\n",
       "    <tr>\n",
       "      <th>5</th>\n",
       "      <td>Negro</td>\n",
       "      <td>44</td>\n",
       "    </tr>\n",
       "    <tr>\n",
       "      <th>6</th>\n",
       "      <td>Asiatico del Sudeste</td>\n",
       "      <td>43</td>\n",
       "    </tr>\n",
       "    <tr>\n",
       "      <th>7</th>\n",
       "      <td>Multiracial</td>\n",
       "      <td>23</td>\n",
       "    </tr>\n",
       "    <tr>\n",
       "      <th>8</th>\n",
       "      <td>No Definido</td>\n",
       "      <td>15</td>\n",
       "    </tr>\n",
       "    <tr>\n",
       "      <th>9</th>\n",
       "      <td>Biracial</td>\n",
       "      <td>9</td>\n",
       "    </tr>\n",
       "    <tr>\n",
       "      <th>10</th>\n",
       "      <td>Indigena</td>\n",
       "      <td>3</td>\n",
       "    </tr>\n",
       "  </tbody>\n",
       "</table>\n",
       "</div>"
      ],
      "text/plain": [
       "                   index  counts\n",
       "0       Blanco o Europeo    2413\n",
       "1                 Latino     119\n",
       "2       Asiatico del Sur      97\n",
       "3          Medio Oriente      75\n",
       "4      Asiatico del este      51\n",
       "5                  Negro      44\n",
       "6   Asiatico del Sudeste      43\n",
       "7            Multiracial      23\n",
       "8            No Definido      15\n",
       "9               Biracial       9\n",
       "10              Indigena       3"
      ]
     },
     "execution_count": 524,
     "metadata": {},
     "output_type": "execute_result"
    }
   ],
   "source": [
    "df_flourish"
   ]
  },
  {
   "cell_type": "code",
   "execution_count": 525,
   "metadata": {},
   "outputs": [],
   "source": [
    "df_flourish.to_csv('001_df_flourish.csv', index=False)"
   ]
  },
  {
   "cell_type": "code",
   "execution_count": 443,
   "metadata": {},
   "outputs": [],
   "source": [
    "df_data_etnia_alto.to_csv('001_df_data_etnia_alto.csv', index=False)"
   ]
  },
  {
   "cell_type": "code",
   "execution_count": 439,
   "metadata": {},
   "outputs": [],
   "source": [
    "df_data_etnia.to_csv('001_data_etnia_categorical.csv', index=False)"
   ]
  },
  {
   "cell_type": "code",
   "execution_count": 367,
   "metadata": {},
   "outputs": [],
   "source": [
    "data_etnia.to_csv('001_data_etnia.csv', index=False)"
   ]
  },
  {
   "cell_type": "markdown",
   "metadata": {},
   "source": [
    "### 2.2. ¿Cuáles son los porcentajes de programadores que trabajan a tiempo completo, medio tiempo o freelance?\n",
    "\n",
    "Se seleccionarán los campos adecuados para responder a esta pregunta"
   ]
  },
  {
   "cell_type": "code",
   "execution_count": 368,
   "metadata": {},
   "outputs": [
    {
     "data": {
      "text/html": [
       "<div>\n",
       "<style scoped>\n",
       "    .dataframe tbody tr th:only-of-type {\n",
       "        vertical-align: middle;\n",
       "    }\n",
       "\n",
       "    .dataframe tbody tr th {\n",
       "        vertical-align: top;\n",
       "    }\n",
       "\n",
       "    .dataframe thead th {\n",
       "        text-align: right;\n",
       "    }\n",
       "</style>\n",
       "<table border=\"1\" class=\"dataframe\">\n",
       "  <thead>\n",
       "    <tr style=\"text-align: right;\">\n",
       "      <th></th>\n",
       "      <th>Country</th>\n",
       "      <th>Employment</th>\n",
       "      <th>ConvertedCompYearly</th>\n",
       "      <th>EdLevel</th>\n",
       "      <th>Age</th>\n",
       "    </tr>\n",
       "  </thead>\n",
       "  <tbody>\n",
       "    <tr>\n",
       "      <th>45</th>\n",
       "      <td>Brazil</td>\n",
       "      <td>Tiempo completo</td>\n",
       "      <td>60480.0</td>\n",
       "      <td>Licenciatura</td>\n",
       "      <td>35-44</td>\n",
       "    </tr>\n",
       "    <tr>\n",
       "      <th>50</th>\n",
       "      <td>Greece</td>\n",
       "      <td>Tiempo completo</td>\n",
       "      <td>25944.0</td>\n",
       "      <td>Licenciatura</td>\n",
       "      <td>25-34</td>\n",
       "    </tr>\n",
       "    <tr>\n",
       "      <th>58</th>\n",
       "      <td>Russian Federation</td>\n",
       "      <td>Tiempo completo</td>\n",
       "      <td>22644.0</td>\n",
       "      <td>Grado Profesional</td>\n",
       "      <td>25-34</td>\n",
       "    </tr>\n",
       "    <tr>\n",
       "      <th>64</th>\n",
       "      <td>United States of America</td>\n",
       "      <td>Independiete</td>\n",
       "      <td>500000.0</td>\n",
       "      <td>Master</td>\n",
       "      <td>35-44</td>\n",
       "    </tr>\n",
       "    <tr>\n",
       "      <th>76</th>\n",
       "      <td>Poland</td>\n",
       "      <td>Tiempo completo</td>\n",
       "      <td>45564.0</td>\n",
       "      <td>Licenciatura</td>\n",
       "      <td>25-34</td>\n",
       "    </tr>\n",
       "  </tbody>\n",
       "</table>\n",
       "</div>"
      ],
      "text/plain": [
       "                     Country       Employment  ConvertedCompYearly  \\\n",
       "45                    Brazil  Tiempo completo              60480.0   \n",
       "50                    Greece  Tiempo completo              25944.0   \n",
       "58        Russian Federation  Tiempo completo              22644.0   \n",
       "64  United States of America     Independiete             500000.0   \n",
       "76                    Poland  Tiempo completo              45564.0   \n",
       "\n",
       "              EdLevel    Age  \n",
       "45       Licenciatura  35-44  \n",
       "50       Licenciatura  25-34  \n",
       "58  Grado Profesional  25-34  \n",
       "64             Master  35-44  \n",
       "76       Licenciatura  25-34  "
      ]
     },
     "execution_count": 368,
     "metadata": {},
     "output_type": "execute_result"
    }
   ],
   "source": [
    "data_time_work_dev = data_test[['Country', 'Employment', 'ConvertedCompYearly', 'EdLevel', 'Age']]\n",
    "data_time_work_dev.head()"
   ]
  },
  {
   "cell_type": "code",
   "execution_count": 448,
   "metadata": {},
   "outputs": [],
   "source": [
    "df_flourish_002 = data_time_work_dev['Employment'].value_counts().to_frame('counts').reset_index()"
   ]
  },
  {
   "cell_type": "code",
   "execution_count": 449,
   "metadata": {},
   "outputs": [
    {
     "data": {
      "text/html": [
       "<div>\n",
       "<style scoped>\n",
       "    .dataframe tbody tr th:only-of-type {\n",
       "        vertical-align: middle;\n",
       "    }\n",
       "\n",
       "    .dataframe tbody tr th {\n",
       "        vertical-align: top;\n",
       "    }\n",
       "\n",
       "    .dataframe thead th {\n",
       "        text-align: right;\n",
       "    }\n",
       "</style>\n",
       "<table border=\"1\" class=\"dataframe\">\n",
       "  <thead>\n",
       "    <tr style=\"text-align: right;\">\n",
       "      <th></th>\n",
       "      <th>index</th>\n",
       "      <th>counts</th>\n",
       "    </tr>\n",
       "  </thead>\n",
       "  <tbody>\n",
       "    <tr>\n",
       "      <th>0</th>\n",
       "      <td>Tiempo completo</td>\n",
       "      <td>12402</td>\n",
       "    </tr>\n",
       "    <tr>\n",
       "      <th>1</th>\n",
       "      <td>Independiete</td>\n",
       "      <td>1678</td>\n",
       "    </tr>\n",
       "    <tr>\n",
       "      <th>2</th>\n",
       "      <td>Tiempo parcial</td>\n",
       "      <td>437</td>\n",
       "    </tr>\n",
       "  </tbody>\n",
       "</table>\n",
       "</div>"
      ],
      "text/plain": [
       "             index  counts\n",
       "0  Tiempo completo   12402\n",
       "1     Independiete    1678\n",
       "2   Tiempo parcial     437"
      ]
     },
     "execution_count": 449,
     "metadata": {},
     "output_type": "execute_result"
    }
   ],
   "source": [
    "df_flourish_002"
   ]
  },
  {
   "cell_type": "code",
   "execution_count": 454,
   "metadata": {},
   "outputs": [],
   "source": [
    "df_flourish_002['counts'] = (df_flourish_002['counts'] * 100 ) / data_time_work_dev.shape[0]"
   ]
  },
  {
   "cell_type": "code",
   "execution_count": 455,
   "metadata": {},
   "outputs": [
    {
     "data": {
      "text/html": [
       "<div>\n",
       "<style scoped>\n",
       "    .dataframe tbody tr th:only-of-type {\n",
       "        vertical-align: middle;\n",
       "    }\n",
       "\n",
       "    .dataframe tbody tr th {\n",
       "        vertical-align: top;\n",
       "    }\n",
       "\n",
       "    .dataframe thead th {\n",
       "        text-align: right;\n",
       "    }\n",
       "</style>\n",
       "<table border=\"1\" class=\"dataframe\">\n",
       "  <thead>\n",
       "    <tr style=\"text-align: right;\">\n",
       "      <th></th>\n",
       "      <th>index</th>\n",
       "      <th>counts</th>\n",
       "    </tr>\n",
       "  </thead>\n",
       "  <tbody>\n",
       "    <tr>\n",
       "      <th>0</th>\n",
       "      <td>Tiempo completo</td>\n",
       "      <td>85.430874</td>\n",
       "    </tr>\n",
       "    <tr>\n",
       "      <th>1</th>\n",
       "      <td>Independiete</td>\n",
       "      <td>11.558862</td>\n",
       "    </tr>\n",
       "    <tr>\n",
       "      <th>2</th>\n",
       "      <td>Tiempo parcial</td>\n",
       "      <td>3.010264</td>\n",
       "    </tr>\n",
       "  </tbody>\n",
       "</table>\n",
       "</div>"
      ],
      "text/plain": [
       "             index     counts\n",
       "0  Tiempo completo  85.430874\n",
       "1     Independiete  11.558862\n",
       "2   Tiempo parcial   3.010264"
      ]
     },
     "execution_count": 455,
     "metadata": {},
     "output_type": "execute_result"
    }
   ],
   "source": [
    "df_flourish_002"
   ]
  },
  {
   "cell_type": "code",
   "execution_count": 456,
   "metadata": {},
   "outputs": [],
   "source": [
    "df_flourish_002['counts'] = df_flourish_002['counts'].round(2)"
   ]
  },
  {
   "cell_type": "code",
   "execution_count": 457,
   "metadata": {},
   "outputs": [
    {
     "data": {
      "text/html": [
       "<div>\n",
       "<style scoped>\n",
       "    .dataframe tbody tr th:only-of-type {\n",
       "        vertical-align: middle;\n",
       "    }\n",
       "\n",
       "    .dataframe tbody tr th {\n",
       "        vertical-align: top;\n",
       "    }\n",
       "\n",
       "    .dataframe thead th {\n",
       "        text-align: right;\n",
       "    }\n",
       "</style>\n",
       "<table border=\"1\" class=\"dataframe\">\n",
       "  <thead>\n",
       "    <tr style=\"text-align: right;\">\n",
       "      <th></th>\n",
       "      <th>index</th>\n",
       "      <th>counts</th>\n",
       "    </tr>\n",
       "  </thead>\n",
       "  <tbody>\n",
       "    <tr>\n",
       "      <th>0</th>\n",
       "      <td>Tiempo completo</td>\n",
       "      <td>85.43</td>\n",
       "    </tr>\n",
       "    <tr>\n",
       "      <th>1</th>\n",
       "      <td>Independiete</td>\n",
       "      <td>11.56</td>\n",
       "    </tr>\n",
       "    <tr>\n",
       "      <th>2</th>\n",
       "      <td>Tiempo parcial</td>\n",
       "      <td>3.01</td>\n",
       "    </tr>\n",
       "  </tbody>\n",
       "</table>\n",
       "</div>"
      ],
      "text/plain": [
       "             index  counts\n",
       "0  Tiempo completo   85.43\n",
       "1     Independiete   11.56\n",
       "2   Tiempo parcial    3.01"
      ]
     },
     "execution_count": 457,
     "metadata": {},
     "output_type": "execute_result"
    }
   ],
   "source": [
    "df_flourish_002"
   ]
  },
  {
   "cell_type": "code",
   "execution_count": 458,
   "metadata": {},
   "outputs": [],
   "source": [
    "df_flourish_002.to_csv('002_df_flourish.csv', index=False)"
   ]
  },
  {
   "cell_type": "markdown",
   "metadata": {},
   "source": [
    "### 2.3. ¿Cuáles son los países con mayor número de programadores profesionales que son activos en la comunidad Stack Overflow?\n",
    "\n",
    "Se seleccionarán los campos adecuados para responder a esta pregunta"
   ]
  },
  {
   "cell_type": "code",
   "execution_count": 370,
   "metadata": {},
   "outputs": [
    {
     "data": {
      "text/html": [
       "<div>\n",
       "<style scoped>\n",
       "    .dataframe tbody tr th:only-of-type {\n",
       "        vertical-align: middle;\n",
       "    }\n",
       "\n",
       "    .dataframe tbody tr th {\n",
       "        vertical-align: top;\n",
       "    }\n",
       "\n",
       "    .dataframe thead th {\n",
       "        text-align: right;\n",
       "    }\n",
       "</style>\n",
       "<table border=\"1\" class=\"dataframe\">\n",
       "  <thead>\n",
       "    <tr style=\"text-align: right;\">\n",
       "      <th></th>\n",
       "      <th>Country</th>\n",
       "      <th>Employment</th>\n",
       "      <th>MainBranch</th>\n",
       "      <th>EdLevel</th>\n",
       "      <th>DevType</th>\n",
       "      <th>Age</th>\n",
       "    </tr>\n",
       "  </thead>\n",
       "  <tbody>\n",
       "    <tr>\n",
       "      <th>45</th>\n",
       "      <td>Brazil</td>\n",
       "      <td>Tiempo completo</td>\n",
       "      <td>Desarrollador Profesional</td>\n",
       "      <td>Licenciatura</td>\n",
       "      <td>Desarrollador Escritorio</td>\n",
       "      <td>35-44</td>\n",
       "    </tr>\n",
       "    <tr>\n",
       "      <th>50</th>\n",
       "      <td>Greece</td>\n",
       "      <td>Tiempo completo</td>\n",
       "      <td>Desarrollador Profesional</td>\n",
       "      <td>Licenciatura</td>\n",
       "      <td>Desarrollador full-stack</td>\n",
       "      <td>25-34</td>\n",
       "    </tr>\n",
       "    <tr>\n",
       "      <th>58</th>\n",
       "      <td>Russian Federation</td>\n",
       "      <td>Tiempo completo</td>\n",
       "      <td>Desarrollador ocasional</td>\n",
       "      <td>Grado Profesional</td>\n",
       "      <td>Desarrollador full-stack</td>\n",
       "      <td>25-34</td>\n",
       "    </tr>\n",
       "    <tr>\n",
       "      <th>64</th>\n",
       "      <td>United States of America</td>\n",
       "      <td>Independiete</td>\n",
       "      <td>Desarrollador ocasional</td>\n",
       "      <td>Master</td>\n",
       "      <td>Desarrollador front-end</td>\n",
       "      <td>35-44</td>\n",
       "    </tr>\n",
       "    <tr>\n",
       "      <th>76</th>\n",
       "      <td>Poland</td>\n",
       "      <td>Tiempo completo</td>\n",
       "      <td>Desarrollador ocasional</td>\n",
       "      <td>Licenciatura</td>\n",
       "      <td>Desarrollador front-end</td>\n",
       "      <td>25-34</td>\n",
       "    </tr>\n",
       "  </tbody>\n",
       "</table>\n",
       "</div>"
      ],
      "text/plain": [
       "                     Country       Employment                 MainBranch  \\\n",
       "45                    Brazil  Tiempo completo  Desarrollador Profesional   \n",
       "50                    Greece  Tiempo completo  Desarrollador Profesional   \n",
       "58        Russian Federation  Tiempo completo    Desarrollador ocasional   \n",
       "64  United States of America     Independiete    Desarrollador ocasional   \n",
       "76                    Poland  Tiempo completo    Desarrollador ocasional   \n",
       "\n",
       "              EdLevel                   DevType    Age  \n",
       "45       Licenciatura  Desarrollador Escritorio  35-44  \n",
       "50       Licenciatura  Desarrollador full-stack  25-34  \n",
       "58  Grado Profesional  Desarrollador full-stack  25-34  \n",
       "64             Master   Desarrollador front-end  35-44  \n",
       "76       Licenciatura   Desarrollador front-end  25-34  "
      ]
     },
     "execution_count": 370,
     "metadata": {},
     "output_type": "execute_result"
    }
   ],
   "source": [
    "data_pro_dev_active_so = data_test[['Country', 'Employment', 'MainBranch', 'EdLevel', 'DevType', 'Age']]\n",
    "data_pro_dev_active_so.head()"
   ]
  },
  {
   "cell_type": "code",
   "execution_count": 464,
   "metadata": {},
   "outputs": [],
   "source": [
    "df_flourish_003 = data_pro_dev_active_so['Country'].value_counts().sort_values(ascending=False).head(10)"
   ]
  },
  {
   "cell_type": "code",
   "execution_count": 477,
   "metadata": {},
   "outputs": [],
   "source": [
    "df_flourish_003 = df_flourish_003.to_frame()"
   ]
  },
  {
   "cell_type": "code",
   "execution_count": 482,
   "metadata": {},
   "outputs": [],
   "source": [
    "df_flourish_003 = df_flourish_003.reset_index()\n",
    "df_flourish_003.columns = [\"País\", \"# Programadores Profesionales\"]"
   ]
  },
  {
   "cell_type": "code",
   "execution_count": 485,
   "metadata": {},
   "outputs": [],
   "source": [
    "df_flourish_003.to_csv('003_df_flourish_003.csv', index=False)"
   ]
  },
  {
   "cell_type": "markdown",
   "metadata": {},
   "source": [
    "### 2.4. ¿Cuál es el nivel educativo que mayores ingresos registra entre los encuestados?\n",
    "\n",
    "Se seleccionarán los campos adecuados para responder a esta pregunta"
   ]
  },
  {
   "cell_type": "code",
   "execution_count": 495,
   "metadata": {},
   "outputs": [
    {
     "data": {
      "text/html": [
       "<div>\n",
       "<style scoped>\n",
       "    .dataframe tbody tr th:only-of-type {\n",
       "        vertical-align: middle;\n",
       "    }\n",
       "\n",
       "    .dataframe tbody tr th {\n",
       "        vertical-align: top;\n",
       "    }\n",
       "\n",
       "    .dataframe thead th {\n",
       "        text-align: right;\n",
       "    }\n",
       "</style>\n",
       "<table border=\"1\" class=\"dataframe\">\n",
       "  <thead>\n",
       "    <tr style=\"text-align: right;\">\n",
       "      <th></th>\n",
       "      <th>ConvertedCompYearly</th>\n",
       "      <th>EdLevel</th>\n",
       "    </tr>\n",
       "  </thead>\n",
       "  <tbody>\n",
       "    <tr>\n",
       "      <th>45</th>\n",
       "      <td>60480.0</td>\n",
       "      <td>Licenciatura</td>\n",
       "    </tr>\n",
       "    <tr>\n",
       "      <th>50</th>\n",
       "      <td>25944.0</td>\n",
       "      <td>Licenciatura</td>\n",
       "    </tr>\n",
       "    <tr>\n",
       "      <th>58</th>\n",
       "      <td>22644.0</td>\n",
       "      <td>Grado Profesional</td>\n",
       "    </tr>\n",
       "    <tr>\n",
       "      <th>64</th>\n",
       "      <td>500000.0</td>\n",
       "      <td>Master</td>\n",
       "    </tr>\n",
       "    <tr>\n",
       "      <th>76</th>\n",
       "      <td>45564.0</td>\n",
       "      <td>Licenciatura</td>\n",
       "    </tr>\n",
       "  </tbody>\n",
       "</table>\n",
       "</div>"
      ],
      "text/plain": [
       "    ConvertedCompYearly            EdLevel\n",
       "45              60480.0       Licenciatura\n",
       "50              25944.0       Licenciatura\n",
       "58              22644.0  Grado Profesional\n",
       "64             500000.0             Master\n",
       "76              45564.0       Licenciatura"
      ]
     },
     "execution_count": 495,
     "metadata": {},
     "output_type": "execute_result"
    }
   ],
   "source": [
    "data_edlevel_income = data_test[['ConvertedCompYearly', 'EdLevel']]\n",
    "data_edlevel_income.head()"
   ]
  },
  {
   "cell_type": "code",
   "execution_count": 501,
   "metadata": {},
   "outputs": [],
   "source": [
    "df_data_edlevel_income = data_edlevel_income.copy()"
   ]
  },
  {
   "cell_type": "code",
   "execution_count": 502,
   "metadata": {},
   "outputs": [
    {
     "name": "stdout",
     "output_type": "stream",
     "text": [
      "       ConvertedCompYearly            EdLevel\n",
      "45                 60480.0       Licenciatura\n",
      "50                 25944.0       Licenciatura\n",
      "58                 22644.0  Grado Profesional\n",
      "76                 45564.0       Licenciatura\n",
      "77                151263.0          Doctorado\n",
      "...                    ...                ...\n",
      "83425              19452.0         Secundaria\n",
      "83428              41232.0             Master\n",
      "83431              11676.0       Licenciatura\n",
      "83432              80169.0       Licenciatura\n",
      "83436              90000.0         Secundaria\n",
      "\n",
      "[11611 rows x 2 columns]\n"
     ]
    }
   ],
   "source": [
    "def remove_outliers(df, q=0.05):\n",
    "    upper = df.quantile(1-q)\n",
    "    lower = df.quantile(q)\n",
    "    mask = (df < upper) & (df > lower)\n",
    "    return mask\n",
    "\n",
    "mask = remove_outliers(df_data_edlevel_income['ConvertedCompYearly'], 0.1)\n",
    "\n",
    "print(df_data_edlevel_income[mask])"
   ]
  },
  {
   "cell_type": "code",
   "execution_count": 503,
   "metadata": {},
   "outputs": [],
   "source": [
    "df_data_edlevel_income = df_data_edlevel_income[mask]"
   ]
  },
  {
   "cell_type": "code",
   "execution_count": 505,
   "metadata": {},
   "outputs": [
    {
     "name": "stdout",
     "output_type": "stream",
     "text": [
      "       ConvertedCompYearly            EdLevel ConvertedCompYearlyCategorical\n",
      "45                 60480.0       Licenciatura                          MEDIO\n",
      "50                 25944.0       Licenciatura                           BAJO\n",
      "58                 22644.0  Grado Profesional                           BAJO\n",
      "76                 45564.0       Licenciatura                          MEDIO\n",
      "77                151263.0          Doctorado                           ALTO\n",
      "...                    ...                ...                            ...\n",
      "83425              19452.0         Secundaria                           BAJO\n",
      "83428              41232.0             Master                          MEDIO\n",
      "83431              11676.0       Licenciatura                           BAJO\n",
      "83432              80169.0       Licenciatura                          MEDIO\n",
      "83436              90000.0         Secundaria                          MEDIO\n",
      "\n",
      "[11611 rows x 3 columns]\n"
     ]
    }
   ],
   "source": [
    "df_data_edlevel_income['ConvertedCompYearlyCategorical'] = 'ALTO'\n",
    "df_data_edlevel_income.loc[(df_data_edlevel_income['ConvertedCompYearly'] >= 0) & (df_data_edlevel_income['ConvertedCompYearly'] <= 32747), 'ConvertedCompYearlyCategorical'] = 'BAJO'\n",
    "df_data_edlevel_income.loc[(df_data_edlevel_income['ConvertedCompYearly'] > 32747) & (df_data_edlevel_income['ConvertedCompYearly'] <= 90000), 'ConvertedCompYearlyCategorical'] = 'MEDIO'\n",
    "\n",
    "print(df_data_edlevel_income)"
   ]
  },
  {
   "cell_type": "code",
   "execution_count": 506,
   "metadata": {},
   "outputs": [],
   "source": [
    "df_data_edlevel_income = df_data_edlevel_income[df_data_edlevel_income['ConvertedCompYearlyCategorical'] == 'ALTO']"
   ]
  },
  {
   "cell_type": "code",
   "execution_count": 507,
   "metadata": {},
   "outputs": [],
   "source": [
    "df_data_edlevel_income = df_data_edlevel_income[['EdLevel', 'ConvertedCompYearlyCategorical']]"
   ]
  },
  {
   "cell_type": "code",
   "execution_count": 527,
   "metadata": {},
   "outputs": [],
   "source": [
    "df_flourish_004 = df_data_edlevel_income['EdLevel'].value_counts().to_frame('counts').reset_index()"
   ]
  },
  {
   "cell_type": "code",
   "execution_count": 528,
   "metadata": {},
   "outputs": [
    {
     "data": {
      "text/html": [
       "<div>\n",
       "<style scoped>\n",
       "    .dataframe tbody tr th:only-of-type {\n",
       "        vertical-align: middle;\n",
       "    }\n",
       "\n",
       "    .dataframe tbody tr th {\n",
       "        vertical-align: top;\n",
       "    }\n",
       "\n",
       "    .dataframe thead th {\n",
       "        text-align: right;\n",
       "    }\n",
       "</style>\n",
       "<table border=\"1\" class=\"dataframe\">\n",
       "  <thead>\n",
       "    <tr style=\"text-align: right;\">\n",
       "      <th></th>\n",
       "      <th>index</th>\n",
       "      <th>counts</th>\n",
       "    </tr>\n",
       "  </thead>\n",
       "  <tbody>\n",
       "    <tr>\n",
       "      <th>0</th>\n",
       "      <td>Licenciatura</td>\n",
       "      <td>1481</td>\n",
       "    </tr>\n",
       "    <tr>\n",
       "      <th>1</th>\n",
       "      <td>Master</td>\n",
       "      <td>715</td>\n",
       "    </tr>\n",
       "    <tr>\n",
       "      <th>2</th>\n",
       "      <td>Estudios sin grado</td>\n",
       "      <td>356</td>\n",
       "    </tr>\n",
       "    <tr>\n",
       "      <th>3</th>\n",
       "      <td>Grado Asociado</td>\n",
       "      <td>117</td>\n",
       "    </tr>\n",
       "    <tr>\n",
       "      <th>4</th>\n",
       "      <td>Doctorado</td>\n",
       "      <td>96</td>\n",
       "    </tr>\n",
       "    <tr>\n",
       "      <th>5</th>\n",
       "      <td>Secundaria</td>\n",
       "      <td>80</td>\n",
       "    </tr>\n",
       "    <tr>\n",
       "      <th>6</th>\n",
       "      <td>Grado Profesional</td>\n",
       "      <td>21</td>\n",
       "    </tr>\n",
       "    <tr>\n",
       "      <th>7</th>\n",
       "      <td>Primaria</td>\n",
       "      <td>13</td>\n",
       "    </tr>\n",
       "    <tr>\n",
       "      <th>8</th>\n",
       "      <td>Otro</td>\n",
       "      <td>13</td>\n",
       "    </tr>\n",
       "  </tbody>\n",
       "</table>\n",
       "</div>"
      ],
      "text/plain": [
       "                index  counts\n",
       "0        Licenciatura    1481\n",
       "1              Master     715\n",
       "2  Estudios sin grado     356\n",
       "3      Grado Asociado     117\n",
       "4           Doctorado      96\n",
       "5          Secundaria      80\n",
       "6   Grado Profesional      21\n",
       "7            Primaria      13\n",
       "8                Otro      13"
      ]
     },
     "execution_count": 528,
     "metadata": {},
     "output_type": "execute_result"
    }
   ],
   "source": [
    "df_flourish_004"
   ]
  },
  {
   "cell_type": "code",
   "execution_count": 529,
   "metadata": {},
   "outputs": [],
   "source": [
    "df_flourish_004.to_csv('004_df_flourish.csv', index=False)"
   ]
  },
  {
   "cell_type": "markdown",
   "metadata": {},
   "source": [
    "### 2.5. ¿Existe brecha salarial entre hombres y mujeres u otros géneros?, y de ¿Cuánto es la diferencia? ¿Cuáles son los peores países en cuanto a brecha salarial? ¿Cuáles son los países que han reducido esta brecha salarial entre programadores?\n",
    "\n",
    "Se seleccionarán los campos adecuados para responder a esta pregunta"
   ]
  },
  {
   "cell_type": "code",
   "execution_count": 585,
   "metadata": {},
   "outputs": [
    {
     "data": {
      "text/html": [
       "<div>\n",
       "<style scoped>\n",
       "    .dataframe tbody tr th:only-of-type {\n",
       "        vertical-align: middle;\n",
       "    }\n",
       "\n",
       "    .dataframe tbody tr th {\n",
       "        vertical-align: top;\n",
       "    }\n",
       "\n",
       "    .dataframe thead th {\n",
       "        text-align: right;\n",
       "    }\n",
       "</style>\n",
       "<table border=\"1\" class=\"dataframe\">\n",
       "  <thead>\n",
       "    <tr style=\"text-align: right;\">\n",
       "      <th></th>\n",
       "      <th>Country</th>\n",
       "      <th>ConvertedCompYearly</th>\n",
       "      <th>Gender</th>\n",
       "    </tr>\n",
       "  </thead>\n",
       "  <tbody>\n",
       "    <tr>\n",
       "      <th>45</th>\n",
       "      <td>Brazil</td>\n",
       "      <td>60480.0</td>\n",
       "      <td>Hombre</td>\n",
       "    </tr>\n",
       "    <tr>\n",
       "      <th>50</th>\n",
       "      <td>Greece</td>\n",
       "      <td>25944.0</td>\n",
       "      <td>Hombre</td>\n",
       "    </tr>\n",
       "    <tr>\n",
       "      <th>58</th>\n",
       "      <td>Russian Federation</td>\n",
       "      <td>22644.0</td>\n",
       "      <td>Hombre</td>\n",
       "    </tr>\n",
       "    <tr>\n",
       "      <th>64</th>\n",
       "      <td>United States of America</td>\n",
       "      <td>500000.0</td>\n",
       "      <td>Hombre</td>\n",
       "    </tr>\n",
       "    <tr>\n",
       "      <th>76</th>\n",
       "      <td>Poland</td>\n",
       "      <td>45564.0</td>\n",
       "      <td>Hombre</td>\n",
       "    </tr>\n",
       "  </tbody>\n",
       "</table>\n",
       "</div>"
      ],
      "text/plain": [
       "                     Country  ConvertedCompYearly  Gender\n",
       "45                    Brazil              60480.0  Hombre\n",
       "50                    Greece              25944.0  Hombre\n",
       "58        Russian Federation              22644.0  Hombre\n",
       "64  United States of America             500000.0  Hombre\n",
       "76                    Poland              45564.0  Hombre"
      ]
     },
     "execution_count": 585,
     "metadata": {},
     "output_type": "execute_result"
    }
   ],
   "source": [
    "data_wage_gap = data_test[['Country', 'ConvertedCompYearly', 'Gender']]\n",
    "data_wage_gap.head()"
   ]
  },
  {
   "cell_type": "code",
   "execution_count": 587,
   "metadata": {},
   "outputs": [],
   "source": [
    "df_data_wage_gap = data_wage_gap.copy()"
   ]
  },
  {
   "cell_type": "code",
   "execution_count": 588,
   "metadata": {},
   "outputs": [
    {
     "name": "stdout",
     "output_type": "stream",
     "text": [
      "                        Country  ConvertedCompYearly  Gender\n",
      "45                       Brazil              60480.0  Hombre\n",
      "50                       Greece              25944.0  Hombre\n",
      "58           Russian Federation              22644.0  Hombre\n",
      "76                       Poland              45564.0  Hombre\n",
      "77                       Canada             151263.0  Hombre\n",
      "...                         ...                  ...     ...\n",
      "83425                   Finland              19452.0  Hombre\n",
      "83428                    Brazil              41232.0  Hombre\n",
      "83431                  Pakistan              11676.0  Hombre\n",
      "83432                    Canada              80169.0   Mujer\n",
      "83436  United States of America              90000.0  Hombre\n",
      "\n",
      "[11611 rows x 3 columns]\n"
     ]
    }
   ],
   "source": [
    "def remove_outliers(df, q=0.05):\n",
    "    upper = df.quantile(1-q)\n",
    "    lower = df.quantile(q)\n",
    "    mask = (df < upper) & (df > lower)\n",
    "    return mask\n",
    "\n",
    "mask = remove_outliers(df_data_wage_gap['ConvertedCompYearly'], 0.1)\n",
    "\n",
    "print(df_data_wage_gap[mask])"
   ]
  },
  {
   "cell_type": "code",
   "execution_count": 589,
   "metadata": {},
   "outputs": [],
   "source": [
    "df_data_wage_gap = df_data_wage_gap[mask]"
   ]
  },
  {
   "cell_type": "code",
   "execution_count": 591,
   "metadata": {},
   "outputs": [
    {
     "name": "stdout",
     "output_type": "stream",
     "text": [
      "                        Country  ConvertedCompYearly  Gender  \\\n",
      "45                       Brazil              60480.0  Hombre   \n",
      "50                       Greece              25944.0  Hombre   \n",
      "58           Russian Federation              22644.0  Hombre   \n",
      "76                       Poland              45564.0  Hombre   \n",
      "77                       Canada             151263.0  Hombre   \n",
      "...                         ...                  ...     ...   \n",
      "83425                   Finland              19452.0  Hombre   \n",
      "83428                    Brazil              41232.0  Hombre   \n",
      "83431                  Pakistan              11676.0  Hombre   \n",
      "83432                    Canada              80169.0   Mujer   \n",
      "83436  United States of America              90000.0  Hombre   \n",
      "\n",
      "      ConvertedCompYearlyCategorical  \n",
      "45                             MEDIO  \n",
      "50                              BAJO  \n",
      "58                              BAJO  \n",
      "76                             MEDIO  \n",
      "77                              ALTO  \n",
      "...                              ...  \n",
      "83425                           BAJO  \n",
      "83428                          MEDIO  \n",
      "83431                           BAJO  \n",
      "83432                          MEDIO  \n",
      "83436                          MEDIO  \n",
      "\n",
      "[11611 rows x 4 columns]\n"
     ]
    }
   ],
   "source": [
    "df_data_wage_gap['ConvertedCompYearlyCategorical'] = 'ALTO'\n",
    "df_data_wage_gap.loc[(df_data_wage_gap['ConvertedCompYearly'] >= 0) & (df_data_wage_gap['ConvertedCompYearly'] <= 32747), 'ConvertedCompYearlyCategorical'] = 'BAJO'\n",
    "df_data_wage_gap.loc[(df_data_wage_gap['ConvertedCompYearly'] > 32747) & (df_data_wage_gap['ConvertedCompYearly'] <= 90000), 'ConvertedCompYearlyCategorical'] = 'MEDIO'\n",
    "\n",
    "print(df_data_wage_gap)"
   ]
  },
  {
   "cell_type": "code",
   "execution_count": 592,
   "metadata": {},
   "outputs": [],
   "source": [
    "df_data_wage_gap = df_data_wage_gap[df_data_wage_gap['ConvertedCompYearlyCategorical'].isin(['ALTO', 'MEDIO'])]"
   ]
  },
  {
   "cell_type": "code",
   "execution_count": 593,
   "metadata": {},
   "outputs": [],
   "source": [
    "df_data_wage_gap = df_data_wage_gap[['Country', 'Gender', 'ConvertedCompYearlyCategorical']]"
   ]
  },
  {
   "cell_type": "code",
   "execution_count": 595,
   "metadata": {},
   "outputs": [],
   "source": [
    "df_data_wage_gap.to_csv('005_df_data_wage_gap.csv', index=False)"
   ]
  },
  {
   "cell_type": "code",
   "execution_count": 572,
   "metadata": {},
   "outputs": [
    {
     "data": {
      "text/plain": [
       "77     ALTO\n",
       "45    MEDIO\n",
       "Name: ConvertedCompYearlyCategorical, dtype: object"
      ]
     },
     "execution_count": 572,
     "metadata": {},
     "output_type": "execute_result"
    }
   ],
   "source": [
    "df_data_wage_gap['ConvertedCompYearlyCategorical'].drop_duplicates().sort_values()"
   ]
  },
  {
   "cell_type": "code",
   "execution_count": 573,
   "metadata": {},
   "outputs": [
    {
     "data": {
      "text/plain": [
       "45                 Hombre\n",
       "264                 Mujer\n",
       "702     No binario u otro\n",
       "2559          No definido\n",
       "Name: Gender, dtype: object"
      ]
     },
     "execution_count": 573,
     "metadata": {},
     "output_type": "execute_result"
    }
   ],
   "source": [
    "df_data_wage_gap['Gender'].drop_duplicates().sort_values()"
   ]
  },
  {
   "cell_type": "code",
   "execution_count": 574,
   "metadata": {},
   "outputs": [
    {
     "data": {
      "text/plain": [
       "27198                             Afghanistan\n",
       "54847                                 Albania\n",
       "25364                                 Algeria\n",
       "34843                                 Andorra\n",
       "289                                 Argentina\n",
       "                         ...                 \n",
       "128                  United States of America\n",
       "1759                                  Uruguay\n",
       "44422    Venezuela, Bolivarian Republic of...\n",
       "10617                                Viet Nam\n",
       "27638                                  Zambia\n",
       "Name: Country, Length: 126, dtype: object"
      ]
     },
     "execution_count": 574,
     "metadata": {},
     "output_type": "execute_result"
    }
   ],
   "source": [
    "df_data_wage_gap['Country'].drop_duplicates().sort_values()"
   ]
  },
  {
   "cell_type": "code",
   "execution_count": 575,
   "metadata": {},
   "outputs": [],
   "source": [
    "df_data_wage_gap1 = df_data_wage_gap.copy()"
   ]
  },
  {
   "cell_type": "code",
   "execution_count": 615,
   "metadata": {},
   "outputs": [],
   "source": [
    "df_flourish_005 = df_data_wage_gap1.groupby(['Country', 'Gender']).size().unstack(fill_value=0).sort_values('Hombre')"
   ]
  },
  {
   "cell_type": "code",
   "execution_count": 616,
   "metadata": {},
   "outputs": [],
   "source": [
    "df_flourish_005 = df_flourish_005.apply(lambda x: pd.concat([x.head(40), x.tail(5)]))"
   ]
  },
  {
   "cell_type": "code",
   "execution_count": 609,
   "metadata": {},
   "outputs": [],
   "source": [
    "df_flourish_005.to_csv('005_flourish_data.csv', index=True)"
   ]
  },
  {
   "cell_type": "markdown",
   "metadata": {},
   "source": [
    "### 2.6. ¿Cuáles son los ingresos promedios según los rangos de edad? ¿Cuál es el rango de edad con el mejor y peor ingreso?\n",
    "\n",
    "Se seleccionarán los campos adecuados para responder a esta pregunta"
   ]
  },
  {
   "cell_type": "code",
   "execution_count": 618,
   "metadata": {},
   "outputs": [
    {
     "data": {
      "text/html": [
       "<div>\n",
       "<style scoped>\n",
       "    .dataframe tbody tr th:only-of-type {\n",
       "        vertical-align: middle;\n",
       "    }\n",
       "\n",
       "    .dataframe tbody tr th {\n",
       "        vertical-align: top;\n",
       "    }\n",
       "\n",
       "    .dataframe thead th {\n",
       "        text-align: right;\n",
       "    }\n",
       "</style>\n",
       "<table border=\"1\" class=\"dataframe\">\n",
       "  <thead>\n",
       "    <tr style=\"text-align: right;\">\n",
       "      <th></th>\n",
       "      <th>ConvertedCompYearly</th>\n",
       "      <th>Age</th>\n",
       "    </tr>\n",
       "  </thead>\n",
       "  <tbody>\n",
       "    <tr>\n",
       "      <th>45</th>\n",
       "      <td>60480.0</td>\n",
       "      <td>35-44</td>\n",
       "    </tr>\n",
       "    <tr>\n",
       "      <th>50</th>\n",
       "      <td>25944.0</td>\n",
       "      <td>25-34</td>\n",
       "    </tr>\n",
       "    <tr>\n",
       "      <th>58</th>\n",
       "      <td>22644.0</td>\n",
       "      <td>25-34</td>\n",
       "    </tr>\n",
       "    <tr>\n",
       "      <th>64</th>\n",
       "      <td>500000.0</td>\n",
       "      <td>35-44</td>\n",
       "    </tr>\n",
       "    <tr>\n",
       "      <th>76</th>\n",
       "      <td>45564.0</td>\n",
       "      <td>25-34</td>\n",
       "    </tr>\n",
       "  </tbody>\n",
       "</table>\n",
       "</div>"
      ],
      "text/plain": [
       "    ConvertedCompYearly    Age\n",
       "45              60480.0  35-44\n",
       "50              25944.0  25-34\n",
       "58              22644.0  25-34\n",
       "64             500000.0  35-44\n",
       "76              45564.0  25-34"
      ]
     },
     "execution_count": 618,
     "metadata": {},
     "output_type": "execute_result"
    }
   ],
   "source": [
    "data_age_income = data_test[['ConvertedCompYearly', 'Age']]\n",
    "data_age_income.head()"
   ]
  },
  {
   "cell_type": "code",
   "execution_count": 619,
   "metadata": {},
   "outputs": [],
   "source": [
    "df_data_age_income = data_age_income.copy()"
   ]
  },
  {
   "cell_type": "code",
   "execution_count": 620,
   "metadata": {},
   "outputs": [
    {
     "name": "stdout",
     "output_type": "stream",
     "text": [
      "       ConvertedCompYearly    Age\n",
      "45                 60480.0  35-44\n",
      "50                 25944.0  25-34\n",
      "58                 22644.0  25-34\n",
      "76                 45564.0  25-34\n",
      "77                151263.0  35-44\n",
      "...                    ...    ...\n",
      "83425              19452.0  18-24\n",
      "83428              41232.0  25-34\n",
      "83431              11676.0  18-24\n",
      "83432              80169.0  18-24\n",
      "83436              90000.0  25-34\n",
      "\n",
      "[11611 rows x 2 columns]\n"
     ]
    }
   ],
   "source": [
    "def remove_outliers(df, q=0.05):\n",
    "    upper = df.quantile(1-q)\n",
    "    lower = df.quantile(q)\n",
    "    mask = (df < upper) & (df > lower)\n",
    "    return mask\n",
    "\n",
    "mask = remove_outliers(df_data_age_income['ConvertedCompYearly'], 0.1)\n",
    "\n",
    "print(df_data_age_income[mask])"
   ]
  },
  {
   "cell_type": "code",
   "execution_count": 621,
   "metadata": {},
   "outputs": [],
   "source": [
    "df_data_age_income = df_data_age_income[mask]"
   ]
  },
  {
   "cell_type": "code",
   "execution_count": 625,
   "metadata": {},
   "outputs": [],
   "source": [
    "df_data_age_income1 = df_data_age_income.copy()"
   ]
  },
  {
   "cell_type": "code",
   "execution_count": 643,
   "metadata": {},
   "outputs": [],
   "source": [
    "df_data_age_income1.to_csv('006_df_data_age_income1.csv', index=False)"
   ]
  },
  {
   "cell_type": "code",
   "execution_count": 627,
   "metadata": {},
   "outputs": [],
   "source": [
    "grouped_df = df_data_age_income1.groupby(\"Age\")\n",
    "\n",
    "average_df = grouped_df.mean()"
   ]
  },
  {
   "cell_type": "code",
   "execution_count": 628,
   "metadata": {},
   "outputs": [
    {
     "data": {
      "text/html": [
       "<div>\n",
       "<style scoped>\n",
       "    .dataframe tbody tr th:only-of-type {\n",
       "        vertical-align: middle;\n",
       "    }\n",
       "\n",
       "    .dataframe tbody tr th {\n",
       "        vertical-align: top;\n",
       "    }\n",
       "\n",
       "    .dataframe thead th {\n",
       "        text-align: right;\n",
       "    }\n",
       "</style>\n",
       "<table border=\"1\" class=\"dataframe\">\n",
       "  <thead>\n",
       "    <tr style=\"text-align: right;\">\n",
       "      <th></th>\n",
       "      <th>ConvertedCompYearly</th>\n",
       "    </tr>\n",
       "    <tr>\n",
       "      <th>Age</th>\n",
       "      <th></th>\n",
       "    </tr>\n",
       "  </thead>\n",
       "  <tbody>\n",
       "    <tr>\n",
       "      <th>18-24</th>\n",
       "      <td>43758.228943</td>\n",
       "    </tr>\n",
       "    <tr>\n",
       "      <th>25-34</th>\n",
       "      <td>60962.367068</td>\n",
       "    </tr>\n",
       "    <tr>\n",
       "      <th>35-44</th>\n",
       "      <td>76911.641812</td>\n",
       "    </tr>\n",
       "    <tr>\n",
       "      <th>45-54</th>\n",
       "      <td>87229.578231</td>\n",
       "    </tr>\n",
       "    <tr>\n",
       "      <th>55-64</th>\n",
       "      <td>100102.974874</td>\n",
       "    </tr>\n",
       "    <tr>\n",
       "      <th>&lt; 18</th>\n",
       "      <td>39841.117647</td>\n",
       "    </tr>\n",
       "    <tr>\n",
       "      <th>&gt;= 65</th>\n",
       "      <td>95988.611111</td>\n",
       "    </tr>\n",
       "    <tr>\n",
       "      <th>No definido</th>\n",
       "      <td>77170.666667</td>\n",
       "    </tr>\n",
       "  </tbody>\n",
       "</table>\n",
       "</div>"
      ],
      "text/plain": [
       "             ConvertedCompYearly\n",
       "Age                             \n",
       "18-24               43758.228943\n",
       "25-34               60962.367068\n",
       "35-44               76911.641812\n",
       "45-54               87229.578231\n",
       "55-64              100102.974874\n",
       "< 18                39841.117647\n",
       ">= 65               95988.611111\n",
       "No definido         77170.666667"
      ]
     },
     "execution_count": 628,
     "metadata": {},
     "output_type": "execute_result"
    }
   ],
   "source": [
    "average_df"
   ]
  },
  {
   "cell_type": "code",
   "execution_count": 644,
   "metadata": {},
   "outputs": [],
   "source": [
    "df_flourish_006 = average_df.copy()"
   ]
  },
  {
   "cell_type": "code",
   "execution_count": 646,
   "metadata": {},
   "outputs": [],
   "source": [
    "df_flourish_006.to_csv('006_df_flourish_006.csv', index=True)"
   ]
  },
  {
   "cell_type": "markdown",
   "metadata": {},
   "source": [
    "### 2.7. ¿Cuáles son las tecnologías que permiten tener un mejor ingreso salarial anual?\n",
    "\n",
    "Se seleccionarán los campos adecuados para responder a esta pregunta"
   ]
  },
  {
   "cell_type": "code",
   "execution_count": 754,
   "metadata": {
    "scrolled": true
   },
   "outputs": [
    {
     "data": {
      "text/html": [
       "<div>\n",
       "<style scoped>\n",
       "    .dataframe tbody tr th:only-of-type {\n",
       "        vertical-align: middle;\n",
       "    }\n",
       "\n",
       "    .dataframe tbody tr th {\n",
       "        vertical-align: top;\n",
       "    }\n",
       "\n",
       "    .dataframe thead th {\n",
       "        text-align: right;\n",
       "    }\n",
       "</style>\n",
       "<table border=\"1\" class=\"dataframe\">\n",
       "  <thead>\n",
       "    <tr style=\"text-align: right;\">\n",
       "      <th></th>\n",
       "      <th>ConvertedCompYearly</th>\n",
       "      <th>LanguageHaveWorkedWith</th>\n",
       "      <th>DatabaseHaveWorkedWith</th>\n",
       "      <th>PlatformHaveWorkedWith</th>\n",
       "      <th>WebframeHaveWorkedWith</th>\n",
       "      <th>MiscTechHaveWorkedWith</th>\n",
       "      <th>ToolsTechHaveWorkedWith</th>\n",
       "      <th>NEWCollabToolsHaveWorkedWith</th>\n",
       "    </tr>\n",
       "  </thead>\n",
       "  <tbody>\n",
       "    <tr>\n",
       "      <th>45</th>\n",
       "      <td>60480.0</td>\n",
       "      <td>C#;C++;JavaScript;PowerShell;SQL;TypeScript</td>\n",
       "      <td>Microsoft SQL Server;PostgreSQL;Redis</td>\n",
       "      <td>Heroku;Microsoft Azure</td>\n",
       "      <td>ASP.NET Core ;React.js</td>\n",
       "      <td>.NET Core / .NET 5</td>\n",
       "      <td>Docker;Git;Kubernetes</td>\n",
       "      <td>Notepad++;Visual Studio;Visual Studio Code</td>\n",
       "    </tr>\n",
       "    <tr>\n",
       "      <th>50</th>\n",
       "      <td>25944.0</td>\n",
       "      <td>C#;HTML/CSS;JavaScript;Node.js;PowerShell;Type...</td>\n",
       "      <td>Couchbase;MariaDB;Microsoft SQL Server;MongoDB...</td>\n",
       "      <td>AWS;DigitalOcean;Microsoft Azure</td>\n",
       "      <td>Angular;ASP.NET;ASP.NET Core ;Express;Svelte</td>\n",
       "      <td>.NET Framework;.NET Core / .NET 5</td>\n",
       "      <td>Docker;Kubernetes</td>\n",
       "      <td>Notepad++;Visual Studio;Visual Studio Code</td>\n",
       "    </tr>\n",
       "    <tr>\n",
       "      <th>58</th>\n",
       "      <td>22644.0</td>\n",
       "      <td>Bash/Shell;HTML/CSS;JavaScript;Python;SQL</td>\n",
       "      <td>Oracle</td>\n",
       "      <td>Heroku</td>\n",
       "      <td>Django;FastAPI;Vue.js</td>\n",
       "      <td>NumPy;Pandas;Torch/PyTorch</td>\n",
       "      <td>Docker;Git</td>\n",
       "      <td>IPython/Jupyter;Visual Studio Code</td>\n",
       "    </tr>\n",
       "    <tr>\n",
       "      <th>64</th>\n",
       "      <td>500000.0</td>\n",
       "      <td>HTML/CSS;JavaScript;Python</td>\n",
       "      <td>MySQL</td>\n",
       "      <td>AWS</td>\n",
       "      <td>Flask</td>\n",
       "      <td>Pandas</td>\n",
       "      <td>Git</td>\n",
       "      <td>Notepad++;PyCharm;Sublime Text</td>\n",
       "    </tr>\n",
       "    <tr>\n",
       "      <th>76</th>\n",
       "      <td>45564.0</td>\n",
       "      <td>Bash/Shell;C#;Dart;Delphi;Go;HTML/CSS;Java;Jav...</td>\n",
       "      <td>Firebase;Microsoft SQL Server;MongoDB;MySQL;Po...</td>\n",
       "      <td>Google Cloud Platform;Microsoft Azure</td>\n",
       "      <td>Angular;Angular.js;ASP.NET;ASP.NET Core ;Djang...</td>\n",
       "      <td>.NET Framework;.NET Core / .NET 5;Apache Spark...</td>\n",
       "      <td>Docker;Git;Unity 3D</td>\n",
       "      <td>Android Studio;Eclipse;NetBeans;Notepad++;Visu...</td>\n",
       "    </tr>\n",
       "  </tbody>\n",
       "</table>\n",
       "</div>"
      ],
      "text/plain": [
       "    ConvertedCompYearly                             LanguageHaveWorkedWith  \\\n",
       "45              60480.0        C#;C++;JavaScript;PowerShell;SQL;TypeScript   \n",
       "50              25944.0  C#;HTML/CSS;JavaScript;Node.js;PowerShell;Type...   \n",
       "58              22644.0          Bash/Shell;HTML/CSS;JavaScript;Python;SQL   \n",
       "64             500000.0                         HTML/CSS;JavaScript;Python   \n",
       "76              45564.0  Bash/Shell;C#;Dart;Delphi;Go;HTML/CSS;Java;Jav...   \n",
       "\n",
       "                               DatabaseHaveWorkedWith  \\\n",
       "45              Microsoft SQL Server;PostgreSQL;Redis   \n",
       "50  Couchbase;MariaDB;Microsoft SQL Server;MongoDB...   \n",
       "58                                             Oracle   \n",
       "64                                              MySQL   \n",
       "76  Firebase;Microsoft SQL Server;MongoDB;MySQL;Po...   \n",
       "\n",
       "                   PlatformHaveWorkedWith  \\\n",
       "45                 Heroku;Microsoft Azure   \n",
       "50       AWS;DigitalOcean;Microsoft Azure   \n",
       "58                                 Heroku   \n",
       "64                                    AWS   \n",
       "76  Google Cloud Platform;Microsoft Azure   \n",
       "\n",
       "                               WebframeHaveWorkedWith  \\\n",
       "45                             ASP.NET Core ;React.js   \n",
       "50       Angular;ASP.NET;ASP.NET Core ;Express;Svelte   \n",
       "58                              Django;FastAPI;Vue.js   \n",
       "64                                              Flask   \n",
       "76  Angular;Angular.js;ASP.NET;ASP.NET Core ;Djang...   \n",
       "\n",
       "                               MiscTechHaveWorkedWith ToolsTechHaveWorkedWith  \\\n",
       "45                                 .NET Core / .NET 5   Docker;Git;Kubernetes   \n",
       "50                  .NET Framework;.NET Core / .NET 5       Docker;Kubernetes   \n",
       "58                         NumPy;Pandas;Torch/PyTorch              Docker;Git   \n",
       "64                                             Pandas                     Git   \n",
       "76  .NET Framework;.NET Core / .NET 5;Apache Spark...     Docker;Git;Unity 3D   \n",
       "\n",
       "                         NEWCollabToolsHaveWorkedWith  \n",
       "45         Notepad++;Visual Studio;Visual Studio Code  \n",
       "50         Notepad++;Visual Studio;Visual Studio Code  \n",
       "58                 IPython/Jupyter;Visual Studio Code  \n",
       "64                     Notepad++;PyCharm;Sublime Text  \n",
       "76  Android Studio;Eclipse;NetBeans;Notepad++;Visu...  "
      ]
     },
     "execution_count": 754,
     "metadata": {},
     "output_type": "execute_result"
    }
   ],
   "source": [
    "data_techs_best_income1 = data_test[['ConvertedCompYearly', 'LanguageHaveWorkedWith', 'DatabaseHaveWorkedWith', 'PlatformHaveWorkedWith', 'WebframeHaveWorkedWith', 'MiscTechHaveWorkedWith',  'ToolsTechHaveWorkedWith', 'NEWCollabToolsHaveWorkedWith']]\n",
    "data_techs_best_income1.head()"
   ]
  },
  {
   "cell_type": "code",
   "execution_count": 755,
   "metadata": {},
   "outputs": [
    {
     "name": "stdout",
     "output_type": "stream",
     "text": [
      "       ConvertedCompYearly                             LanguageHaveWorkedWith  \\\n",
      "45                 60480.0        C#;C++;JavaScript;PowerShell;SQL;TypeScript   \n",
      "50                 25944.0  C#;HTML/CSS;JavaScript;Node.js;PowerShell;Type...   \n",
      "58                 22644.0          Bash/Shell;HTML/CSS;JavaScript;Python;SQL   \n",
      "64                500000.0                         HTML/CSS;JavaScript;Python   \n",
      "76                 45564.0  Bash/Shell;C#;Dart;Delphi;Go;HTML/CSS;Java;Jav...   \n",
      "...                    ...                                                ...   \n",
      "83428              41232.0                      Bash/Shell;Node.js;TypeScript   \n",
      "83431              11676.0  C#;Dart;HTML/CSS;Java;JavaScript;Kotlin;Node.j...   \n",
      "83432              80169.0                                               Ruby   \n",
      "83436              90000.0                                 Groovy;Java;Python   \n",
      "83437             816816.0               Bash/Shell;JavaScript;Node.js;Python   \n",
      "\n",
      "                                  DatabaseHaveWorkedWith  \\\n",
      "45                 Microsoft SQL Server;PostgreSQL;Redis   \n",
      "50     Couchbase;MariaDB;Microsoft SQL Server;MongoDB...   \n",
      "58                                                Oracle   \n",
      "64                                                 MySQL   \n",
      "76     Firebase;Microsoft SQL Server;MongoDB;MySQL;Po...   \n",
      "...                                                  ...   \n",
      "83428             Elasticsearch;MongoDB;PostgreSQL;Redis   \n",
      "83431                              Firebase;MySQL;SQLite   \n",
      "83432                                   MySQL;PostgreSQL   \n",
      "83436    DynamoDB;Elasticsearch;MongoDB;PostgreSQL;Redis   \n",
      "83437   Cassandra;Elasticsearch;MongoDB;PostgreSQL;Redis   \n",
      "\n",
      "                      PlatformHaveWorkedWith  \\\n",
      "45                    Heroku;Microsoft Azure   \n",
      "50          AWS;DigitalOcean;Microsoft Azure   \n",
      "58                                    Heroku   \n",
      "64                                       AWS   \n",
      "76     Google Cloud Platform;Microsoft Azure   \n",
      "...                                      ...   \n",
      "83428              AWS;Google Cloud Platform   \n",
      "83431                  Google Cloud Platform   \n",
      "83432           Google Cloud Platform;Heroku   \n",
      "83436              AWS;Google Cloud Platform   \n",
      "83437                                 Heroku   \n",
      "\n",
      "                                  WebframeHaveWorkedWith  \\\n",
      "45                                ASP.NET Core ;React.js   \n",
      "50          Angular;ASP.NET;ASP.NET Core ;Express;Svelte   \n",
      "58                                 Django;FastAPI;Vue.js   \n",
      "64                                                 Flask   \n",
      "76     Angular;Angular.js;ASP.NET;ASP.NET Core ;Djang...   \n",
      "...                                                  ...   \n",
      "83428                                           React.js   \n",
      "83431                                       Flask;jQuery   \n",
      "83432                Flask;React.js;Ruby on Rails;Vue.js   \n",
      "83436                                      FastAPI;Flask   \n",
      "83437                      Django;Express;Flask;React.js   \n",
      "\n",
      "                                  MiscTechHaveWorkedWith  \\\n",
      "45                                    .NET Core / .NET 5   \n",
      "50                     .NET Framework;.NET Core / .NET 5   \n",
      "58                            NumPy;Pandas;Torch/PyTorch   \n",
      "64                                                Pandas   \n",
      "76     .NET Framework;.NET Core / .NET 5;Apache Spark...   \n",
      "...                                                  ...   \n",
      "83428                                       React Native   \n",
      "83431                                            Flutter   \n",
      "83432              NumPy;Pandas;TensorFlow;Torch/PyTorch   \n",
      "83436                          Hadoop;Keras;NumPy;Pandas   \n",
      "83437              NumPy;Pandas;TensorFlow;Torch/PyTorch   \n",
      "\n",
      "            ToolsTechHaveWorkedWith  \\\n",
      "45            Docker;Git;Kubernetes   \n",
      "50                Docker;Kubernetes   \n",
      "58                       Docker;Git   \n",
      "64                              Git   \n",
      "76              Docker;Git;Unity 3D   \n",
      "...                             ...   \n",
      "83428     Docker;Git;Terraform;Yarn   \n",
      "83431                           Git   \n",
      "83432    Docker;Git;Kubernetes;Yarn   \n",
      "83436  Ansible;Docker;Git;Terraform   \n",
      "83437  Ansible;Docker;Git;Terraform   \n",
      "\n",
      "                            NEWCollabToolsHaveWorkedWith  \\\n",
      "45            Notepad++;Visual Studio;Visual Studio Code   \n",
      "50            Notepad++;Visual Studio;Visual Studio Code   \n",
      "58                    IPython/Jupyter;Visual Studio Code   \n",
      "64                        Notepad++;PyCharm;Sublime Text   \n",
      "76     Android Studio;Eclipse;NetBeans;Notepad++;Visu...   \n",
      "...                                                  ...   \n",
      "83428                        Visual Studio Code;Webstorm   \n",
      "83431  Android Studio;IntelliJ;IPython/Jupyter;Notepa...   \n",
      "83432        Atom;IPython/Jupyter;Vim;Visual Studio Code   \n",
      "83436  Android Studio;Eclipse;IntelliJ;IPython/Jupyte...   \n",
      "83437                               PyCharm;Sublime Text   \n",
      "\n",
      "                                                AllTechs  \n",
      "45     C#;C++;JavaScript;PowerShell;SQL;TypeScript;Mi...  \n",
      "50     C#;HTML/CSS;JavaScript;Node.js;PowerShell;Type...  \n",
      "58     Bash/Shell;HTML/CSS;JavaScript;Python;SQL;Orac...  \n",
      "64     HTML/CSS;JavaScript;Python;MySQL;AWS;Flask;Pan...  \n",
      "76     Bash/Shell;C#;Dart;Delphi;Go;HTML/CSS;Java;Jav...  \n",
      "...                                                  ...  \n",
      "83428  Bash/Shell;Node.js;TypeScript;Elasticsearch;Mo...  \n",
      "83431  C#;Dart;HTML/CSS;Java;JavaScript;Kotlin;Node.j...  \n",
      "83432  Ruby;MySQL;PostgreSQL;Google Cloud Platform;He...  \n",
      "83436  Groovy;Java;Python;DynamoDB;Elasticsearch;Mong...  \n",
      "83437  Bash/Shell;JavaScript;Node.js;Python;Cassandra...  \n",
      "\n",
      "[14517 rows x 9 columns]\n"
     ]
    },
    {
     "name": "stderr",
     "output_type": "stream",
     "text": [
      "C:\\Users\\GPBONI~1\\AppData\\Local\\Temp/ipykernel_9952/782511894.py:1: SettingWithCopyWarning: \n",
      "A value is trying to be set on a copy of a slice from a DataFrame.\n",
      "Try using .loc[row_indexer,col_indexer] = value instead\n",
      "\n",
      "See the caveats in the documentation: https://pandas.pydata.org/pandas-docs/stable/user_guide/indexing.html#returning-a-view-versus-a-copy\n",
      "  data_techs_best_income1['AllTechs'] = data_techs_best_income1['LanguageHaveWorkedWith'].map(str) + ';' + data_techs_best_income1['DatabaseHaveWorkedWith'].map(str) + ';' + data_techs_best_income1['PlatformHaveWorkedWith'].map(str) + ';' + data_techs_best_income1['WebframeHaveWorkedWith'].map(str) + ';' + data_techs_best_income1['MiscTechHaveWorkedWith'].map(str) + ';' + data_techs_best_income1['ToolsTechHaveWorkedWith'].map(str) + ';' + data_techs_best_income1['NEWCollabToolsHaveWorkedWith'].map(str)\n"
     ]
    }
   ],
   "source": [
    "data_techs_best_income1['AllTechs'] = data_techs_best_income1['LanguageHaveWorkedWith'].map(str) + ';' + data_techs_best_income1['DatabaseHaveWorkedWith'].map(str) + ';' + data_techs_best_income1['PlatformHaveWorkedWith'].map(str) + ';' + data_techs_best_income1['WebframeHaveWorkedWith'].map(str) + ';' + data_techs_best_income1['MiscTechHaveWorkedWith'].map(str) + ';' + data_techs_best_income1['ToolsTechHaveWorkedWith'].map(str) + ';' + data_techs_best_income1['NEWCollabToolsHaveWorkedWith'].map(str)\n",
    "print (data_techs_best_income1)"
   ]
  },
  {
   "cell_type": "code",
   "execution_count": 757,
   "metadata": {},
   "outputs": [],
   "source": [
    "df_data_techs_best_income = data_techs_best_income1[['ConvertedCompYearly', 'AllTechs']].copy()"
   ]
  },
  {
   "cell_type": "code",
   "execution_count": 759,
   "metadata": {},
   "outputs": [],
   "source": [
    "df_data_techs_best_income1 = df_data_techs_best_income.copy()"
   ]
  },
  {
   "cell_type": "code",
   "execution_count": 760,
   "metadata": {},
   "outputs": [
    {
     "name": "stdout",
     "output_type": "stream",
     "text": [
      "       ConvertedCompYearly                                           AllTechs\n",
      "45                 60480.0  C#;C++;JavaScript;PowerShell;SQL;TypeScript;Mi...\n",
      "50                 25944.0  C#;HTML/CSS;JavaScript;Node.js;PowerShell;Type...\n",
      "58                 22644.0  Bash/Shell;HTML/CSS;JavaScript;Python;SQL;Orac...\n",
      "76                 45564.0  Bash/Shell;C#;Dart;Delphi;Go;HTML/CSS;Java;Jav...\n",
      "77                151263.0  HTML/CSS;Python;R;DynamoDB;AWS;Flask;Keras;Num...\n",
      "...                    ...                                                ...\n",
      "83425              19452.0  HTML/CSS;JavaScript;Node.js;TypeScript;DynamoD...\n",
      "83428              41232.0  Bash/Shell;Node.js;TypeScript;Elasticsearch;Mo...\n",
      "83431              11676.0  C#;Dart;HTML/CSS;Java;JavaScript;Kotlin;Node.j...\n",
      "83432              80169.0  Ruby;MySQL;PostgreSQL;Google Cloud Platform;He...\n",
      "83436              90000.0  Groovy;Java;Python;DynamoDB;Elasticsearch;Mong...\n",
      "\n",
      "[11611 rows x 2 columns]\n"
     ]
    }
   ],
   "source": [
    "def remove_outliers(df, q=0.05):\n",
    "    upper = df.quantile(1-q)\n",
    "    lower = df.quantile(q)\n",
    "    mask = (df < upper) & (df > lower)\n",
    "    return mask\n",
    "\n",
    "mask = remove_outliers(df_data_techs_best_income1['ConvertedCompYearly'], 0.1)\n",
    "\n",
    "print(df_data_techs_best_income1[mask])"
   ]
  },
  {
   "cell_type": "code",
   "execution_count": 761,
   "metadata": {},
   "outputs": [],
   "source": [
    "df_data_techs_best_income1 = df_data_techs_best_income1[mask]"
   ]
  },
  {
   "cell_type": "code",
   "execution_count": 762,
   "metadata": {
    "scrolled": true
   },
   "outputs": [
    {
     "name": "stdout",
     "output_type": "stream",
     "text": [
      "       ConvertedCompYearly                                           AllTechs  \\\n",
      "45                 60480.0  C#;C++;JavaScript;PowerShell;SQL;TypeScript;Mi...   \n",
      "50                 25944.0  C#;HTML/CSS;JavaScript;Node.js;PowerShell;Type...   \n",
      "58                 22644.0  Bash/Shell;HTML/CSS;JavaScript;Python;SQL;Orac...   \n",
      "76                 45564.0  Bash/Shell;C#;Dart;Delphi;Go;HTML/CSS;Java;Jav...   \n",
      "77                151263.0  HTML/CSS;Python;R;DynamoDB;AWS;Flask;Keras;Num...   \n",
      "...                    ...                                                ...   \n",
      "83425              19452.0  HTML/CSS;JavaScript;Node.js;TypeScript;DynamoD...   \n",
      "83428              41232.0  Bash/Shell;Node.js;TypeScript;Elasticsearch;Mo...   \n",
      "83431              11676.0  C#;Dart;HTML/CSS;Java;JavaScript;Kotlin;Node.j...   \n",
      "83432              80169.0  Ruby;MySQL;PostgreSQL;Google Cloud Platform;He...   \n",
      "83436              90000.0  Groovy;Java;Python;DynamoDB;Elasticsearch;Mong...   \n",
      "\n",
      "      ConvertedCompYearlyCategorical  \n",
      "45                             MEDIO  \n",
      "50                              BAJO  \n",
      "58                              BAJO  \n",
      "76                             MEDIO  \n",
      "77                              ALTO  \n",
      "...                              ...  \n",
      "83425                           BAJO  \n",
      "83428                          MEDIO  \n",
      "83431                           BAJO  \n",
      "83432                          MEDIO  \n",
      "83436                          MEDIO  \n",
      "\n",
      "[11611 rows x 3 columns]\n"
     ]
    }
   ],
   "source": [
    "df_data_techs_best_income1['ConvertedCompYearlyCategorical'] = 'ALTO'\n",
    "df_data_techs_best_income1.loc[(df_data_techs_best_income1['ConvertedCompYearly'] >= 0) & (df_data_techs_best_income1['ConvertedCompYearly'] <= 32747), 'ConvertedCompYearlyCategorical'] = 'BAJO'\n",
    "df_data_techs_best_income1.loc[(df_data_techs_best_income1['ConvertedCompYearly'] > 32747) & (df_data_techs_best_income1['ConvertedCompYearly'] <= 90000), 'ConvertedCompYearlyCategorical'] = 'MEDIO'\n",
    "\n",
    "print(df_data_techs_best_income1)"
   ]
  },
  {
   "cell_type": "code",
   "execution_count": 763,
   "metadata": {},
   "outputs": [],
   "source": [
    "df_data_techs_best_income1 = df_data_techs_best_income1[df_data_techs_best_income1['ConvertedCompYearlyCategorical'].isin(['ALTO', 'MEDIO'])]"
   ]
  },
  {
   "cell_type": "code",
   "execution_count": 765,
   "metadata": {},
   "outputs": [],
   "source": [
    "df_data_techs_best_income1['AllTechs'] = df_data_techs_best_income1['AllTechs'].str.replace(' ', '')"
   ]
  },
  {
   "cell_type": "code",
   "execution_count": 766,
   "metadata": {},
   "outputs": [],
   "source": [
    "df_data_techs_best_income1['AllTechs'] = df_data_techs_best_income1['AllTechs'].str.replace(';', ' ')"
   ]
  },
  {
   "cell_type": "code",
   "execution_count": 768,
   "metadata": {},
   "outputs": [],
   "source": [
    "df_counts = df_data_techs_best_income1['AllTechs'].str.split(expand=True).stack().value_counts().rename_axis('Tech').reset_index(name='Count')"
   ]
  },
  {
   "cell_type": "code",
   "execution_count": 771,
   "metadata": {},
   "outputs": [
    {
     "data": {
      "text/html": [
       "<div>\n",
       "<style scoped>\n",
       "    .dataframe tbody tr th:only-of-type {\n",
       "        vertical-align: middle;\n",
       "    }\n",
       "\n",
       "    .dataframe tbody tr th {\n",
       "        vertical-align: top;\n",
       "    }\n",
       "\n",
       "    .dataframe thead th {\n",
       "        text-align: right;\n",
       "    }\n",
       "</style>\n",
       "<table border=\"1\" class=\"dataframe\">\n",
       "  <thead>\n",
       "    <tr style=\"text-align: right;\">\n",
       "      <th></th>\n",
       "      <th>Tech</th>\n",
       "      <th>Count</th>\n",
       "    </tr>\n",
       "  </thead>\n",
       "  <tbody>\n",
       "    <tr>\n",
       "      <th>0</th>\n",
       "      <td>Git</td>\n",
       "      <td>8300</td>\n",
       "    </tr>\n",
       "    <tr>\n",
       "      <th>1</th>\n",
       "      <td>VisualStudioCode</td>\n",
       "      <td>7131</td>\n",
       "    </tr>\n",
       "    <tr>\n",
       "      <th>2</th>\n",
       "      <td>JavaScript</td>\n",
       "      <td>7057</td>\n",
       "    </tr>\n",
       "    <tr>\n",
       "      <th>3</th>\n",
       "      <td>Docker</td>\n",
       "      <td>5879</td>\n",
       "    </tr>\n",
       "    <tr>\n",
       "      <th>4</th>\n",
       "      <td>HTML/CSS</td>\n",
       "      <td>5821</td>\n",
       "    </tr>\n",
       "    <tr>\n",
       "      <th>5</th>\n",
       "      <td>SQL</td>\n",
       "      <td>5699</td>\n",
       "    </tr>\n",
       "    <tr>\n",
       "      <th>6</th>\n",
       "      <td>AWS</td>\n",
       "      <td>5066</td>\n",
       "    </tr>\n",
       "    <tr>\n",
       "      <th>7</th>\n",
       "      <td>C#</td>\n",
       "      <td>4717</td>\n",
       "    </tr>\n",
       "    <tr>\n",
       "      <th>8</th>\n",
       "      <td>TypeScript</td>\n",
       "      <td>4531</td>\n",
       "    </tr>\n",
       "    <tr>\n",
       "      <th>9</th>\n",
       "      <td>VisualStudio</td>\n",
       "      <td>4497</td>\n",
       "    </tr>\n",
       "  </tbody>\n",
       "</table>\n",
       "</div>"
      ],
      "text/plain": [
       "               Tech  Count\n",
       "0               Git   8300\n",
       "1  VisualStudioCode   7131\n",
       "2        JavaScript   7057\n",
       "3            Docker   5879\n",
       "4          HTML/CSS   5821\n",
       "5               SQL   5699\n",
       "6               AWS   5066\n",
       "7                C#   4717\n",
       "8        TypeScript   4531\n",
       "9      VisualStudio   4497"
      ]
     },
     "execution_count": 771,
     "metadata": {},
     "output_type": "execute_result"
    }
   ],
   "source": [
    "df_counts.head(10)"
   ]
  },
  {
   "cell_type": "code",
   "execution_count": 772,
   "metadata": {},
   "outputs": [],
   "source": [
    "df_data_techs_best_income_007 = df_counts.head(10)"
   ]
  },
  {
   "cell_type": "code",
   "execution_count": 773,
   "metadata": {},
   "outputs": [],
   "source": [
    "df_data_techs_best_income_007.to_csv('007_df_data_techs_best_income.csv', index=False)"
   ]
  },
  {
   "cell_type": "markdown",
   "metadata": {},
   "source": [
    "### 2.8. ¿Cuántas tecnologías en promedio domina un programador profesional?\n",
    "\n",
    "Se seleccionarán los campos adecuados para responder a esta pregunta"
   ]
  },
  {
   "cell_type": "code",
   "execution_count": 792,
   "metadata": {},
   "outputs": [
    {
     "data": {
      "text/html": [
       "<div>\n",
       "<style scoped>\n",
       "    .dataframe tbody tr th:only-of-type {\n",
       "        vertical-align: middle;\n",
       "    }\n",
       "\n",
       "    .dataframe tbody tr th {\n",
       "        vertical-align: top;\n",
       "    }\n",
       "\n",
       "    .dataframe thead th {\n",
       "        text-align: right;\n",
       "    }\n",
       "</style>\n",
       "<table border=\"1\" class=\"dataframe\">\n",
       "  <thead>\n",
       "    <tr style=\"text-align: right;\">\n",
       "      <th></th>\n",
       "      <th>DevType</th>\n",
       "      <th>LanguageHaveWorkedWith</th>\n",
       "      <th>DatabaseHaveWorkedWith</th>\n",
       "      <th>PlatformHaveWorkedWith</th>\n",
       "      <th>WebframeHaveWorkedWith</th>\n",
       "      <th>MiscTechHaveWorkedWith</th>\n",
       "      <th>ToolsTechHaveWorkedWith</th>\n",
       "      <th>NEWCollabToolsHaveWorkedWith</th>\n",
       "    </tr>\n",
       "  </thead>\n",
       "  <tbody>\n",
       "    <tr>\n",
       "      <th>45</th>\n",
       "      <td>Desarrollador Escritorio</td>\n",
       "      <td>C#;C++;JavaScript;PowerShell;SQL;TypeScript</td>\n",
       "      <td>Microsoft SQL Server;PostgreSQL;Redis</td>\n",
       "      <td>Heroku;Microsoft Azure</td>\n",
       "      <td>ASP.NET Core ;React.js</td>\n",
       "      <td>.NET Core / .NET 5</td>\n",
       "      <td>Docker;Git;Kubernetes</td>\n",
       "      <td>Notepad++;Visual Studio;Visual Studio Code</td>\n",
       "    </tr>\n",
       "    <tr>\n",
       "      <th>50</th>\n",
       "      <td>Desarrollador full-stack</td>\n",
       "      <td>C#;HTML/CSS;JavaScript;Node.js;PowerShell;Type...</td>\n",
       "      <td>Couchbase;MariaDB;Microsoft SQL Server;MongoDB...</td>\n",
       "      <td>AWS;DigitalOcean;Microsoft Azure</td>\n",
       "      <td>Angular;ASP.NET;ASP.NET Core ;Express;Svelte</td>\n",
       "      <td>.NET Framework;.NET Core / .NET 5</td>\n",
       "      <td>Docker;Kubernetes</td>\n",
       "      <td>Notepad++;Visual Studio;Visual Studio Code</td>\n",
       "    </tr>\n",
       "    <tr>\n",
       "      <th>58</th>\n",
       "      <td>Desarrollador full-stack</td>\n",
       "      <td>Bash/Shell;HTML/CSS;JavaScript;Python;SQL</td>\n",
       "      <td>Oracle</td>\n",
       "      <td>Heroku</td>\n",
       "      <td>Django;FastAPI;Vue.js</td>\n",
       "      <td>NumPy;Pandas;Torch/PyTorch</td>\n",
       "      <td>Docker;Git</td>\n",
       "      <td>IPython/Jupyter;Visual Studio Code</td>\n",
       "    </tr>\n",
       "    <tr>\n",
       "      <th>64</th>\n",
       "      <td>Desarrollador front-end</td>\n",
       "      <td>HTML/CSS;JavaScript;Python</td>\n",
       "      <td>MySQL</td>\n",
       "      <td>AWS</td>\n",
       "      <td>Flask</td>\n",
       "      <td>Pandas</td>\n",
       "      <td>Git</td>\n",
       "      <td>Notepad++;PyCharm;Sublime Text</td>\n",
       "    </tr>\n",
       "    <tr>\n",
       "      <th>76</th>\n",
       "      <td>Desarrollador front-end</td>\n",
       "      <td>Bash/Shell;C#;Dart;Delphi;Go;HTML/CSS;Java;Jav...</td>\n",
       "      <td>Firebase;Microsoft SQL Server;MongoDB;MySQL;Po...</td>\n",
       "      <td>Google Cloud Platform;Microsoft Azure</td>\n",
       "      <td>Angular;Angular.js;ASP.NET;ASP.NET Core ;Djang...</td>\n",
       "      <td>.NET Framework;.NET Core / .NET 5;Apache Spark...</td>\n",
       "      <td>Docker;Git;Unity 3D</td>\n",
       "      <td>Android Studio;Eclipse;NetBeans;Notepad++;Visu...</td>\n",
       "    </tr>\n",
       "  </tbody>\n",
       "</table>\n",
       "</div>"
      ],
      "text/plain": [
       "                     DevType  \\\n",
       "45  Desarrollador Escritorio   \n",
       "50  Desarrollador full-stack   \n",
       "58  Desarrollador full-stack   \n",
       "64   Desarrollador front-end   \n",
       "76   Desarrollador front-end   \n",
       "\n",
       "                               LanguageHaveWorkedWith  \\\n",
       "45        C#;C++;JavaScript;PowerShell;SQL;TypeScript   \n",
       "50  C#;HTML/CSS;JavaScript;Node.js;PowerShell;Type...   \n",
       "58          Bash/Shell;HTML/CSS;JavaScript;Python;SQL   \n",
       "64                         HTML/CSS;JavaScript;Python   \n",
       "76  Bash/Shell;C#;Dart;Delphi;Go;HTML/CSS;Java;Jav...   \n",
       "\n",
       "                               DatabaseHaveWorkedWith  \\\n",
       "45              Microsoft SQL Server;PostgreSQL;Redis   \n",
       "50  Couchbase;MariaDB;Microsoft SQL Server;MongoDB...   \n",
       "58                                             Oracle   \n",
       "64                                              MySQL   \n",
       "76  Firebase;Microsoft SQL Server;MongoDB;MySQL;Po...   \n",
       "\n",
       "                   PlatformHaveWorkedWith  \\\n",
       "45                 Heroku;Microsoft Azure   \n",
       "50       AWS;DigitalOcean;Microsoft Azure   \n",
       "58                                 Heroku   \n",
       "64                                    AWS   \n",
       "76  Google Cloud Platform;Microsoft Azure   \n",
       "\n",
       "                               WebframeHaveWorkedWith  \\\n",
       "45                             ASP.NET Core ;React.js   \n",
       "50       Angular;ASP.NET;ASP.NET Core ;Express;Svelte   \n",
       "58                              Django;FastAPI;Vue.js   \n",
       "64                                              Flask   \n",
       "76  Angular;Angular.js;ASP.NET;ASP.NET Core ;Djang...   \n",
       "\n",
       "                               MiscTechHaveWorkedWith ToolsTechHaveWorkedWith  \\\n",
       "45                                 .NET Core / .NET 5   Docker;Git;Kubernetes   \n",
       "50                  .NET Framework;.NET Core / .NET 5       Docker;Kubernetes   \n",
       "58                         NumPy;Pandas;Torch/PyTorch              Docker;Git   \n",
       "64                                             Pandas                     Git   \n",
       "76  .NET Framework;.NET Core / .NET 5;Apache Spark...     Docker;Git;Unity 3D   \n",
       "\n",
       "                         NEWCollabToolsHaveWorkedWith  \n",
       "45         Notepad++;Visual Studio;Visual Studio Code  \n",
       "50         Notepad++;Visual Studio;Visual Studio Code  \n",
       "58                 IPython/Jupyter;Visual Studio Code  \n",
       "64                     Notepad++;PyCharm;Sublime Text  \n",
       "76  Android Studio;Eclipse;NetBeans;Notepad++;Visu...  "
      ]
     },
     "execution_count": 792,
     "metadata": {},
     "output_type": "execute_result"
    }
   ],
   "source": [
    "data_techs_dev_pro1 = data_test[['DevType', 'LanguageHaveWorkedWith', 'DatabaseHaveWorkedWith', 'PlatformHaveWorkedWith', 'WebframeHaveWorkedWith', 'MiscTechHaveWorkedWith',  'ToolsTechHaveWorkedWith', 'NEWCollabToolsHaveWorkedWith']]\n",
    "data_techs_dev_pro1.head()"
   ]
  },
  {
   "cell_type": "code",
   "execution_count": 793,
   "metadata": {
    "scrolled": true
   },
   "outputs": [
    {
     "name": "stdout",
     "output_type": "stream",
     "text": [
      "                        DevType  \\\n",
      "45     Desarrollador Escritorio   \n",
      "50     Desarrollador full-stack   \n",
      "58     Desarrollador full-stack   \n",
      "64      Desarrollador front-end   \n",
      "76      Desarrollador front-end   \n",
      "...                         ...   \n",
      "83428          Ejecutivo Senior   \n",
      "83431       Desarrollador móvil   \n",
      "83432    Desarrollador back-end   \n",
      "83436       Cientifico de datos   \n",
      "83437    Desarrollador back-end   \n",
      "\n",
      "                                  LanguageHaveWorkedWith  \\\n",
      "45           C#;C++;JavaScript;PowerShell;SQL;TypeScript   \n",
      "50     C#;HTML/CSS;JavaScript;Node.js;PowerShell;Type...   \n",
      "58             Bash/Shell;HTML/CSS;JavaScript;Python;SQL   \n",
      "64                            HTML/CSS;JavaScript;Python   \n",
      "76     Bash/Shell;C#;Dart;Delphi;Go;HTML/CSS;Java;Jav...   \n",
      "...                                                  ...   \n",
      "83428                      Bash/Shell;Node.js;TypeScript   \n",
      "83431  C#;Dart;HTML/CSS;Java;JavaScript;Kotlin;Node.j...   \n",
      "83432                                               Ruby   \n",
      "83436                                 Groovy;Java;Python   \n",
      "83437               Bash/Shell;JavaScript;Node.js;Python   \n",
      "\n",
      "                                  DatabaseHaveWorkedWith  \\\n",
      "45                 Microsoft SQL Server;PostgreSQL;Redis   \n",
      "50     Couchbase;MariaDB;Microsoft SQL Server;MongoDB...   \n",
      "58                                                Oracle   \n",
      "64                                                 MySQL   \n",
      "76     Firebase;Microsoft SQL Server;MongoDB;MySQL;Po...   \n",
      "...                                                  ...   \n",
      "83428             Elasticsearch;MongoDB;PostgreSQL;Redis   \n",
      "83431                              Firebase;MySQL;SQLite   \n",
      "83432                                   MySQL;PostgreSQL   \n",
      "83436    DynamoDB;Elasticsearch;MongoDB;PostgreSQL;Redis   \n",
      "83437   Cassandra;Elasticsearch;MongoDB;PostgreSQL;Redis   \n",
      "\n",
      "                      PlatformHaveWorkedWith  \\\n",
      "45                    Heroku;Microsoft Azure   \n",
      "50          AWS;DigitalOcean;Microsoft Azure   \n",
      "58                                    Heroku   \n",
      "64                                       AWS   \n",
      "76     Google Cloud Platform;Microsoft Azure   \n",
      "...                                      ...   \n",
      "83428              AWS;Google Cloud Platform   \n",
      "83431                  Google Cloud Platform   \n",
      "83432           Google Cloud Platform;Heroku   \n",
      "83436              AWS;Google Cloud Platform   \n",
      "83437                                 Heroku   \n",
      "\n",
      "                                  WebframeHaveWorkedWith  \\\n",
      "45                                ASP.NET Core ;React.js   \n",
      "50          Angular;ASP.NET;ASP.NET Core ;Express;Svelte   \n",
      "58                                 Django;FastAPI;Vue.js   \n",
      "64                                                 Flask   \n",
      "76     Angular;Angular.js;ASP.NET;ASP.NET Core ;Djang...   \n",
      "...                                                  ...   \n",
      "83428                                           React.js   \n",
      "83431                                       Flask;jQuery   \n",
      "83432                Flask;React.js;Ruby on Rails;Vue.js   \n",
      "83436                                      FastAPI;Flask   \n",
      "83437                      Django;Express;Flask;React.js   \n",
      "\n",
      "                                  MiscTechHaveWorkedWith  \\\n",
      "45                                    .NET Core / .NET 5   \n",
      "50                     .NET Framework;.NET Core / .NET 5   \n",
      "58                            NumPy;Pandas;Torch/PyTorch   \n",
      "64                                                Pandas   \n",
      "76     .NET Framework;.NET Core / .NET 5;Apache Spark...   \n",
      "...                                                  ...   \n",
      "83428                                       React Native   \n",
      "83431                                            Flutter   \n",
      "83432              NumPy;Pandas;TensorFlow;Torch/PyTorch   \n",
      "83436                          Hadoop;Keras;NumPy;Pandas   \n",
      "83437              NumPy;Pandas;TensorFlow;Torch/PyTorch   \n",
      "\n",
      "            ToolsTechHaveWorkedWith  \\\n",
      "45            Docker;Git;Kubernetes   \n",
      "50                Docker;Kubernetes   \n",
      "58                       Docker;Git   \n",
      "64                              Git   \n",
      "76              Docker;Git;Unity 3D   \n",
      "...                             ...   \n",
      "83428     Docker;Git;Terraform;Yarn   \n",
      "83431                           Git   \n",
      "83432    Docker;Git;Kubernetes;Yarn   \n",
      "83436  Ansible;Docker;Git;Terraform   \n",
      "83437  Ansible;Docker;Git;Terraform   \n",
      "\n",
      "                            NEWCollabToolsHaveWorkedWith  \\\n",
      "45            Notepad++;Visual Studio;Visual Studio Code   \n",
      "50            Notepad++;Visual Studio;Visual Studio Code   \n",
      "58                    IPython/Jupyter;Visual Studio Code   \n",
      "64                        Notepad++;PyCharm;Sublime Text   \n",
      "76     Android Studio;Eclipse;NetBeans;Notepad++;Visu...   \n",
      "...                                                  ...   \n",
      "83428                        Visual Studio Code;Webstorm   \n",
      "83431  Android Studio;IntelliJ;IPython/Jupyter;Notepa...   \n",
      "83432        Atom;IPython/Jupyter;Vim;Visual Studio Code   \n",
      "83436  Android Studio;Eclipse;IntelliJ;IPython/Jupyte...   \n",
      "83437                               PyCharm;Sublime Text   \n",
      "\n",
      "                                                AllTechs  \n",
      "45     C#;C++;JavaScript;PowerShell;SQL;TypeScript;Mi...  \n",
      "50     C#;HTML/CSS;JavaScript;Node.js;PowerShell;Type...  \n",
      "58     Bash/Shell;HTML/CSS;JavaScript;Python;SQL;Orac...  \n",
      "64     HTML/CSS;JavaScript;Python;MySQL;AWS;Flask;Pan...  \n",
      "76     Bash/Shell;C#;Dart;Delphi;Go;HTML/CSS;Java;Jav...  \n",
      "...                                                  ...  \n",
      "83428  Bash/Shell;Node.js;TypeScript;Elasticsearch;Mo...  \n",
      "83431  C#;Dart;HTML/CSS;Java;JavaScript;Kotlin;Node.j...  \n",
      "83432  Ruby;MySQL;PostgreSQL;Google Cloud Platform;He...  \n",
      "83436  Groovy;Java;Python;DynamoDB;Elasticsearch;Mong...  \n",
      "83437  Bash/Shell;JavaScript;Node.js;Python;Cassandra...  \n",
      "\n",
      "[14517 rows x 9 columns]\n"
     ]
    },
    {
     "name": "stderr",
     "output_type": "stream",
     "text": [
      "C:\\Users\\GPBONI~1\\AppData\\Local\\Temp/ipykernel_9952/1321581082.py:1: SettingWithCopyWarning: \n",
      "A value is trying to be set on a copy of a slice from a DataFrame.\n",
      "Try using .loc[row_indexer,col_indexer] = value instead\n",
      "\n",
      "See the caveats in the documentation: https://pandas.pydata.org/pandas-docs/stable/user_guide/indexing.html#returning-a-view-versus-a-copy\n",
      "  data_techs_dev_pro1['AllTechs'] = data_techs_dev_pro1['LanguageHaveWorkedWith'].map(str) + ';' + data_techs_dev_pro1['DatabaseHaveWorkedWith'].map(str) + ';' + data_techs_dev_pro1['PlatformHaveWorkedWith'].map(str) + ';' + data_techs_dev_pro1['WebframeHaveWorkedWith'].map(str) + ';' + data_techs_dev_pro1['MiscTechHaveWorkedWith'].map(str) + ';' + data_techs_best_income1['ToolsTechHaveWorkedWith'].map(str) + ';' + data_techs_dev_pro1['NEWCollabToolsHaveWorkedWith'].map(str)\n"
     ]
    }
   ],
   "source": [
    "data_techs_dev_pro1['AllTechs'] = data_techs_dev_pro1['LanguageHaveWorkedWith'].map(str) + ';' + data_techs_dev_pro1['DatabaseHaveWorkedWith'].map(str) + ';' + data_techs_dev_pro1['PlatformHaveWorkedWith'].map(str) + ';' + data_techs_dev_pro1['WebframeHaveWorkedWith'].map(str) + ';' + data_techs_dev_pro1['MiscTechHaveWorkedWith'].map(str) + ';' + data_techs_best_income1['ToolsTechHaveWorkedWith'].map(str) + ';' + data_techs_dev_pro1['NEWCollabToolsHaveWorkedWith'].map(str)\n",
    "print (data_techs_dev_pro1)"
   ]
  },
  {
   "cell_type": "code",
   "execution_count": 794,
   "metadata": {},
   "outputs": [],
   "source": [
    "df_data_techs_dev_pro = data_techs_dev_pro1[['DevType', 'AllTechs']].copy()"
   ]
  },
  {
   "cell_type": "code",
   "execution_count": 796,
   "metadata": {},
   "outputs": [],
   "source": [
    "df_data_techs_dev_pro = df_data_techs_dev_pro[df_data_techs_dev_pro['DevType'].isin(['Desarrollador full-stack', 'Desarrollador front-end', 'Desarrollador móvil', 'Desarrollador back-end', 'Desarrollador Escritorio', 'Desarrollador de QA o Test', 'Desarrollador de aplicaciones embebidas', 'Administrador de base de datos', 'Desarrollador de juegos o gráfico'])]"
   ]
  },
  {
   "cell_type": "code",
   "execution_count": 797,
   "metadata": {},
   "outputs": [
    {
     "name": "stdout",
     "output_type": "stream",
     "text": [
      "<class 'pandas.core.frame.DataFrame'>\n",
      "Int64Index: 12832 entries, 45 to 83437\n",
      "Data columns (total 2 columns):\n",
      " #   Column    Non-Null Count  Dtype \n",
      "---  ------    --------------  ----- \n",
      " 0   DevType   12832 non-null  object\n",
      " 1   AllTechs  12832 non-null  object\n",
      "dtypes: object(2)\n",
      "memory usage: 300.8+ KB\n"
     ]
    }
   ],
   "source": [
    "df_data_techs_dev_pro.info()"
   ]
  },
  {
   "cell_type": "code",
   "execution_count": 858,
   "metadata": {},
   "outputs": [],
   "source": [
    "df_data_techs_dev_pro1 = df_data_techs_dev_pro.copy()"
   ]
  },
  {
   "cell_type": "code",
   "execution_count": 860,
   "metadata": {},
   "outputs": [],
   "source": [
    "df_data_techs_dev_pro1.to_csv('008_df_data_techs_dev_pro1.csv', index=True)"
   ]
  },
  {
   "cell_type": "code",
   "execution_count": 866,
   "metadata": {},
   "outputs": [],
   "source": [
    "def convert_row_to_list(lst):\n",
    "    return lst.split(';')"
   ]
  },
  {
   "cell_type": "code",
   "execution_count": 867,
   "metadata": {},
   "outputs": [],
   "source": [
    "df_data_techs_dev_pro1['ListTechs'] = df_data_techs_dev_pro1['AllTechs'].apply(convert_row_to_list)"
   ]
  },
  {
   "cell_type": "code",
   "execution_count": 868,
   "metadata": {},
   "outputs": [],
   "source": [
    "df_data_techs_dev_pro1['LenListTechs'] = df_data_techs_dev_pro1['ListTechs'].map(len)"
   ]
  },
  {
   "cell_type": "code",
   "execution_count": 871,
   "metadata": {
    "scrolled": false
   },
   "outputs": [
    {
     "data": {
      "text/html": [
       "<div>\n",
       "<style scoped>\n",
       "    .dataframe tbody tr th:only-of-type {\n",
       "        vertical-align: middle;\n",
       "    }\n",
       "\n",
       "    .dataframe tbody tr th {\n",
       "        vertical-align: top;\n",
       "    }\n",
       "\n",
       "    .dataframe thead th {\n",
       "        text-align: right;\n",
       "    }\n",
       "</style>\n",
       "<table border=\"1\" class=\"dataframe\">\n",
       "  <thead>\n",
       "    <tr style=\"text-align: right;\">\n",
       "      <th></th>\n",
       "      <th>DevType</th>\n",
       "      <th>LenListTechs</th>\n",
       "    </tr>\n",
       "  </thead>\n",
       "  <tbody>\n",
       "    <tr>\n",
       "      <th>45</th>\n",
       "      <td>Desarrollador Escritorio</td>\n",
       "      <td>20</td>\n",
       "    </tr>\n",
       "    <tr>\n",
       "      <th>50</th>\n",
       "      <td>Desarrollador full-stack</td>\n",
       "      <td>30</td>\n",
       "    </tr>\n",
       "    <tr>\n",
       "      <th>58</th>\n",
       "      <td>Desarrollador full-stack</td>\n",
       "      <td>17</td>\n",
       "    </tr>\n",
       "    <tr>\n",
       "      <th>64</th>\n",
       "      <td>Desarrollador front-end</td>\n",
       "      <td>11</td>\n",
       "    </tr>\n",
       "    <tr>\n",
       "      <th>76</th>\n",
       "      <td>Desarrollador front-end</td>\n",
       "      <td>50</td>\n",
       "    </tr>\n",
       "    <tr>\n",
       "      <th>...</th>\n",
       "      <td>...</td>\n",
       "      <td>...</td>\n",
       "    </tr>\n",
       "    <tr>\n",
       "      <th>83423</th>\n",
       "      <td>Desarrollador full-stack</td>\n",
       "      <td>26</td>\n",
       "    </tr>\n",
       "    <tr>\n",
       "      <th>83425</th>\n",
       "      <td>Desarrollador full-stack</td>\n",
       "      <td>14</td>\n",
       "    </tr>\n",
       "    <tr>\n",
       "      <th>83431</th>\n",
       "      <td>Desarrollador móvil</td>\n",
       "      <td>28</td>\n",
       "    </tr>\n",
       "    <tr>\n",
       "      <th>83432</th>\n",
       "      <td>Desarrollador back-end</td>\n",
       "      <td>21</td>\n",
       "    </tr>\n",
       "    <tr>\n",
       "      <th>83437</th>\n",
       "      <td>Desarrollador back-end</td>\n",
       "      <td>24</td>\n",
       "    </tr>\n",
       "  </tbody>\n",
       "</table>\n",
       "<p>12832 rows × 2 columns</p>\n",
       "</div>"
      ],
      "text/plain": [
       "                        DevType  LenListTechs\n",
       "45     Desarrollador Escritorio            20\n",
       "50     Desarrollador full-stack            30\n",
       "58     Desarrollador full-stack            17\n",
       "64      Desarrollador front-end            11\n",
       "76      Desarrollador front-end            50\n",
       "...                         ...           ...\n",
       "83423  Desarrollador full-stack            26\n",
       "83425  Desarrollador full-stack            14\n",
       "83431       Desarrollador móvil            28\n",
       "83432    Desarrollador back-end            21\n",
       "83437    Desarrollador back-end            24\n",
       "\n",
       "[12832 rows x 2 columns]"
      ]
     },
     "execution_count": 871,
     "metadata": {},
     "output_type": "execute_result"
    }
   ],
   "source": [
    "df_flourish_008 = df_data_techs_dev_pro1[['DevType', 'LenListTechs']].copy()\n",
    "df_flourish_008"
   ]
  },
  {
   "cell_type": "code",
   "execution_count": 879,
   "metadata": {},
   "outputs": [],
   "source": [
    "grouped_df = df_flourish_008.groupby(\"DevType\")\n",
    "\n",
    "average_df_008 = round(grouped_df.mean())"
   ]
  },
  {
   "cell_type": "code",
   "execution_count": 882,
   "metadata": {},
   "outputs": [],
   "source": [
    "df_flourish_008 = average_df_008.copy()"
   ]
  },
  {
   "cell_type": "code",
   "execution_count": 884,
   "metadata": {},
   "outputs": [],
   "source": [
    "df_flourish_008.to_csv('008_df_flourish_008.csv', index=True)"
   ]
  },
  {
   "cell_type": "markdown",
   "metadata": {},
   "source": [
    "### 2.9. ¿En qué rango de edad se inició la mayoría de los programadores en la programación?\n",
    "\n",
    "Se seleccionarán los campos adecuados para responder a esta pregunta"
   ]
  },
  {
   "cell_type": "code",
   "execution_count": 886,
   "metadata": {},
   "outputs": [
    {
     "data": {
      "text/html": [
       "<div>\n",
       "<style scoped>\n",
       "    .dataframe tbody tr th:only-of-type {\n",
       "        vertical-align: middle;\n",
       "    }\n",
       "\n",
       "    .dataframe tbody tr th {\n",
       "        vertical-align: top;\n",
       "    }\n",
       "\n",
       "    .dataframe thead th {\n",
       "        text-align: right;\n",
       "    }\n",
       "</style>\n",
       "<table border=\"1\" class=\"dataframe\">\n",
       "  <thead>\n",
       "    <tr style=\"text-align: right;\">\n",
       "      <th></th>\n",
       "      <th>Age1stCode</th>\n",
       "    </tr>\n",
       "  </thead>\n",
       "  <tbody>\n",
       "    <tr>\n",
       "      <th>45</th>\n",
       "      <td>11-17</td>\n",
       "    </tr>\n",
       "    <tr>\n",
       "      <th>50</th>\n",
       "      <td>18-24</td>\n",
       "    </tr>\n",
       "    <tr>\n",
       "      <th>58</th>\n",
       "      <td>11-17</td>\n",
       "    </tr>\n",
       "    <tr>\n",
       "      <th>64</th>\n",
       "      <td>11-17</td>\n",
       "    </tr>\n",
       "    <tr>\n",
       "      <th>76</th>\n",
       "      <td>11-17</td>\n",
       "    </tr>\n",
       "  </tbody>\n",
       "</table>\n",
       "</div>"
      ],
      "text/plain": [
       "   Age1stCode\n",
       "45      11-17\n",
       "50      18-24\n",
       "58      11-17\n",
       "64      11-17\n",
       "76      11-17"
      ]
     },
     "execution_count": 886,
     "metadata": {},
     "output_type": "execute_result"
    }
   ],
   "source": [
    "data_age1stcode_dev_pro1 = data_test[['Age1stCode']]\n",
    "data_age1stcode_dev_pro1.head()"
   ]
  },
  {
   "cell_type": "code",
   "execution_count": 888,
   "metadata": {},
   "outputs": [],
   "source": [
    "data_age1stcode_dev_pro1 = data_age1stcode_dev_pro1['Age1stCode'].value_counts().to_frame('counts').reset_index()"
   ]
  },
  {
   "cell_type": "code",
   "execution_count": 891,
   "metadata": {},
   "outputs": [],
   "source": [
    "data_age1stcode_dev_pro1.to_csv('009_flourish_data.csv', index=False)"
   ]
  },
  {
   "cell_type": "markdown",
   "metadata": {},
   "source": [
    "### 2.10. ¿Cuántos años como programadores se requiere para obtener un ingreso salarial alto?\n",
    "\n",
    "Se seleccionarán los campos adecuados para responder a esta pregunta"
   ]
  },
  {
   "cell_type": "code",
   "execution_count": 929,
   "metadata": {},
   "outputs": [
    {
     "data": {
      "text/html": [
       "<div>\n",
       "<style scoped>\n",
       "    .dataframe tbody tr th:only-of-type {\n",
       "        vertical-align: middle;\n",
       "    }\n",
       "\n",
       "    .dataframe tbody tr th {\n",
       "        vertical-align: top;\n",
       "    }\n",
       "\n",
       "    .dataframe thead th {\n",
       "        text-align: right;\n",
       "    }\n",
       "</style>\n",
       "<table border=\"1\" class=\"dataframe\">\n",
       "  <thead>\n",
       "    <tr style=\"text-align: right;\">\n",
       "      <th></th>\n",
       "      <th>ConvertedCompYearly</th>\n",
       "      <th>YearsCode</th>\n",
       "    </tr>\n",
       "  </thead>\n",
       "  <tbody>\n",
       "    <tr>\n",
       "      <th>45</th>\n",
       "      <td>60480.0</td>\n",
       "      <td>22</td>\n",
       "    </tr>\n",
       "    <tr>\n",
       "      <th>50</th>\n",
       "      <td>25944.0</td>\n",
       "      <td>12</td>\n",
       "    </tr>\n",
       "    <tr>\n",
       "      <th>58</th>\n",
       "      <td>22644.0</td>\n",
       "      <td>5</td>\n",
       "    </tr>\n",
       "    <tr>\n",
       "      <th>64</th>\n",
       "      <td>500000.0</td>\n",
       "      <td>6</td>\n",
       "    </tr>\n",
       "    <tr>\n",
       "      <th>76</th>\n",
       "      <td>45564.0</td>\n",
       "      <td>12</td>\n",
       "    </tr>\n",
       "  </tbody>\n",
       "</table>\n",
       "</div>"
      ],
      "text/plain": [
       "    ConvertedCompYearly YearsCode\n",
       "45              60480.0        22\n",
       "50              25944.0        12\n",
       "58              22644.0         5\n",
       "64             500000.0         6\n",
       "76              45564.0        12"
      ]
     },
     "execution_count": 929,
     "metadata": {},
     "output_type": "execute_result"
    }
   ],
   "source": [
    "data_yearscode_high_income1 = data_test[['ConvertedCompYearly', 'YearsCode']]\n",
    "data_yearscode_high_income1.head()"
   ]
  },
  {
   "cell_type": "code",
   "execution_count": 930,
   "metadata": {},
   "outputs": [],
   "source": [
    "df_data_yearscode_high_income = data_yearscode_high_income1.copy()"
   ]
  },
  {
   "cell_type": "code",
   "execution_count": 931,
   "metadata": {},
   "outputs": [
    {
     "name": "stdout",
     "output_type": "stream",
     "text": [
      "       ConvertedCompYearly YearsCode\n",
      "45                 60480.0        22\n",
      "50                 25944.0        12\n",
      "58                 22644.0         5\n",
      "76                 45564.0        12\n",
      "77                151263.0        10\n",
      "...                    ...       ...\n",
      "83425              19452.0         5\n",
      "83428              41232.0        12\n",
      "83431              11676.0         9\n",
      "83432              80169.0         5\n",
      "83436              90000.0        10\n",
      "\n",
      "[11611 rows x 2 columns]\n"
     ]
    }
   ],
   "source": [
    "def remove_outliers(df, q=0.05):\n",
    "    upper = df.quantile(1-q)\n",
    "    lower = df.quantile(q)\n",
    "    mask = (df < upper) & (df > lower)\n",
    "    return mask\n",
    "\n",
    "mask = remove_outliers(df_data_yearscode_high_income['ConvertedCompYearly'], 0.1)\n",
    "\n",
    "print(df_data_yearscode_high_income[mask])"
   ]
  },
  {
   "cell_type": "code",
   "execution_count": 932,
   "metadata": {},
   "outputs": [],
   "source": [
    "df_data_yearscode_high_income = df_data_yearscode_high_income[mask]"
   ]
  },
  {
   "cell_type": "code",
   "execution_count": 933,
   "metadata": {
    "scrolled": false
   },
   "outputs": [
    {
     "name": "stdout",
     "output_type": "stream",
     "text": [
      "       ConvertedCompYearly YearsCode ConvertedCompYearlyCategorical\n",
      "45                 60480.0        22                          MEDIO\n",
      "50                 25944.0        12                           BAJO\n",
      "58                 22644.0         5                           BAJO\n",
      "76                 45564.0        12                          MEDIO\n",
      "77                151263.0        10                           ALTO\n",
      "...                    ...       ...                            ...\n",
      "83425              19452.0         5                           BAJO\n",
      "83428              41232.0        12                          MEDIO\n",
      "83431              11676.0         9                           BAJO\n",
      "83432              80169.0         5                          MEDIO\n",
      "83436              90000.0        10                          MEDIO\n",
      "\n",
      "[11611 rows x 3 columns]\n"
     ]
    }
   ],
   "source": [
    "df_data_yearscode_high_income['ConvertedCompYearlyCategorical'] = 'ALTO'\n",
    "\n",
    "df_data_yearscode_high_income.loc[(df_data_yearscode_high_income['ConvertedCompYearly'] >= 0) & (df_data_yearscode_high_income['ConvertedCompYearly'] <= 32747), 'ConvertedCompYearlyCategorical'] = 'BAJO'\n",
    "df_data_yearscode_high_income.loc[(df_data_yearscode_high_income['ConvertedCompYearly'] > 32747) & (df_data_yearscode_high_income['ConvertedCompYearly'] <= 90000), 'ConvertedCompYearlyCategorical'] = 'MEDIO'\n",
    "\n",
    "print(df_data_yearscode_high_income)"
   ]
  },
  {
   "cell_type": "code",
   "execution_count": 971,
   "metadata": {},
   "outputs": [],
   "source": [
    "df_data_yearscode_high_income.to_csv('010_df_flourish.csv', index=False)"
   ]
  },
  {
   "cell_type": "code",
   "execution_count": 953,
   "metadata": {},
   "outputs": [
    {
     "data": {
      "text/plain": [
       "MEDIO    5816\n",
       "BAJO     2903\n",
       "ALTO     2892\n",
       "Name: ConvertedCompYearlyCategorical, dtype: int64"
      ]
     },
     "execution_count": 953,
     "metadata": {},
     "output_type": "execute_result"
    }
   ],
   "source": [
    "df_data_yearscode_high_income['ConvertedCompYearlyCategorical'].value_counts()"
   ]
  },
  {
   "cell_type": "code",
   "execution_count": 972,
   "metadata": {
    "scrolled": false
   },
   "outputs": [
    {
     "data": {
      "text/html": [
       "<div>\n",
       "<style scoped>\n",
       "    .dataframe tbody tr th:only-of-type {\n",
       "        vertical-align: middle;\n",
       "    }\n",
       "\n",
       "    .dataframe tbody tr th {\n",
       "        vertical-align: top;\n",
       "    }\n",
       "\n",
       "    .dataframe thead th {\n",
       "        text-align: right;\n",
       "    }\n",
       "</style>\n",
       "<table border=\"1\" class=\"dataframe\">\n",
       "  <thead>\n",
       "    <tr style=\"text-align: right;\">\n",
       "      <th></th>\n",
       "      <th>YearsCode</th>\n",
       "      <th>ConvertedCompYearlyCategorical</th>\n",
       "    </tr>\n",
       "  </thead>\n",
       "  <tbody>\n",
       "    <tr>\n",
       "      <th>45</th>\n",
       "      <td>22</td>\n",
       "      <td>MEDIO</td>\n",
       "    </tr>\n",
       "    <tr>\n",
       "      <th>50</th>\n",
       "      <td>12</td>\n",
       "      <td>BAJO</td>\n",
       "    </tr>\n",
       "    <tr>\n",
       "      <th>58</th>\n",
       "      <td>5</td>\n",
       "      <td>BAJO</td>\n",
       "    </tr>\n",
       "    <tr>\n",
       "      <th>76</th>\n",
       "      <td>12</td>\n",
       "      <td>MEDIO</td>\n",
       "    </tr>\n",
       "    <tr>\n",
       "      <th>77</th>\n",
       "      <td>10</td>\n",
       "      <td>ALTO</td>\n",
       "    </tr>\n",
       "  </tbody>\n",
       "</table>\n",
       "</div>"
      ],
      "text/plain": [
       "   YearsCode ConvertedCompYearlyCategorical\n",
       "45        22                          MEDIO\n",
       "50        12                           BAJO\n",
       "58         5                           BAJO\n",
       "76        12                          MEDIO\n",
       "77        10                           ALTO"
      ]
     },
     "execution_count": 972,
     "metadata": {},
     "output_type": "execute_result"
    }
   ],
   "source": [
    "df_flourish_010 = df_data_yearscode_high_income[['YearsCode', 'ConvertedCompYearlyCategorical']].copy()\n",
    "\n",
    "df_flourish_010.head()"
   ]
  },
  {
   "cell_type": "code",
   "execution_count": 974,
   "metadata": {},
   "outputs": [],
   "source": [
    "df_flourish_010['YearsCode'] = pd.to_numeric(df_flourish_010['YearsCode'])"
   ]
  },
  {
   "cell_type": "code",
   "execution_count": 975,
   "metadata": {},
   "outputs": [
    {
     "name": "stdout",
     "output_type": "stream",
     "text": [
      "<class 'pandas.core.frame.DataFrame'>\n",
      "Int64Index: 11611 entries, 45 to 83436\n",
      "Data columns (total 2 columns):\n",
      " #   Column                          Non-Null Count  Dtype \n",
      "---  ------                          --------------  ----- \n",
      " 0   YearsCode                       11611 non-null  int64 \n",
      " 1   ConvertedCompYearlyCategorical  11611 non-null  object\n",
      "dtypes: int64(1), object(1)\n",
      "memory usage: 530.2+ KB\n"
     ]
    }
   ],
   "source": [
    "df_flourish_010.info()"
   ]
  },
  {
   "cell_type": "code",
   "execution_count": 976,
   "metadata": {
    "scrolled": true
   },
   "outputs": [],
   "source": [
    "grouped_df_010 = df_flourish_010.groupby(\"ConvertedCompYearlyCategorical\")\n",
    "\n",
    "average_df_010 = round(grouped_df_010.mean())"
   ]
  },
  {
   "cell_type": "code",
   "execution_count": 977,
   "metadata": {},
   "outputs": [
    {
     "data": {
      "text/html": [
       "<div>\n",
       "<style scoped>\n",
       "    .dataframe tbody tr th:only-of-type {\n",
       "        vertical-align: middle;\n",
       "    }\n",
       "\n",
       "    .dataframe tbody tr th {\n",
       "        vertical-align: top;\n",
       "    }\n",
       "\n",
       "    .dataframe thead th {\n",
       "        text-align: right;\n",
       "    }\n",
       "</style>\n",
       "<table border=\"1\" class=\"dataframe\">\n",
       "  <thead>\n",
       "    <tr style=\"text-align: right;\">\n",
       "      <th></th>\n",
       "      <th>YearsCode</th>\n",
       "    </tr>\n",
       "    <tr>\n",
       "      <th>ConvertedCompYearlyCategorical</th>\n",
       "      <th></th>\n",
       "    </tr>\n",
       "  </thead>\n",
       "  <tbody>\n",
       "    <tr>\n",
       "      <th>ALTO</th>\n",
       "      <td>19.0</td>\n",
       "    </tr>\n",
       "    <tr>\n",
       "      <th>BAJO</th>\n",
       "      <td>10.0</td>\n",
       "    </tr>\n",
       "    <tr>\n",
       "      <th>MEDIO</th>\n",
       "      <td>14.0</td>\n",
       "    </tr>\n",
       "  </tbody>\n",
       "</table>\n",
       "</div>"
      ],
      "text/plain": [
       "                                YearsCode\n",
       "ConvertedCompYearlyCategorical           \n",
       "ALTO                                 19.0\n",
       "BAJO                                 10.0\n",
       "MEDIO                                14.0"
      ]
     },
     "execution_count": 977,
     "metadata": {},
     "output_type": "execute_result"
    }
   ],
   "source": [
    "average_df_010"
   ]
  },
  {
   "cell_type": "code",
   "execution_count": 978,
   "metadata": {},
   "outputs": [],
   "source": [
    "average_df_010.to_csv('010_flourish_data.csv', index=True)"
   ]
  },
  {
   "cell_type": "markdown",
   "metadata": {},
   "source": [
    "### 2.11. ¿Cuáles son los perfiles que registran los mejores ingresos?\n",
    "\n",
    "Se seleccionarán los campos adecuados para responder a esta pregunta"
   ]
  },
  {
   "cell_type": "code",
   "execution_count": 979,
   "metadata": {},
   "outputs": [
    {
     "data": {
      "text/html": [
       "<div>\n",
       "<style scoped>\n",
       "    .dataframe tbody tr th:only-of-type {\n",
       "        vertical-align: middle;\n",
       "    }\n",
       "\n",
       "    .dataframe tbody tr th {\n",
       "        vertical-align: top;\n",
       "    }\n",
       "\n",
       "    .dataframe thead th {\n",
       "        text-align: right;\n",
       "    }\n",
       "</style>\n",
       "<table border=\"1\" class=\"dataframe\">\n",
       "  <thead>\n",
       "    <tr style=\"text-align: right;\">\n",
       "      <th></th>\n",
       "      <th>ConvertedCompYearly</th>\n",
       "      <th>DevType</th>\n",
       "    </tr>\n",
       "  </thead>\n",
       "  <tbody>\n",
       "    <tr>\n",
       "      <th>45</th>\n",
       "      <td>60480.0</td>\n",
       "      <td>Desarrollador Escritorio</td>\n",
       "    </tr>\n",
       "    <tr>\n",
       "      <th>50</th>\n",
       "      <td>25944.0</td>\n",
       "      <td>Desarrollador full-stack</td>\n",
       "    </tr>\n",
       "    <tr>\n",
       "      <th>58</th>\n",
       "      <td>22644.0</td>\n",
       "      <td>Desarrollador full-stack</td>\n",
       "    </tr>\n",
       "    <tr>\n",
       "      <th>64</th>\n",
       "      <td>500000.0</td>\n",
       "      <td>Desarrollador front-end</td>\n",
       "    </tr>\n",
       "    <tr>\n",
       "      <th>76</th>\n",
       "      <td>45564.0</td>\n",
       "      <td>Desarrollador front-end</td>\n",
       "    </tr>\n",
       "  </tbody>\n",
       "</table>\n",
       "</div>"
      ],
      "text/plain": [
       "    ConvertedCompYearly                   DevType\n",
       "45              60480.0  Desarrollador Escritorio\n",
       "50              25944.0  Desarrollador full-stack\n",
       "58              22644.0  Desarrollador full-stack\n",
       "64             500000.0   Desarrollador front-end\n",
       "76              45564.0   Desarrollador front-end"
      ]
     },
     "execution_count": 979,
     "metadata": {},
     "output_type": "execute_result"
    }
   ],
   "source": [
    "data_profiles_dev_high_income1 = data_test[['ConvertedCompYearly', 'DevType']].copy()\n",
    "data_profiles_dev_high_income1.head()"
   ]
  },
  {
   "cell_type": "code",
   "execution_count": 1010,
   "metadata": {},
   "outputs": [],
   "source": [
    "df_data_profiles_dev_high_income = data_profiles_dev_high_income1.copy()"
   ]
  },
  {
   "cell_type": "code",
   "execution_count": 1011,
   "metadata": {},
   "outputs": [
    {
     "name": "stdout",
     "output_type": "stream",
     "text": [
      "       ConvertedCompYearly                   DevType\n",
      "45                 60480.0  Desarrollador Escritorio\n",
      "50                 25944.0  Desarrollador full-stack\n",
      "58                 22644.0  Desarrollador full-stack\n",
      "76                 45564.0   Desarrollador front-end\n",
      "77                151263.0       Cientifico de datos\n",
      "...                    ...                       ...\n",
      "83425              19452.0  Desarrollador full-stack\n",
      "83428              41232.0          Ejecutivo Senior\n",
      "83431              11676.0       Desarrollador móvil\n",
      "83432              80169.0    Desarrollador back-end\n",
      "83436              90000.0       Cientifico de datos\n",
      "\n",
      "[11611 rows x 2 columns]\n"
     ]
    }
   ],
   "source": [
    "def remove_outliers(df, q=0.05):\n",
    "    upper = df.quantile(1-q)\n",
    "    lower = df.quantile(q)\n",
    "    mask = (df < upper) & (df > lower)\n",
    "    return mask\n",
    "\n",
    "mask = remove_outliers(df_data_profiles_dev_high_income['ConvertedCompYearly'], 0.1)\n",
    "\n",
    "print(df_data_profiles_dev_high_income[mask])"
   ]
  },
  {
   "cell_type": "code",
   "execution_count": 1012,
   "metadata": {},
   "outputs": [],
   "source": [
    "df_data_profiles_dev_high_income = df_data_profiles_dev_high_income[mask]"
   ]
  },
  {
   "cell_type": "code",
   "execution_count": 1013,
   "metadata": {
    "scrolled": false
   },
   "outputs": [
    {
     "name": "stdout",
     "output_type": "stream",
     "text": [
      "       ConvertedCompYearly                   DevType  \\\n",
      "45                 60480.0  Desarrollador Escritorio   \n",
      "50                 25944.0  Desarrollador full-stack   \n",
      "58                 22644.0  Desarrollador full-stack   \n",
      "76                 45564.0   Desarrollador front-end   \n",
      "77                151263.0       Cientifico de datos   \n",
      "...                    ...                       ...   \n",
      "83425              19452.0  Desarrollador full-stack   \n",
      "83428              41232.0          Ejecutivo Senior   \n",
      "83431              11676.0       Desarrollador móvil   \n",
      "83432              80169.0    Desarrollador back-end   \n",
      "83436              90000.0       Cientifico de datos   \n",
      "\n",
      "      ConvertedCompYearlyCategorical  \n",
      "45                             MEDIO  \n",
      "50                              BAJO  \n",
      "58                              BAJO  \n",
      "76                             MEDIO  \n",
      "77                              ALTO  \n",
      "...                              ...  \n",
      "83425                           BAJO  \n",
      "83428                          MEDIO  \n",
      "83431                           BAJO  \n",
      "83432                          MEDIO  \n",
      "83436                          MEDIO  \n",
      "\n",
      "[11611 rows x 3 columns]\n"
     ]
    }
   ],
   "source": [
    "df_data_profiles_dev_high_income['ConvertedCompYearlyCategorical'] = 'ALTO'\n",
    "\n",
    "df_data_profiles_dev_high_income.loc[(df_data_profiles_dev_high_income['ConvertedCompYearly'] >= 0) & (df_data_profiles_dev_high_income['ConvertedCompYearly'] <= 32747), 'ConvertedCompYearlyCategorical'] = 'BAJO'\n",
    "df_data_profiles_dev_high_income.loc[(df_data_profiles_dev_high_income['ConvertedCompYearly'] > 32747) & (df_data_profiles_dev_high_income['ConvertedCompYearly'] <= 90000), 'ConvertedCompYearlyCategorical'] = 'MEDIO'\n",
    "\n",
    "print(df_data_profiles_dev_high_income)"
   ]
  },
  {
   "cell_type": "code",
   "execution_count": 1015,
   "metadata": {},
   "outputs": [
    {
     "data": {
      "text/plain": [
       "MEDIO    5816\n",
       "BAJO     2903\n",
       "ALTO     2892\n",
       "Name: ConvertedCompYearlyCategorical, dtype: int64"
      ]
     },
     "execution_count": 1015,
     "metadata": {},
     "output_type": "execute_result"
    }
   ],
   "source": [
    "df_data_profiles_dev_high_income['ConvertedCompYearlyCategorical'].value_counts()"
   ]
  },
  {
   "cell_type": "code",
   "execution_count": 1016,
   "metadata": {},
   "outputs": [],
   "source": [
    "df_flourish_011 = df_data_profiles_dev_high_income[['DevType', 'ConvertedCompYearlyCategorical']].copy()"
   ]
  },
  {
   "cell_type": "code",
   "execution_count": 1018,
   "metadata": {},
   "outputs": [],
   "source": [
    "df_flourish_011 = df_flourish_011[df_flourish_011['ConvertedCompYearlyCategorical'].isin(['ALTO'])]"
   ]
  },
  {
   "cell_type": "code",
   "execution_count": 1019,
   "metadata": {},
   "outputs": [
    {
     "name": "stdout",
     "output_type": "stream",
     "text": [
      "<class 'pandas.core.frame.DataFrame'>\n",
      "Int64Index: 2892 entries, 77 to 83372\n",
      "Data columns (total 2 columns):\n",
      " #   Column                          Non-Null Count  Dtype \n",
      "---  ------                          --------------  ----- \n",
      " 0   DevType                         2892 non-null   object\n",
      " 1   ConvertedCompYearlyCategorical  2892 non-null   object\n",
      "dtypes: object(2)\n",
      "memory usage: 67.8+ KB\n"
     ]
    }
   ],
   "source": [
    "df_flourish_011.info()"
   ]
  },
  {
   "cell_type": "code",
   "execution_count": 1021,
   "metadata": {},
   "outputs": [],
   "source": [
    "df_data_flourish_011 = df_flourish_011['DevType'].value_counts().to_frame('counts').reset_index()"
   ]
  },
  {
   "cell_type": "code",
   "execution_count": 1023,
   "metadata": {},
   "outputs": [],
   "source": [
    "df_data_flourish_011 = df_data_flourish_011.head(10)"
   ]
  },
  {
   "cell_type": "code",
   "execution_count": 1024,
   "metadata": {},
   "outputs": [
    {
     "data": {
      "text/html": [
       "<div>\n",
       "<style scoped>\n",
       "    .dataframe tbody tr th:only-of-type {\n",
       "        vertical-align: middle;\n",
       "    }\n",
       "\n",
       "    .dataframe tbody tr th {\n",
       "        vertical-align: top;\n",
       "    }\n",
       "\n",
       "    .dataframe thead th {\n",
       "        text-align: right;\n",
       "    }\n",
       "</style>\n",
       "<table border=\"1\" class=\"dataframe\">\n",
       "  <thead>\n",
       "    <tr style=\"text-align: right;\">\n",
       "      <th></th>\n",
       "      <th>index</th>\n",
       "      <th>counts</th>\n",
       "    </tr>\n",
       "  </thead>\n",
       "  <tbody>\n",
       "    <tr>\n",
       "      <th>0</th>\n",
       "      <td>Desarrollador full-stack</td>\n",
       "      <td>981</td>\n",
       "    </tr>\n",
       "    <tr>\n",
       "      <th>1</th>\n",
       "      <td>Desarrollador front-end</td>\n",
       "      <td>539</td>\n",
       "    </tr>\n",
       "    <tr>\n",
       "      <th>2</th>\n",
       "      <td>Desarrollador móvil</td>\n",
       "      <td>380</td>\n",
       "    </tr>\n",
       "    <tr>\n",
       "      <th>3</th>\n",
       "      <td>Desarrollador back-end</td>\n",
       "      <td>302</td>\n",
       "    </tr>\n",
       "    <tr>\n",
       "      <th>4</th>\n",
       "      <td>Desarrollador Escritorio</td>\n",
       "      <td>262</td>\n",
       "    </tr>\n",
       "    <tr>\n",
       "      <th>5</th>\n",
       "      <td>Ingeniero de datos</td>\n",
       "      <td>142</td>\n",
       "    </tr>\n",
       "    <tr>\n",
       "      <th>6</th>\n",
       "      <td>Cientifico de datos</td>\n",
       "      <td>70</td>\n",
       "    </tr>\n",
       "    <tr>\n",
       "      <th>7</th>\n",
       "      <td>Manager de Ingeniería</td>\n",
       "      <td>48</td>\n",
       "    </tr>\n",
       "    <tr>\n",
       "      <th>8</th>\n",
       "      <td>Otro</td>\n",
       "      <td>36</td>\n",
       "    </tr>\n",
       "    <tr>\n",
       "      <th>9</th>\n",
       "      <td>Especialista en DevOps</td>\n",
       "      <td>32</td>\n",
       "    </tr>\n",
       "  </tbody>\n",
       "</table>\n",
       "</div>"
      ],
      "text/plain": [
       "                      index  counts\n",
       "0  Desarrollador full-stack     981\n",
       "1   Desarrollador front-end     539\n",
       "2       Desarrollador móvil     380\n",
       "3    Desarrollador back-end     302\n",
       "4  Desarrollador Escritorio     262\n",
       "5        Ingeniero de datos     142\n",
       "6       Cientifico de datos      70\n",
       "7     Manager de Ingeniería      48\n",
       "8                      Otro      36\n",
       "9    Especialista en DevOps      32"
      ]
     },
     "execution_count": 1024,
     "metadata": {},
     "output_type": "execute_result"
    }
   ],
   "source": [
    "df_data_flourish_011"
   ]
  },
  {
   "cell_type": "code",
   "execution_count": 1025,
   "metadata": {},
   "outputs": [],
   "source": [
    "df_data_flourish_011.to_csv('011_flourish_data.csv', index=False)"
   ]
  },
  {
   "cell_type": "markdown",
   "metadata": {},
   "source": [
    "### 2.12. ¿Cuáles son las 10 tecnologías más usadas entre los programadores por países?\n",
    "\n",
    "Se seleccionarán los campos adecuados para responder a esta pregunta"
   ]
  },
  {
   "cell_type": "code",
   "execution_count": 390,
   "metadata": {},
   "outputs": [
    {
     "data": {
      "text/html": [
       "<div>\n",
       "<style scoped>\n",
       "    .dataframe tbody tr th:only-of-type {\n",
       "        vertical-align: middle;\n",
       "    }\n",
       "\n",
       "    .dataframe tbody tr th {\n",
       "        vertical-align: top;\n",
       "    }\n",
       "\n",
       "    .dataframe thead th {\n",
       "        text-align: right;\n",
       "    }\n",
       "</style>\n",
       "<table border=\"1\" class=\"dataframe\">\n",
       "  <thead>\n",
       "    <tr style=\"text-align: right;\">\n",
       "      <th></th>\n",
       "      <th>Country</th>\n",
       "      <th>LanguageHaveWorkedWith</th>\n",
       "      <th>DatabaseHaveWorkedWith</th>\n",
       "      <th>PlatformHaveWorkedWith</th>\n",
       "      <th>WebframeHaveWorkedWith</th>\n",
       "      <th>MiscTechHaveWorkedWith</th>\n",
       "      <th>ToolsTechHaveWorkedWith</th>\n",
       "      <th>NEWCollabToolsHaveWorkedWith</th>\n",
       "    </tr>\n",
       "  </thead>\n",
       "  <tbody>\n",
       "    <tr>\n",
       "      <th>45</th>\n",
       "      <td>Brazil</td>\n",
       "      <td>C#;C++;JavaScript;PowerShell;SQL;TypeScript</td>\n",
       "      <td>Microsoft SQL Server;PostgreSQL;Redis</td>\n",
       "      <td>Heroku;Microsoft Azure</td>\n",
       "      <td>ASP.NET Core ;React.js</td>\n",
       "      <td>.NET Core / .NET 5</td>\n",
       "      <td>Docker;Git;Kubernetes</td>\n",
       "      <td>Notepad++;Visual Studio;Visual Studio Code</td>\n",
       "    </tr>\n",
       "    <tr>\n",
       "      <th>50</th>\n",
       "      <td>Greece</td>\n",
       "      <td>C#;HTML/CSS;JavaScript;Node.js;PowerShell;Type...</td>\n",
       "      <td>Couchbase;MariaDB;Microsoft SQL Server;MongoDB...</td>\n",
       "      <td>AWS;DigitalOcean;Microsoft Azure</td>\n",
       "      <td>Angular;ASP.NET;ASP.NET Core ;Express;Svelte</td>\n",
       "      <td>.NET Framework;.NET Core / .NET 5</td>\n",
       "      <td>Docker;Kubernetes</td>\n",
       "      <td>Notepad++;Visual Studio;Visual Studio Code</td>\n",
       "    </tr>\n",
       "    <tr>\n",
       "      <th>58</th>\n",
       "      <td>Russian Federation</td>\n",
       "      <td>Bash/Shell;HTML/CSS;JavaScript;Python;SQL</td>\n",
       "      <td>Oracle</td>\n",
       "      <td>Heroku</td>\n",
       "      <td>Django;FastAPI;Vue.js</td>\n",
       "      <td>NumPy;Pandas;Torch/PyTorch</td>\n",
       "      <td>Docker;Git</td>\n",
       "      <td>IPython/Jupyter;Visual Studio Code</td>\n",
       "    </tr>\n",
       "    <tr>\n",
       "      <th>64</th>\n",
       "      <td>United States of America</td>\n",
       "      <td>HTML/CSS;JavaScript;Python</td>\n",
       "      <td>MySQL</td>\n",
       "      <td>AWS</td>\n",
       "      <td>Flask</td>\n",
       "      <td>Pandas</td>\n",
       "      <td>Git</td>\n",
       "      <td>Notepad++;PyCharm;Sublime Text</td>\n",
       "    </tr>\n",
       "    <tr>\n",
       "      <th>76</th>\n",
       "      <td>Poland</td>\n",
       "      <td>Bash/Shell;C#;Dart;Delphi;Go;HTML/CSS;Java;Jav...</td>\n",
       "      <td>Firebase;Microsoft SQL Server;MongoDB;MySQL;Po...</td>\n",
       "      <td>Google Cloud Platform;Microsoft Azure</td>\n",
       "      <td>Angular;Angular.js;ASP.NET;ASP.NET Core ;Djang...</td>\n",
       "      <td>.NET Framework;.NET Core / .NET 5;Apache Spark...</td>\n",
       "      <td>Docker;Git;Unity 3D</td>\n",
       "      <td>Android Studio;Eclipse;NetBeans;Notepad++;Visu...</td>\n",
       "    </tr>\n",
       "  </tbody>\n",
       "</table>\n",
       "</div>"
      ],
      "text/plain": [
       "                     Country  \\\n",
       "45                    Brazil   \n",
       "50                    Greece   \n",
       "58        Russian Federation   \n",
       "64  United States of America   \n",
       "76                    Poland   \n",
       "\n",
       "                               LanguageHaveWorkedWith  \\\n",
       "45        C#;C++;JavaScript;PowerShell;SQL;TypeScript   \n",
       "50  C#;HTML/CSS;JavaScript;Node.js;PowerShell;Type...   \n",
       "58          Bash/Shell;HTML/CSS;JavaScript;Python;SQL   \n",
       "64                         HTML/CSS;JavaScript;Python   \n",
       "76  Bash/Shell;C#;Dart;Delphi;Go;HTML/CSS;Java;Jav...   \n",
       "\n",
       "                               DatabaseHaveWorkedWith  \\\n",
       "45              Microsoft SQL Server;PostgreSQL;Redis   \n",
       "50  Couchbase;MariaDB;Microsoft SQL Server;MongoDB...   \n",
       "58                                             Oracle   \n",
       "64                                              MySQL   \n",
       "76  Firebase;Microsoft SQL Server;MongoDB;MySQL;Po...   \n",
       "\n",
       "                   PlatformHaveWorkedWith  \\\n",
       "45                 Heroku;Microsoft Azure   \n",
       "50       AWS;DigitalOcean;Microsoft Azure   \n",
       "58                                 Heroku   \n",
       "64                                    AWS   \n",
       "76  Google Cloud Platform;Microsoft Azure   \n",
       "\n",
       "                               WebframeHaveWorkedWith  \\\n",
       "45                             ASP.NET Core ;React.js   \n",
       "50       Angular;ASP.NET;ASP.NET Core ;Express;Svelte   \n",
       "58                              Django;FastAPI;Vue.js   \n",
       "64                                              Flask   \n",
       "76  Angular;Angular.js;ASP.NET;ASP.NET Core ;Djang...   \n",
       "\n",
       "                               MiscTechHaveWorkedWith ToolsTechHaveWorkedWith  \\\n",
       "45                                 .NET Core / .NET 5   Docker;Git;Kubernetes   \n",
       "50                  .NET Framework;.NET Core / .NET 5       Docker;Kubernetes   \n",
       "58                         NumPy;Pandas;Torch/PyTorch              Docker;Git   \n",
       "64                                             Pandas                     Git   \n",
       "76  .NET Framework;.NET Core / .NET 5;Apache Spark...     Docker;Git;Unity 3D   \n",
       "\n",
       "                         NEWCollabToolsHaveWorkedWith  \n",
       "45         Notepad++;Visual Studio;Visual Studio Code  \n",
       "50         Notepad++;Visual Studio;Visual Studio Code  \n",
       "58                 IPython/Jupyter;Visual Studio Code  \n",
       "64                     Notepad++;PyCharm;Sublime Text  \n",
       "76  Android Studio;Eclipse;NetBeans;Notepad++;Visu...  "
      ]
     },
     "execution_count": 390,
     "metadata": {},
     "output_type": "execute_result"
    }
   ],
   "source": [
    "data_10_techs_popular_dev_countries = data_test[['Country', 'LanguageHaveWorkedWith', 'DatabaseHaveWorkedWith', 'PlatformHaveWorkedWith', 'WebframeHaveWorkedWith', 'MiscTechHaveWorkedWith',  'ToolsTechHaveWorkedWith', 'NEWCollabToolsHaveWorkedWith']]\n",
    "data_10_techs_popular_dev_countries.head()"
   ]
  },
  {
   "cell_type": "code",
   "execution_count": 1029,
   "metadata": {},
   "outputs": [
    {
     "name": "stdout",
     "output_type": "stream",
     "text": [
      "                        Country  \\\n",
      "45                       Brazil   \n",
      "50                       Greece   \n",
      "58           Russian Federation   \n",
      "64     United States of America   \n",
      "76                       Poland   \n",
      "...                         ...   \n",
      "83428                    Brazil   \n",
      "83431                  Pakistan   \n",
      "83432                    Canada   \n",
      "83436  United States of America   \n",
      "83437                    Canada   \n",
      "\n",
      "                                  LanguageHaveWorkedWith  \\\n",
      "45           C#;C++;JavaScript;PowerShell;SQL;TypeScript   \n",
      "50     C#;HTML/CSS;JavaScript;Node.js;PowerShell;Type...   \n",
      "58             Bash/Shell;HTML/CSS;JavaScript;Python;SQL   \n",
      "64                            HTML/CSS;JavaScript;Python   \n",
      "76     Bash/Shell;C#;Dart;Delphi;Go;HTML/CSS;Java;Jav...   \n",
      "...                                                  ...   \n",
      "83428                      Bash/Shell;Node.js;TypeScript   \n",
      "83431  C#;Dart;HTML/CSS;Java;JavaScript;Kotlin;Node.j...   \n",
      "83432                                               Ruby   \n",
      "83436                                 Groovy;Java;Python   \n",
      "83437               Bash/Shell;JavaScript;Node.js;Python   \n",
      "\n",
      "                                  DatabaseHaveWorkedWith  \\\n",
      "45                 Microsoft SQL Server;PostgreSQL;Redis   \n",
      "50     Couchbase;MariaDB;Microsoft SQL Server;MongoDB...   \n",
      "58                                                Oracle   \n",
      "64                                                 MySQL   \n",
      "76     Firebase;Microsoft SQL Server;MongoDB;MySQL;Po...   \n",
      "...                                                  ...   \n",
      "83428             Elasticsearch;MongoDB;PostgreSQL;Redis   \n",
      "83431                              Firebase;MySQL;SQLite   \n",
      "83432                                   MySQL;PostgreSQL   \n",
      "83436    DynamoDB;Elasticsearch;MongoDB;PostgreSQL;Redis   \n",
      "83437   Cassandra;Elasticsearch;MongoDB;PostgreSQL;Redis   \n",
      "\n",
      "                      PlatformHaveWorkedWith  \\\n",
      "45                    Heroku;Microsoft Azure   \n",
      "50          AWS;DigitalOcean;Microsoft Azure   \n",
      "58                                    Heroku   \n",
      "64                                       AWS   \n",
      "76     Google Cloud Platform;Microsoft Azure   \n",
      "...                                      ...   \n",
      "83428              AWS;Google Cloud Platform   \n",
      "83431                  Google Cloud Platform   \n",
      "83432           Google Cloud Platform;Heroku   \n",
      "83436              AWS;Google Cloud Platform   \n",
      "83437                                 Heroku   \n",
      "\n",
      "                                  WebframeHaveWorkedWith  \\\n",
      "45                                ASP.NET Core ;React.js   \n",
      "50          Angular;ASP.NET;ASP.NET Core ;Express;Svelte   \n",
      "58                                 Django;FastAPI;Vue.js   \n",
      "64                                                 Flask   \n",
      "76     Angular;Angular.js;ASP.NET;ASP.NET Core ;Djang...   \n",
      "...                                                  ...   \n",
      "83428                                           React.js   \n",
      "83431                                       Flask;jQuery   \n",
      "83432                Flask;React.js;Ruby on Rails;Vue.js   \n",
      "83436                                      FastAPI;Flask   \n",
      "83437                      Django;Express;Flask;React.js   \n",
      "\n",
      "                                  MiscTechHaveWorkedWith  \\\n",
      "45                                    .NET Core / .NET 5   \n",
      "50                     .NET Framework;.NET Core / .NET 5   \n",
      "58                            NumPy;Pandas;Torch/PyTorch   \n",
      "64                                                Pandas   \n",
      "76     .NET Framework;.NET Core / .NET 5;Apache Spark...   \n",
      "...                                                  ...   \n",
      "83428                                       React Native   \n",
      "83431                                            Flutter   \n",
      "83432              NumPy;Pandas;TensorFlow;Torch/PyTorch   \n",
      "83436                          Hadoop;Keras;NumPy;Pandas   \n",
      "83437              NumPy;Pandas;TensorFlow;Torch/PyTorch   \n",
      "\n",
      "            ToolsTechHaveWorkedWith  \\\n",
      "45            Docker;Git;Kubernetes   \n",
      "50                Docker;Kubernetes   \n",
      "58                       Docker;Git   \n",
      "64                              Git   \n",
      "76              Docker;Git;Unity 3D   \n",
      "...                             ...   \n",
      "83428     Docker;Git;Terraform;Yarn   \n",
      "83431                           Git   \n",
      "83432    Docker;Git;Kubernetes;Yarn   \n",
      "83436  Ansible;Docker;Git;Terraform   \n",
      "83437  Ansible;Docker;Git;Terraform   \n",
      "\n",
      "                            NEWCollabToolsHaveWorkedWith  \\\n",
      "45            Notepad++;Visual Studio;Visual Studio Code   \n",
      "50            Notepad++;Visual Studio;Visual Studio Code   \n",
      "58                    IPython/Jupyter;Visual Studio Code   \n",
      "64                        Notepad++;PyCharm;Sublime Text   \n",
      "76     Android Studio;Eclipse;NetBeans;Notepad++;Visu...   \n",
      "...                                                  ...   \n",
      "83428                        Visual Studio Code;Webstorm   \n",
      "83431  Android Studio;IntelliJ;IPython/Jupyter;Notepa...   \n",
      "83432        Atom;IPython/Jupyter;Vim;Visual Studio Code   \n",
      "83436  Android Studio;Eclipse;IntelliJ;IPython/Jupyte...   \n",
      "83437                               PyCharm;Sublime Text   \n",
      "\n",
      "                                                AllTechs  \n",
      "45     C#;C++;JavaScript;PowerShell;SQL;TypeScript;Mi...  \n",
      "50     C#;HTML/CSS;JavaScript;Node.js;PowerShell;Type...  \n",
      "58     Bash/Shell;HTML/CSS;JavaScript;Python;SQL;Orac...  \n",
      "64     HTML/CSS;JavaScript;Python;MySQL;AWS;Flask;Pan...  \n",
      "76     Bash/Shell;C#;Dart;Delphi;Go;HTML/CSS;Java;Jav...  \n",
      "...                                                  ...  \n",
      "83428  Bash/Shell;Node.js;TypeScript;Elasticsearch;Mo...  \n",
      "83431  C#;Dart;HTML/CSS;Java;JavaScript;Kotlin;Node.j...  \n",
      "83432  Ruby;MySQL;PostgreSQL;Google Cloud Platform;He...  \n",
      "83436  Groovy;Java;Python;DynamoDB;Elasticsearch;Mong...  \n",
      "83437  Bash/Shell;JavaScript;Node.js;Python;Cassandra...  \n",
      "\n",
      "[14517 rows x 9 columns]\n"
     ]
    },
    {
     "name": "stderr",
     "output_type": "stream",
     "text": [
      "C:\\Users\\GPBONI~1\\AppData\\Local\\Temp/ipykernel_9952/1489135702.py:1: SettingWithCopyWarning: \n",
      "A value is trying to be set on a copy of a slice from a DataFrame.\n",
      "Try using .loc[row_indexer,col_indexer] = value instead\n",
      "\n",
      "See the caveats in the documentation: https://pandas.pydata.org/pandas-docs/stable/user_guide/indexing.html#returning-a-view-versus-a-copy\n",
      "  data_10_techs_popular_dev_countries['AllTechs'] = data_10_techs_popular_dev_countries['LanguageHaveWorkedWith'].map(str) + ';' + data_10_techs_popular_dev_countries['DatabaseHaveWorkedWith'].map(str) + ';' + data_10_techs_popular_dev_countries['PlatformHaveWorkedWith'].map(str) + ';' + data_10_techs_popular_dev_countries['WebframeHaveWorkedWith'].map(str) + ';' + data_10_techs_popular_dev_countries['MiscTechHaveWorkedWith'].map(str) + ';' + data_10_techs_popular_dev_countries['ToolsTechHaveWorkedWith'].map(str) + ';' + data_10_techs_popular_dev_countries['NEWCollabToolsHaveWorkedWith'].map(str)\n"
     ]
    }
   ],
   "source": [
    "data_10_techs_popular_dev_countries['AllTechs'] = data_10_techs_popular_dev_countries['LanguageHaveWorkedWith'].map(str) + ';' + data_10_techs_popular_dev_countries['DatabaseHaveWorkedWith'].map(str) + ';' + data_10_techs_popular_dev_countries['PlatformHaveWorkedWith'].map(str) + ';' + data_10_techs_popular_dev_countries['WebframeHaveWorkedWith'].map(str) + ';' + data_10_techs_popular_dev_countries['MiscTechHaveWorkedWith'].map(str) + ';' + data_10_techs_popular_dev_countries['ToolsTechHaveWorkedWith'].map(str) + ';' + data_10_techs_popular_dev_countries['NEWCollabToolsHaveWorkedWith'].map(str)\n",
    "print (data_10_techs_popular_dev_countries)"
   ]
  },
  {
   "cell_type": "code",
   "execution_count": 1030,
   "metadata": {},
   "outputs": [],
   "source": [
    "df_data_10_techs_popular_dev_countries = data_10_techs_popular_dev_countries[['Country', 'AllTechs']].copy()"
   ]
  },
  {
   "cell_type": "code",
   "execution_count": 1031,
   "metadata": {},
   "outputs": [
    {
     "data": {
      "text/html": [
       "<div>\n",
       "<style scoped>\n",
       "    .dataframe tbody tr th:only-of-type {\n",
       "        vertical-align: middle;\n",
       "    }\n",
       "\n",
       "    .dataframe tbody tr th {\n",
       "        vertical-align: top;\n",
       "    }\n",
       "\n",
       "    .dataframe thead th {\n",
       "        text-align: right;\n",
       "    }\n",
       "</style>\n",
       "<table border=\"1\" class=\"dataframe\">\n",
       "  <thead>\n",
       "    <tr style=\"text-align: right;\">\n",
       "      <th></th>\n",
       "      <th>Country</th>\n",
       "      <th>AllTechs</th>\n",
       "    </tr>\n",
       "  </thead>\n",
       "  <tbody>\n",
       "    <tr>\n",
       "      <th>45</th>\n",
       "      <td>Brazil</td>\n",
       "      <td>C#;C++;JavaScript;PowerShell;SQL;TypeScript;Mi...</td>\n",
       "    </tr>\n",
       "    <tr>\n",
       "      <th>50</th>\n",
       "      <td>Greece</td>\n",
       "      <td>C#;HTML/CSS;JavaScript;Node.js;PowerShell;Type...</td>\n",
       "    </tr>\n",
       "    <tr>\n",
       "      <th>58</th>\n",
       "      <td>Russian Federation</td>\n",
       "      <td>Bash/Shell;HTML/CSS;JavaScript;Python;SQL;Orac...</td>\n",
       "    </tr>\n",
       "    <tr>\n",
       "      <th>64</th>\n",
       "      <td>United States of America</td>\n",
       "      <td>HTML/CSS;JavaScript;Python;MySQL;AWS;Flask;Pan...</td>\n",
       "    </tr>\n",
       "    <tr>\n",
       "      <th>76</th>\n",
       "      <td>Poland</td>\n",
       "      <td>Bash/Shell;C#;Dart;Delphi;Go;HTML/CSS;Java;Jav...</td>\n",
       "    </tr>\n",
       "  </tbody>\n",
       "</table>\n",
       "</div>"
      ],
      "text/plain": [
       "                     Country  \\\n",
       "45                    Brazil   \n",
       "50                    Greece   \n",
       "58        Russian Federation   \n",
       "64  United States of America   \n",
       "76                    Poland   \n",
       "\n",
       "                                             AllTechs  \n",
       "45  C#;C++;JavaScript;PowerShell;SQL;TypeScript;Mi...  \n",
       "50  C#;HTML/CSS;JavaScript;Node.js;PowerShell;Type...  \n",
       "58  Bash/Shell;HTML/CSS;JavaScript;Python;SQL;Orac...  \n",
       "64  HTML/CSS;JavaScript;Python;MySQL;AWS;Flask;Pan...  \n",
       "76  Bash/Shell;C#;Dart;Delphi;Go;HTML/CSS;Java;Jav...  "
      ]
     },
     "execution_count": 1031,
     "metadata": {},
     "output_type": "execute_result"
    }
   ],
   "source": [
    "df_data_10_techs_popular_dev_countries.head()"
   ]
  },
  {
   "cell_type": "code",
   "execution_count": 1032,
   "metadata": {},
   "outputs": [],
   "source": [
    "df_data_10_techs_popular_dev_countries['AllTechs'] = df_data_10_techs_popular_dev_countries['AllTechs'].str.replace(' ', '')"
   ]
  },
  {
   "cell_type": "code",
   "execution_count": 1033,
   "metadata": {},
   "outputs": [],
   "source": [
    "df_data_10_techs_popular_dev_countries['AllTechs'] = df_data_10_techs_popular_dev_countries['AllTechs'].str.replace(';', ' ')"
   ]
  },
  {
   "cell_type": "code",
   "execution_count": 1034,
   "metadata": {},
   "outputs": [],
   "source": [
    "df_counts = df_data_10_techs_popular_dev_countries['AllTechs'].str.split(expand=True).stack().value_counts().rename_axis('Tech').reset_index(name='Count')"
   ]
  },
  {
   "cell_type": "code",
   "execution_count": 1035,
   "metadata": {},
   "outputs": [
    {
     "data": {
      "text/html": [
       "<div>\n",
       "<style scoped>\n",
       "    .dataframe tbody tr th:only-of-type {\n",
       "        vertical-align: middle;\n",
       "    }\n",
       "\n",
       "    .dataframe tbody tr th {\n",
       "        vertical-align: top;\n",
       "    }\n",
       "\n",
       "    .dataframe thead th {\n",
       "        text-align: right;\n",
       "    }\n",
       "</style>\n",
       "<table border=\"1\" class=\"dataframe\">\n",
       "  <thead>\n",
       "    <tr style=\"text-align: right;\">\n",
       "      <th></th>\n",
       "      <th>Tech</th>\n",
       "      <th>Count</th>\n",
       "    </tr>\n",
       "  </thead>\n",
       "  <tbody>\n",
       "    <tr>\n",
       "      <th>0</th>\n",
       "      <td>Git</td>\n",
       "      <td>13828</td>\n",
       "    </tr>\n",
       "    <tr>\n",
       "      <th>1</th>\n",
       "      <td>VisualStudioCode</td>\n",
       "      <td>12030</td>\n",
       "    </tr>\n",
       "    <tr>\n",
       "      <th>2</th>\n",
       "      <td>JavaScript</td>\n",
       "      <td>11779</td>\n",
       "    </tr>\n",
       "    <tr>\n",
       "      <th>3</th>\n",
       "      <td>HTML/CSS</td>\n",
       "      <td>9714</td>\n",
       "    </tr>\n",
       "    <tr>\n",
       "      <th>4</th>\n",
       "      <td>Docker</td>\n",
       "      <td>9296</td>\n",
       "    </tr>\n",
       "    <tr>\n",
       "      <th>...</th>\n",
       "      <td>...</td>\n",
       "      <td>...</td>\n",
       "    </tr>\n",
       "    <tr>\n",
       "      <th>120</th>\n",
       "      <td>Erlang</td>\n",
       "      <td>128</td>\n",
       "    </tr>\n",
       "    <tr>\n",
       "      <th>121</th>\n",
       "      <td>Pulumi</td>\n",
       "      <td>121</td>\n",
       "    </tr>\n",
       "    <tr>\n",
       "      <th>122</th>\n",
       "      <td>COBOL</td>\n",
       "      <td>91</td>\n",
       "    </tr>\n",
       "    <tr>\n",
       "      <th>123</th>\n",
       "      <td>Crystal</td>\n",
       "      <td>87</td>\n",
       "    </tr>\n",
       "    <tr>\n",
       "      <th>124</th>\n",
       "      <td>APL</td>\n",
       "      <td>45</td>\n",
       "    </tr>\n",
       "  </tbody>\n",
       "</table>\n",
       "<p>125 rows × 2 columns</p>\n",
       "</div>"
      ],
      "text/plain": [
       "                 Tech  Count\n",
       "0                 Git  13828\n",
       "1    VisualStudioCode  12030\n",
       "2          JavaScript  11779\n",
       "3            HTML/CSS   9714\n",
       "4              Docker   9296\n",
       "..                ...    ...\n",
       "120            Erlang    128\n",
       "121            Pulumi    121\n",
       "122             COBOL     91\n",
       "123           Crystal     87\n",
       "124               APL     45\n",
       "\n",
       "[125 rows x 2 columns]"
      ]
     },
     "execution_count": 1035,
     "metadata": {},
     "output_type": "execute_result"
    }
   ],
   "source": [
    "df_counts"
   ]
  },
  {
   "cell_type": "code",
   "execution_count": 391,
   "metadata": {},
   "outputs": [],
   "source": [
    "data_10_techs_popular_dev_countries.to_csv('012_data_10_techs_popular_dev_countries.csv', index=False)"
   ]
  },
  {
   "cell_type": "markdown",
   "metadata": {},
   "source": [
    "### 2.13. ¿Cuáles el sistema operativo más usado entre los encuestados?\n",
    "\n",
    "Se seleccionarán los campos adecuados para responder a esta pregunta"
   ]
  },
  {
   "cell_type": "code",
   "execution_count": 1036,
   "metadata": {},
   "outputs": [],
   "source": [
    "df_data_so_devs = data_test[['OpSys']].copy()"
   ]
  },
  {
   "cell_type": "code",
   "execution_count": 1038,
   "metadata": {},
   "outputs": [
    {
     "data": {
      "text/html": [
       "<div>\n",
       "<style scoped>\n",
       "    .dataframe tbody tr th:only-of-type {\n",
       "        vertical-align: middle;\n",
       "    }\n",
       "\n",
       "    .dataframe tbody tr th {\n",
       "        vertical-align: top;\n",
       "    }\n",
       "\n",
       "    .dataframe thead th {\n",
       "        text-align: right;\n",
       "    }\n",
       "</style>\n",
       "<table border=\"1\" class=\"dataframe\">\n",
       "  <thead>\n",
       "    <tr style=\"text-align: right;\">\n",
       "      <th></th>\n",
       "      <th>OpSys</th>\n",
       "    </tr>\n",
       "  </thead>\n",
       "  <tbody>\n",
       "    <tr>\n",
       "      <th>83428</th>\n",
       "      <td>MacOS</td>\n",
       "    </tr>\n",
       "    <tr>\n",
       "      <th>83431</th>\n",
       "      <td>Windows</td>\n",
       "    </tr>\n",
       "    <tr>\n",
       "      <th>83432</th>\n",
       "      <td>MacOS</td>\n",
       "    </tr>\n",
       "    <tr>\n",
       "      <th>83436</th>\n",
       "      <td>Windows</td>\n",
       "    </tr>\n",
       "    <tr>\n",
       "      <th>83437</th>\n",
       "      <td>MacOS</td>\n",
       "    </tr>\n",
       "  </tbody>\n",
       "</table>\n",
       "</div>"
      ],
      "text/plain": [
       "         OpSys\n",
       "83428    MacOS\n",
       "83431  Windows\n",
       "83432    MacOS\n",
       "83436  Windows\n",
       "83437    MacOS"
      ]
     },
     "execution_count": 1038,
     "metadata": {},
     "output_type": "execute_result"
    }
   ],
   "source": [
    "df_data_so_devs.tail()"
   ]
  },
  {
   "cell_type": "code",
   "execution_count": 1039,
   "metadata": {},
   "outputs": [
    {
     "data": {
      "text/plain": [
       "7037                        BSD\n",
       "58                        Linux\n",
       "77                        MacOS\n",
       "464     Other (please specify):\n",
       "45                      Windows\n",
       "Name: OpSys, dtype: object"
      ]
     },
     "execution_count": 1039,
     "metadata": {},
     "output_type": "execute_result"
    }
   ],
   "source": [
    "df_data_so_devs['OpSys'].drop_duplicates().sort_values()"
   ]
  },
  {
   "cell_type": "code",
   "execution_count": 1042,
   "metadata": {},
   "outputs": [],
   "source": [
    "df_data_so_devs['OpSys'] = df_data_so_devs['OpSys'].replace(['Other (please specify):'], 'Otro')"
   ]
  },
  {
   "cell_type": "code",
   "execution_count": 1043,
   "metadata": {},
   "outputs": [
    {
     "data": {
      "text/plain": [
       "Windows    7293\n",
       "MacOS      4255\n",
       "Linux      2912\n",
       "Otro         47\n",
       "BSD          10\n",
       "Name: OpSys, dtype: int64"
      ]
     },
     "execution_count": 1043,
     "metadata": {},
     "output_type": "execute_result"
    }
   ],
   "source": [
    "df_data_so_devs['OpSys'].value_counts()"
   ]
  },
  {
   "cell_type": "code",
   "execution_count": 1045,
   "metadata": {},
   "outputs": [],
   "source": [
    "df_counts = df_data_so_devs['OpSys'].str.split(expand=True).stack().value_counts().rename_axis('OS').reset_index(name='Count')"
   ]
  },
  {
   "cell_type": "code",
   "execution_count": 1046,
   "metadata": {},
   "outputs": [
    {
     "data": {
      "text/html": [
       "<div>\n",
       "<style scoped>\n",
       "    .dataframe tbody tr th:only-of-type {\n",
       "        vertical-align: middle;\n",
       "    }\n",
       "\n",
       "    .dataframe tbody tr th {\n",
       "        vertical-align: top;\n",
       "    }\n",
       "\n",
       "    .dataframe thead th {\n",
       "        text-align: right;\n",
       "    }\n",
       "</style>\n",
       "<table border=\"1\" class=\"dataframe\">\n",
       "  <thead>\n",
       "    <tr style=\"text-align: right;\">\n",
       "      <th></th>\n",
       "      <th>OS</th>\n",
       "      <th>Count</th>\n",
       "    </tr>\n",
       "  </thead>\n",
       "  <tbody>\n",
       "    <tr>\n",
       "      <th>0</th>\n",
       "      <td>Windows</td>\n",
       "      <td>7293</td>\n",
       "    </tr>\n",
       "    <tr>\n",
       "      <th>1</th>\n",
       "      <td>MacOS</td>\n",
       "      <td>4255</td>\n",
       "    </tr>\n",
       "    <tr>\n",
       "      <th>2</th>\n",
       "      <td>Linux</td>\n",
       "      <td>2912</td>\n",
       "    </tr>\n",
       "    <tr>\n",
       "      <th>3</th>\n",
       "      <td>Otro</td>\n",
       "      <td>47</td>\n",
       "    </tr>\n",
       "    <tr>\n",
       "      <th>4</th>\n",
       "      <td>BSD</td>\n",
       "      <td>10</td>\n",
       "    </tr>\n",
       "  </tbody>\n",
       "</table>\n",
       "</div>"
      ],
      "text/plain": [
       "        OS  Count\n",
       "0  Windows   7293\n",
       "1    MacOS   4255\n",
       "2    Linux   2912\n",
       "3     Otro     47\n",
       "4      BSD     10"
      ]
     },
     "execution_count": 1046,
     "metadata": {},
     "output_type": "execute_result"
    }
   ],
   "source": [
    "df_counts"
   ]
  },
  {
   "cell_type": "code",
   "execution_count": 1047,
   "metadata": {},
   "outputs": [],
   "source": [
    "df_counts.to_csv('013_flourish_data.csv', index=False)"
   ]
  },
  {
   "cell_type": "markdown",
   "metadata": {},
   "source": [
    "### 2.14. ¿Qué proporción de programadores tiene algún desorden mental por país?\n",
    "\n",
    "Se seleccionarán los campos adecuados para responder a esta pregunta"
   ]
  },
  {
   "cell_type": "code",
   "execution_count": 394,
   "metadata": {},
   "outputs": [
    {
     "data": {
      "text/html": [
       "<div>\n",
       "<style scoped>\n",
       "    .dataframe tbody tr th:only-of-type {\n",
       "        vertical-align: middle;\n",
       "    }\n",
       "\n",
       "    .dataframe tbody tr th {\n",
       "        vertical-align: top;\n",
       "    }\n",
       "\n",
       "    .dataframe thead th {\n",
       "        text-align: right;\n",
       "    }\n",
       "</style>\n",
       "<table border=\"1\" class=\"dataframe\">\n",
       "  <thead>\n",
       "    <tr style=\"text-align: right;\">\n",
       "      <th></th>\n",
       "      <th>Country</th>\n",
       "      <th>MentalHealth</th>\n",
       "    </tr>\n",
       "  </thead>\n",
       "  <tbody>\n",
       "    <tr>\n",
       "      <th>45</th>\n",
       "      <td>Brazil</td>\n",
       "      <td>Desorden emocional</td>\n",
       "    </tr>\n",
       "    <tr>\n",
       "      <th>50</th>\n",
       "      <td>Greece</td>\n",
       "      <td>Ninguna de las mencionadas</td>\n",
       "    </tr>\n",
       "    <tr>\n",
       "      <th>58</th>\n",
       "      <td>Russian Federation</td>\n",
       "      <td>Ninguna de las mencionadas</td>\n",
       "    </tr>\n",
       "    <tr>\n",
       "      <th>64</th>\n",
       "      <td>United States of America</td>\n",
       "      <td>Ninguna de las mencionadas</td>\n",
       "    </tr>\n",
       "    <tr>\n",
       "      <th>76</th>\n",
       "      <td>Poland</td>\n",
       "      <td>Ninguna de las mencionadas</td>\n",
       "    </tr>\n",
       "  </tbody>\n",
       "</table>\n",
       "</div>"
      ],
      "text/plain": [
       "                     Country                MentalHealth\n",
       "45                    Brazil          Desorden emocional\n",
       "50                    Greece  Ninguna de las mencionadas\n",
       "58        Russian Federation  Ninguna de las mencionadas\n",
       "64  United States of America  Ninguna de las mencionadas\n",
       "76                    Poland  Ninguna de las mencionadas"
      ]
     },
     "execution_count": 394,
     "metadata": {},
     "output_type": "execute_result"
    }
   ],
   "source": [
    "data_devs_mental_health_countries = data_test[['Country', 'MentalHealth']]\n",
    "data_devs_mental_health_countries.head()"
   ]
  },
  {
   "cell_type": "code",
   "execution_count": 1048,
   "metadata": {},
   "outputs": [
    {
     "data": {
      "text/plain": [
       "Ninguna de las mencionadas             10924\n",
       "Desorden de concentración o memoria     1303\n",
       "Desorden emocional                       908\n",
       "Desorden de ansiedad                     637\n",
       "No definido                              538\n",
       "Tipo de autismo                          207\n",
       "Name: MentalHealth, dtype: int64"
      ]
     },
     "execution_count": 1048,
     "metadata": {},
     "output_type": "execute_result"
    }
   ],
   "source": [
    "data_devs_mental_health_countries['MentalHealth'].value_counts()"
   ]
  },
  {
   "cell_type": "code",
   "execution_count": 1100,
   "metadata": {},
   "outputs": [],
   "source": [
    "df_data_devs_mental_health_countries = data_devs_mental_health_countries.copy()"
   ]
  },
  {
   "cell_type": "code",
   "execution_count": 1101,
   "metadata": {},
   "outputs": [],
   "source": [
    "df_data_devs_mental_health_countries = df_data_devs_mental_health_countries[df_data_devs_mental_health_countries['MentalHealth'].isin(['Desorden de concentración o memoria', 'Desorden emocional', 'Desorden de ansiedad', 'Tipo de autismo'])]"
   ]
  },
  {
   "cell_type": "code",
   "execution_count": 1103,
   "metadata": {
    "scrolled": true
   },
   "outputs": [
    {
     "data": {
      "text/html": [
       "<div>\n",
       "<style scoped>\n",
       "    .dataframe tbody tr th:only-of-type {\n",
       "        vertical-align: middle;\n",
       "    }\n",
       "\n",
       "    .dataframe tbody tr th {\n",
       "        vertical-align: top;\n",
       "    }\n",
       "\n",
       "    .dataframe thead th {\n",
       "        text-align: right;\n",
       "    }\n",
       "</style>\n",
       "<table border=\"1\" class=\"dataframe\">\n",
       "  <thead>\n",
       "    <tr style=\"text-align: right;\">\n",
       "      <th></th>\n",
       "      <th>Country</th>\n",
       "      <th>MentalHealth</th>\n",
       "    </tr>\n",
       "  </thead>\n",
       "  <tbody>\n",
       "    <tr>\n",
       "      <th>45</th>\n",
       "      <td>Brazil</td>\n",
       "      <td>Desorden emocional</td>\n",
       "    </tr>\n",
       "    <tr>\n",
       "      <th>96</th>\n",
       "      <td>Germany</td>\n",
       "      <td>Desorden emocional</td>\n",
       "    </tr>\n",
       "    <tr>\n",
       "      <th>129</th>\n",
       "      <td>United States of America</td>\n",
       "      <td>Tipo de autismo</td>\n",
       "    </tr>\n",
       "    <tr>\n",
       "      <th>199</th>\n",
       "      <td>United States of America</td>\n",
       "      <td>Desorden de concentración o memoria</td>\n",
       "    </tr>\n",
       "    <tr>\n",
       "      <th>213</th>\n",
       "      <td>Russian Federation</td>\n",
       "      <td>Desorden de ansiedad</td>\n",
       "    </tr>\n",
       "  </tbody>\n",
       "</table>\n",
       "</div>"
      ],
      "text/plain": [
       "                      Country                         MentalHealth\n",
       "45                     Brazil                   Desorden emocional\n",
       "96                    Germany                   Desorden emocional\n",
       "129  United States of America                      Tipo de autismo\n",
       "199  United States of America  Desorden de concentración o memoria\n",
       "213        Russian Federation                 Desorden de ansiedad"
      ]
     },
     "execution_count": 1103,
     "metadata": {},
     "output_type": "execute_result"
    }
   ],
   "source": [
    "df_data_devs_mental_health_countries.head()"
   ]
  },
  {
   "cell_type": "code",
   "execution_count": 1091,
   "metadata": {},
   "outputs": [],
   "source": [
    "df_data_flourish_014 = df_data_devs_mental_health_countries['Country'].value_counts().to_frame('counts').reset_index()"
   ]
  },
  {
   "cell_type": "code",
   "execution_count": 1095,
   "metadata": {},
   "outputs": [
    {
     "data": {
      "text/html": [
       "<div>\n",
       "<style scoped>\n",
       "    .dataframe tbody tr th:only-of-type {\n",
       "        vertical-align: middle;\n",
       "    }\n",
       "\n",
       "    .dataframe tbody tr th {\n",
       "        vertical-align: top;\n",
       "    }\n",
       "\n",
       "    .dataframe thead th {\n",
       "        text-align: right;\n",
       "    }\n",
       "</style>\n",
       "<table border=\"1\" class=\"dataframe\">\n",
       "  <thead>\n",
       "    <tr style=\"text-align: right;\">\n",
       "      <th></th>\n",
       "      <th>index</th>\n",
       "      <th>counts</th>\n",
       "    </tr>\n",
       "  </thead>\n",
       "  <tbody>\n",
       "    <tr>\n",
       "      <th>0</th>\n",
       "      <td>United States of America</td>\n",
       "      <td>1027</td>\n",
       "    </tr>\n",
       "    <tr>\n",
       "      <th>1</th>\n",
       "      <td>United Kingdom of Great Britain and Northern I...</td>\n",
       "      <td>206</td>\n",
       "    </tr>\n",
       "    <tr>\n",
       "      <th>2</th>\n",
       "      <td>Brazil</td>\n",
       "      <td>194</td>\n",
       "    </tr>\n",
       "    <tr>\n",
       "      <th>3</th>\n",
       "      <td>Canada</td>\n",
       "      <td>140</td>\n",
       "    </tr>\n",
       "    <tr>\n",
       "      <th>4</th>\n",
       "      <td>India</td>\n",
       "      <td>134</td>\n",
       "    </tr>\n",
       "    <tr>\n",
       "      <th>5</th>\n",
       "      <td>Germany</td>\n",
       "      <td>112</td>\n",
       "    </tr>\n",
       "    <tr>\n",
       "      <th>6</th>\n",
       "      <td>Australia</td>\n",
       "      <td>85</td>\n",
       "    </tr>\n",
       "    <tr>\n",
       "      <th>7</th>\n",
       "      <td>Netherlands</td>\n",
       "      <td>84</td>\n",
       "    </tr>\n",
       "    <tr>\n",
       "      <th>8</th>\n",
       "      <td>Poland</td>\n",
       "      <td>57</td>\n",
       "    </tr>\n",
       "    <tr>\n",
       "      <th>9</th>\n",
       "      <td>Turkey</td>\n",
       "      <td>52</td>\n",
       "    </tr>\n",
       "  </tbody>\n",
       "</table>\n",
       "</div>"
      ],
      "text/plain": [
       "                                               index  counts\n",
       "0                           United States of America    1027\n",
       "1  United Kingdom of Great Britain and Northern I...     206\n",
       "2                                             Brazil     194\n",
       "3                                             Canada     140\n",
       "4                                              India     134\n",
       "5                                            Germany     112\n",
       "6                                          Australia      85\n",
       "7                                        Netherlands      84\n",
       "8                                             Poland      57\n",
       "9                                             Turkey      52"
      ]
     },
     "execution_count": 1095,
     "metadata": {},
     "output_type": "execute_result"
    }
   ],
   "source": [
    "df_data_flourish_014 = df_data_flourish_014.head(10)\n",
    "df_data_flourish_014"
   ]
  },
  {
   "cell_type": "code",
   "execution_count": 1111,
   "metadata": {},
   "outputs": [],
   "source": [
    "df_data_flourish_014_best_ten = df_data_devs_mental_health_countries[df_data_devs_mental_health_countries['Country'].isin(['United States of America', 'United Kingdom of Great Britain and Northern Ireland', 'Brazil', 'Canada', 'India', 'Germany', 'Australia', 'Netherlands', 'Poland', 'Turkey'])]"
   ]
  },
  {
   "cell_type": "code",
   "execution_count": 1135,
   "metadata": {},
   "outputs": [],
   "source": [
    "df = df_data_flourish_014_best_ten.copy()"
   ]
  },
  {
   "cell_type": "code",
   "execution_count": 1136,
   "metadata": {},
   "outputs": [
    {
     "data": {
      "text/html": [
       "<div>\n",
       "<style scoped>\n",
       "    .dataframe tbody tr th:only-of-type {\n",
       "        vertical-align: middle;\n",
       "    }\n",
       "\n",
       "    .dataframe tbody tr th {\n",
       "        vertical-align: top;\n",
       "    }\n",
       "\n",
       "    .dataframe thead th {\n",
       "        text-align: right;\n",
       "    }\n",
       "</style>\n",
       "<table border=\"1\" class=\"dataframe\">\n",
       "  <thead>\n",
       "    <tr style=\"text-align: right;\">\n",
       "      <th></th>\n",
       "      <th>Country</th>\n",
       "      <th>MentalHealth</th>\n",
       "    </tr>\n",
       "  </thead>\n",
       "  <tbody>\n",
       "    <tr>\n",
       "      <th>45</th>\n",
       "      <td>Brazil</td>\n",
       "      <td>Desorden emocional</td>\n",
       "    </tr>\n",
       "    <tr>\n",
       "      <th>96</th>\n",
       "      <td>Germany</td>\n",
       "      <td>Desorden emocional</td>\n",
       "    </tr>\n",
       "    <tr>\n",
       "      <th>129</th>\n",
       "      <td>United States of America</td>\n",
       "      <td>Tipo de autismo</td>\n",
       "    </tr>\n",
       "    <tr>\n",
       "      <th>199</th>\n",
       "      <td>United States of America</td>\n",
       "      <td>Desorden de concentración o memoria</td>\n",
       "    </tr>\n",
       "    <tr>\n",
       "      <th>237</th>\n",
       "      <td>Germany</td>\n",
       "      <td>Desorden emocional</td>\n",
       "    </tr>\n",
       "    <tr>\n",
       "      <th>...</th>\n",
       "      <td>...</td>\n",
       "      <td>...</td>\n",
       "    </tr>\n",
       "    <tr>\n",
       "      <th>83319</th>\n",
       "      <td>Germany</td>\n",
       "      <td>Desorden de concentración o memoria</td>\n",
       "    </tr>\n",
       "    <tr>\n",
       "      <th>83342</th>\n",
       "      <td>United States of America</td>\n",
       "      <td>Desorden emocional</td>\n",
       "    </tr>\n",
       "    <tr>\n",
       "      <th>83347</th>\n",
       "      <td>Brazil</td>\n",
       "      <td>Desorden de ansiedad</td>\n",
       "    </tr>\n",
       "    <tr>\n",
       "      <th>83370</th>\n",
       "      <td>Brazil</td>\n",
       "      <td>Desorden de concentración o memoria</td>\n",
       "    </tr>\n",
       "    <tr>\n",
       "      <th>83437</th>\n",
       "      <td>Canada</td>\n",
       "      <td>Desorden emocional</td>\n",
       "    </tr>\n",
       "  </tbody>\n",
       "</table>\n",
       "<p>2091 rows × 2 columns</p>\n",
       "</div>"
      ],
      "text/plain": [
       "                        Country                         MentalHealth\n",
       "45                       Brazil                   Desorden emocional\n",
       "96                      Germany                   Desorden emocional\n",
       "129    United States of America                      Tipo de autismo\n",
       "199    United States of America  Desorden de concentración o memoria\n",
       "237                     Germany                   Desorden emocional\n",
       "...                         ...                                  ...\n",
       "83319                   Germany  Desorden de concentración o memoria\n",
       "83342  United States of America                   Desorden emocional\n",
       "83347                    Brazil                 Desorden de ansiedad\n",
       "83370                    Brazil  Desorden de concentración o memoria\n",
       "83437                    Canada                   Desorden emocional\n",
       "\n",
       "[2091 rows x 2 columns]"
      ]
     },
     "execution_count": 1136,
     "metadata": {},
     "output_type": "execute_result"
    }
   ],
   "source": [
    "df"
   ]
  },
  {
   "cell_type": "code",
   "execution_count": 1138,
   "metadata": {},
   "outputs": [
    {
     "data": {
      "text/html": [
       "<div>\n",
       "<style scoped>\n",
       "    .dataframe tbody tr th:only-of-type {\n",
       "        vertical-align: middle;\n",
       "    }\n",
       "\n",
       "    .dataframe tbody tr th {\n",
       "        vertical-align: top;\n",
       "    }\n",
       "\n",
       "    .dataframe thead th {\n",
       "        text-align: right;\n",
       "    }\n",
       "</style>\n",
       "<table border=\"1\" class=\"dataframe\">\n",
       "  <thead>\n",
       "    <tr style=\"text-align: right;\">\n",
       "      <th>MentalHealth</th>\n",
       "      <th>Desorden de concentración o memoria</th>\n",
       "      <th>Desorden emocional</th>\n",
       "      <th>Desorden de ansiedad</th>\n",
       "      <th>Tipo de autismo</th>\n",
       "    </tr>\n",
       "    <tr>\n",
       "      <th>Country</th>\n",
       "      <th></th>\n",
       "      <th></th>\n",
       "      <th></th>\n",
       "      <th></th>\n",
       "    </tr>\n",
       "  </thead>\n",
       "  <tbody>\n",
       "    <tr>\n",
       "      <th>Australia</th>\n",
       "      <td>36</td>\n",
       "      <td>25</td>\n",
       "      <td>16</td>\n",
       "      <td>8</td>\n",
       "    </tr>\n",
       "    <tr>\n",
       "      <th>Brazil</th>\n",
       "      <td>67</td>\n",
       "      <td>52</td>\n",
       "      <td>64</td>\n",
       "      <td>11</td>\n",
       "    </tr>\n",
       "    <tr>\n",
       "      <th>Canada</th>\n",
       "      <td>71</td>\n",
       "      <td>30</td>\n",
       "      <td>30</td>\n",
       "      <td>9</td>\n",
       "    </tr>\n",
       "    <tr>\n",
       "      <th>Germany</th>\n",
       "      <td>38</td>\n",
       "      <td>43</td>\n",
       "      <td>21</td>\n",
       "      <td>10</td>\n",
       "    </tr>\n",
       "    <tr>\n",
       "      <th>India</th>\n",
       "      <td>42</td>\n",
       "      <td>51</td>\n",
       "      <td>38</td>\n",
       "      <td>3</td>\n",
       "    </tr>\n",
       "    <tr>\n",
       "      <th>Netherlands</th>\n",
       "      <td>42</td>\n",
       "      <td>15</td>\n",
       "      <td>11</td>\n",
       "      <td>16</td>\n",
       "    </tr>\n",
       "    <tr>\n",
       "      <th>Poland</th>\n",
       "      <td>14</td>\n",
       "      <td>26</td>\n",
       "      <td>7</td>\n",
       "      <td>10</td>\n",
       "    </tr>\n",
       "    <tr>\n",
       "      <th>Turkey</th>\n",
       "      <td>19</td>\n",
       "      <td>19</td>\n",
       "      <td>14</td>\n",
       "      <td>0</td>\n",
       "    </tr>\n",
       "    <tr>\n",
       "      <th>United Kingdom of Great Britain and Northern Ireland</th>\n",
       "      <td>64</td>\n",
       "      <td>77</td>\n",
       "      <td>42</td>\n",
       "      <td>23</td>\n",
       "    </tr>\n",
       "    <tr>\n",
       "      <th>United States of America</th>\n",
       "      <td>573</td>\n",
       "      <td>261</td>\n",
       "      <td>144</td>\n",
       "      <td>49</td>\n",
       "    </tr>\n",
       "  </tbody>\n",
       "</table>\n",
       "</div>"
      ],
      "text/plain": [
       "MentalHealth                                        Desorden de concentración o memoria  \\\n",
       "Country                                                                                   \n",
       "Australia                                                                            36   \n",
       "Brazil                                                                               67   \n",
       "Canada                                                                               71   \n",
       "Germany                                                                              38   \n",
       "India                                                                                42   \n",
       "Netherlands                                                                          42   \n",
       "Poland                                                                               14   \n",
       "Turkey                                                                               19   \n",
       "United Kingdom of Great Britain and Northern Ir...                                   64   \n",
       "United States of America                                                            573   \n",
       "\n",
       "MentalHealth                                        Desorden emocional  \\\n",
       "Country                                                                  \n",
       "Australia                                                           25   \n",
       "Brazil                                                              52   \n",
       "Canada                                                              30   \n",
       "Germany                                                             43   \n",
       "India                                                               51   \n",
       "Netherlands                                                         15   \n",
       "Poland                                                              26   \n",
       "Turkey                                                              19   \n",
       "United Kingdom of Great Britain and Northern Ir...                  77   \n",
       "United States of America                                           261   \n",
       "\n",
       "MentalHealth                                        Desorden de ansiedad  \\\n",
       "Country                                                                    \n",
       "Australia                                                             16   \n",
       "Brazil                                                                64   \n",
       "Canada                                                                30   \n",
       "Germany                                                               21   \n",
       "India                                                                 38   \n",
       "Netherlands                                                           11   \n",
       "Poland                                                                 7   \n",
       "Turkey                                                                14   \n",
       "United Kingdom of Great Britain and Northern Ir...                    42   \n",
       "United States of America                                             144   \n",
       "\n",
       "MentalHealth                                        Tipo de autismo  \n",
       "Country                                                              \n",
       "Australia                                                         8  \n",
       "Brazil                                                           11  \n",
       "Canada                                                            9  \n",
       "Germany                                                          10  \n",
       "India                                                             3  \n",
       "Netherlands                                                      16  \n",
       "Poland                                                           10  \n",
       "Turkey                                                            0  \n",
       "United Kingdom of Great Britain and Northern Ir...               23  \n",
       "United States of America                                         49  "
      ]
     },
     "execution_count": 1138,
     "metadata": {},
     "output_type": "execute_result"
    }
   ],
   "source": [
    "df1 = pd.crosstab(df['Country'], df['MentalHealth'])\n",
    "df1"
   ]
  },
  {
   "cell_type": "code",
   "execution_count": 1066,
   "metadata": {},
   "outputs": [
    {
     "data": {
      "text/html": [
       "<div>\n",
       "<style scoped>\n",
       "    .dataframe tbody tr th:only-of-type {\n",
       "        vertical-align: middle;\n",
       "    }\n",
       "\n",
       "    .dataframe tbody tr th {\n",
       "        vertical-align: top;\n",
       "    }\n",
       "\n",
       "    .dataframe thead th {\n",
       "        text-align: right;\n",
       "    }\n",
       "</style>\n",
       "<table border=\"1\" class=\"dataframe\">\n",
       "  <thead>\n",
       "    <tr style=\"text-align: right;\">\n",
       "      <th></th>\n",
       "      <th>Country</th>\n",
       "      <th>MentalHealth</th>\n",
       "      <th>count</th>\n",
       "    </tr>\n",
       "  </thead>\n",
       "  <tbody>\n",
       "    <tr>\n",
       "      <th>0</th>\n",
       "      <td>United States of America</td>\n",
       "      <td>Desorden de concentración o memoria</td>\n",
       "      <td>573</td>\n",
       "    </tr>\n",
       "    <tr>\n",
       "      <th>3</th>\n",
       "      <td>United Kingdom of Great Britain and Northern I...</td>\n",
       "      <td>Desorden emocional</td>\n",
       "      <td>77</td>\n",
       "    </tr>\n",
       "    <tr>\n",
       "      <th>4</th>\n",
       "      <td>Canada</td>\n",
       "      <td>Desorden de concentración o memoria</td>\n",
       "      <td>71</td>\n",
       "    </tr>\n",
       "    <tr>\n",
       "      <th>5</th>\n",
       "      <td>Brazil</td>\n",
       "      <td>Desorden de concentración o memoria</td>\n",
       "      <td>67</td>\n",
       "    </tr>\n",
       "    <tr>\n",
       "      <th>9</th>\n",
       "      <td>India</td>\n",
       "      <td>Desorden emocional</td>\n",
       "      <td>51</td>\n",
       "    </tr>\n",
       "    <tr>\n",
       "      <th>...</th>\n",
       "      <td>...</td>\n",
       "      <td>...</td>\n",
       "      <td>...</td>\n",
       "    </tr>\n",
       "    <tr>\n",
       "      <th>295</th>\n",
       "      <td>Kuwait</td>\n",
       "      <td>Desorden de concentración o memoria</td>\n",
       "      <td>1</td>\n",
       "    </tr>\n",
       "    <tr>\n",
       "      <th>298</th>\n",
       "      <td>Luxembourg</td>\n",
       "      <td>Desorden de ansiedad</td>\n",
       "      <td>1</td>\n",
       "    </tr>\n",
       "    <tr>\n",
       "      <th>299</th>\n",
       "      <td>Malawi</td>\n",
       "      <td>Desorden de concentración o memoria</td>\n",
       "      <td>1</td>\n",
       "    </tr>\n",
       "    <tr>\n",
       "      <th>300</th>\n",
       "      <td>Maldives</td>\n",
       "      <td>Desorden emocional</td>\n",
       "      <td>1</td>\n",
       "    </tr>\n",
       "    <tr>\n",
       "      <th>301</th>\n",
       "      <td>Zambia</td>\n",
       "      <td>Desorden de concentración o memoria</td>\n",
       "      <td>1</td>\n",
       "    </tr>\n",
       "  </tbody>\n",
       "</table>\n",
       "<p>122 rows × 3 columns</p>\n",
       "</div>"
      ],
      "text/plain": [
       "                                               Country  \\\n",
       "0                             United States of America   \n",
       "3    United Kingdom of Great Britain and Northern I...   \n",
       "4                                               Canada   \n",
       "5                                               Brazil   \n",
       "9                                                India   \n",
       "..                                                 ...   \n",
       "295                                             Kuwait   \n",
       "298                                         Luxembourg   \n",
       "299                                             Malawi   \n",
       "300                                           Maldives   \n",
       "301                                             Zambia   \n",
       "\n",
       "                            MentalHealth  count  \n",
       "0    Desorden de concentración o memoria    573  \n",
       "3                     Desorden emocional     77  \n",
       "4    Desorden de concentración o memoria     71  \n",
       "5    Desorden de concentración o memoria     67  \n",
       "9                     Desorden emocional     51  \n",
       "..                                   ...    ...  \n",
       "295  Desorden de concentración o memoria      1  \n",
       "298                 Desorden de ansiedad      1  \n",
       "299  Desorden de concentración o memoria      1  \n",
       "300                   Desorden emocional      1  \n",
       "301  Desorden de concentración o memoria      1  \n",
       "\n",
       "[122 rows x 3 columns]"
      ]
     },
     "execution_count": 1066,
     "metadata": {},
     "output_type": "execute_result"
    }
   ],
   "source": [
    "(df_data_devs_mental_health_countries.groupby(['Country', 'MentalHealth']).size() \n",
    "   .sort_values(ascending=False) \n",
    "   .reset_index(name='count') \n",
    "   .drop_duplicates(subset='Country'))"
   ]
  },
  {
   "cell_type": "code",
   "execution_count": 1074,
   "metadata": {},
   "outputs": [],
   "source": [
    "df_flourish_data_014 = (df_data_devs_mental_health_countries.groupby(['Country', 'MentalHealth']).size() \n",
    "   .sort_values(ascending=False) \n",
    "   .reset_index(name='count'))"
   ]
  },
  {
   "cell_type": "code",
   "execution_count": 1077,
   "metadata": {},
   "outputs": [],
   "source": [
    "df_flourish_data_014 = df_flourish_data_014.sort_values('Country')"
   ]
  },
  {
   "cell_type": "code",
   "execution_count": 1094,
   "metadata": {},
   "outputs": [],
   "source": [
    "df_data_flourish_014.head(10).to_csv('014_flourish_data_014.csv', index=False)"
   ]
  },
  {
   "cell_type": "code",
   "execution_count": 1140,
   "metadata": {},
   "outputs": [],
   "source": [
    "df1.to_csv('014_flourish_data_014.csv', index=True)"
   ]
  },
  {
   "cell_type": "markdown",
   "metadata": {},
   "source": [
    "### 2.15. ¿Cuáles son los países que tienen los mejores sueldos entre los programadores?\n",
    "\n",
    "Se seleccionarán los campos adecuados para responder a esta pregunta"
   ]
  },
  {
   "cell_type": "code",
   "execution_count": 1141,
   "metadata": {},
   "outputs": [],
   "source": [
    "df_best_incomes_countries = data_test[['Country', 'ConvertedCompYearly']].copy()"
   ]
  },
  {
   "cell_type": "code",
   "execution_count": 1142,
   "metadata": {},
   "outputs": [
    {
     "data": {
      "text/html": [
       "<div>\n",
       "<style scoped>\n",
       "    .dataframe tbody tr th:only-of-type {\n",
       "        vertical-align: middle;\n",
       "    }\n",
       "\n",
       "    .dataframe tbody tr th {\n",
       "        vertical-align: top;\n",
       "    }\n",
       "\n",
       "    .dataframe thead th {\n",
       "        text-align: right;\n",
       "    }\n",
       "</style>\n",
       "<table border=\"1\" class=\"dataframe\">\n",
       "  <thead>\n",
       "    <tr style=\"text-align: right;\">\n",
       "      <th></th>\n",
       "      <th>Country</th>\n",
       "      <th>ConvertedCompYearly</th>\n",
       "    </tr>\n",
       "  </thead>\n",
       "  <tbody>\n",
       "    <tr>\n",
       "      <th>45</th>\n",
       "      <td>Brazil</td>\n",
       "      <td>60480.0</td>\n",
       "    </tr>\n",
       "    <tr>\n",
       "      <th>50</th>\n",
       "      <td>Greece</td>\n",
       "      <td>25944.0</td>\n",
       "    </tr>\n",
       "    <tr>\n",
       "      <th>58</th>\n",
       "      <td>Russian Federation</td>\n",
       "      <td>22644.0</td>\n",
       "    </tr>\n",
       "    <tr>\n",
       "      <th>64</th>\n",
       "      <td>United States of America</td>\n",
       "      <td>500000.0</td>\n",
       "    </tr>\n",
       "    <tr>\n",
       "      <th>76</th>\n",
       "      <td>Poland</td>\n",
       "      <td>45564.0</td>\n",
       "    </tr>\n",
       "    <tr>\n",
       "      <th>...</th>\n",
       "      <td>...</td>\n",
       "      <td>...</td>\n",
       "    </tr>\n",
       "    <tr>\n",
       "      <th>83428</th>\n",
       "      <td>Brazil</td>\n",
       "      <td>41232.0</td>\n",
       "    </tr>\n",
       "    <tr>\n",
       "      <th>83431</th>\n",
       "      <td>Pakistan</td>\n",
       "      <td>11676.0</td>\n",
       "    </tr>\n",
       "    <tr>\n",
       "      <th>83432</th>\n",
       "      <td>Canada</td>\n",
       "      <td>80169.0</td>\n",
       "    </tr>\n",
       "    <tr>\n",
       "      <th>83436</th>\n",
       "      <td>United States of America</td>\n",
       "      <td>90000.0</td>\n",
       "    </tr>\n",
       "    <tr>\n",
       "      <th>83437</th>\n",
       "      <td>Canada</td>\n",
       "      <td>816816.0</td>\n",
       "    </tr>\n",
       "  </tbody>\n",
       "</table>\n",
       "<p>14517 rows × 2 columns</p>\n",
       "</div>"
      ],
      "text/plain": [
       "                        Country  ConvertedCompYearly\n",
       "45                       Brazil              60480.0\n",
       "50                       Greece              25944.0\n",
       "58           Russian Federation              22644.0\n",
       "64     United States of America             500000.0\n",
       "76                       Poland              45564.0\n",
       "...                         ...                  ...\n",
       "83428                    Brazil              41232.0\n",
       "83431                  Pakistan              11676.0\n",
       "83432                    Canada              80169.0\n",
       "83436  United States of America              90000.0\n",
       "83437                    Canada             816816.0\n",
       "\n",
       "[14517 rows x 2 columns]"
      ]
     },
     "execution_count": 1142,
     "metadata": {},
     "output_type": "execute_result"
    }
   ],
   "source": [
    "df_best_incomes_countries"
   ]
  },
  {
   "cell_type": "code",
   "execution_count": 1143,
   "metadata": {
    "scrolled": true
   },
   "outputs": [
    {
     "name": "stdout",
     "output_type": "stream",
     "text": [
      "                        Country  ConvertedCompYearly\n",
      "45                       Brazil              60480.0\n",
      "50                       Greece              25944.0\n",
      "58           Russian Federation              22644.0\n",
      "76                       Poland              45564.0\n",
      "77                       Canada             151263.0\n",
      "...                         ...                  ...\n",
      "83425                   Finland              19452.0\n",
      "83428                    Brazil              41232.0\n",
      "83431                  Pakistan              11676.0\n",
      "83432                    Canada              80169.0\n",
      "83436  United States of America              90000.0\n",
      "\n",
      "[11611 rows x 2 columns]\n"
     ]
    }
   ],
   "source": [
    "def remove_outliers(df, q=0.05):\n",
    "    upper = df.quantile(1-q)\n",
    "    lower = df.quantile(q)\n",
    "    mask = (df < upper) & (df > lower)\n",
    "    return mask\n",
    "\n",
    "mask = remove_outliers(df_best_incomes_countries['ConvertedCompYearly'], 0.1)\n",
    "\n",
    "print(df_best_incomes_countries[mask])"
   ]
  },
  {
   "cell_type": "code",
   "execution_count": 1145,
   "metadata": {},
   "outputs": [],
   "source": [
    "df_best_incomes_countries_no_outliers = df_best_incomes_countries[mask]"
   ]
  },
  {
   "cell_type": "code",
   "execution_count": 1146,
   "metadata": {},
   "outputs": [],
   "source": [
    "df_best_incomes_countries_no_outliers1 = df_best_incomes_countries_no_outliers.copy()"
   ]
  },
  {
   "cell_type": "code",
   "execution_count": 1148,
   "metadata": {},
   "outputs": [
    {
     "name": "stdout",
     "output_type": "stream",
     "text": [
      "                        Country  ConvertedCompYearly  \\\n",
      "45                       Brazil              60480.0   \n",
      "50                       Greece              25944.0   \n",
      "58           Russian Federation              22644.0   \n",
      "76                       Poland              45564.0   \n",
      "77                       Canada             151263.0   \n",
      "...                         ...                  ...   \n",
      "83425                   Finland              19452.0   \n",
      "83428                    Brazil              41232.0   \n",
      "83431                  Pakistan              11676.0   \n",
      "83432                    Canada              80169.0   \n",
      "83436  United States of America              90000.0   \n",
      "\n",
      "      ConvertedCompYearlyCategorical  \n",
      "45                             MEDIO  \n",
      "50                              BAJO  \n",
      "58                              BAJO  \n",
      "76                             MEDIO  \n",
      "77                              ALTO  \n",
      "...                              ...  \n",
      "83425                           BAJO  \n",
      "83428                          MEDIO  \n",
      "83431                           BAJO  \n",
      "83432                          MEDIO  \n",
      "83436                          MEDIO  \n",
      "\n",
      "[11611 rows x 3 columns]\n"
     ]
    }
   ],
   "source": [
    "df_best_incomes_countries_no_outliers1['ConvertedCompYearlyCategorical'] = 'ALTO'\n",
    "df_best_incomes_countries_no_outliers1.loc[(df_best_incomes_countries_no_outliers1['ConvertedCompYearly'] >= 0) & (df_best_incomes_countries_no_outliers1['ConvertedCompYearly'] <= 32747), 'ConvertedCompYearlyCategorical'] = 'BAJO'\n",
    "df_best_incomes_countries_no_outliers1.loc[(df_best_incomes_countries_no_outliers1['ConvertedCompYearly'] > 32747) & (df_best_incomes_countries_no_outliers1['ConvertedCompYearly'] <= 90000), 'ConvertedCompYearlyCategorical'] = 'MEDIO'\n",
    "\n",
    "print(df_best_incomes_countries_no_outliers1)"
   ]
  },
  {
   "cell_type": "code",
   "execution_count": 1149,
   "metadata": {},
   "outputs": [
    {
     "data": {
      "text/plain": [
       "MEDIO    5816\n",
       "BAJO     2903\n",
       "ALTO     2892\n",
       "Name: ConvertedCompYearlyCategorical, dtype: int64"
      ]
     },
     "execution_count": 1149,
     "metadata": {},
     "output_type": "execute_result"
    }
   ],
   "source": [
    "df_best_incomes_countries_no_outliers1['ConvertedCompYearlyCategorical'].value_counts()"
   ]
  },
  {
   "cell_type": "code",
   "execution_count": 1151,
   "metadata": {},
   "outputs": [],
   "source": [
    "df_best_incomes_countries_alto = df_best_incomes_countries_no_outliers1[df_best_incomes_countries_no_outliers1['ConvertedCompYearlyCategorical'] == 'ALTO']"
   ]
  },
  {
   "cell_type": "code",
   "execution_count": 1152,
   "metadata": {},
   "outputs": [],
   "source": [
    "df_alto = df_best_incomes_countries_alto[['Country', 'ConvertedCompYearlyCategorical']].copy()"
   ]
  },
  {
   "cell_type": "code",
   "execution_count": 1154,
   "metadata": {},
   "outputs": [],
   "source": [
    "df_flourish_015 = df_alto['Country'].value_counts().to_frame('counts').reset_index()"
   ]
  },
  {
   "cell_type": "code",
   "execution_count": 1156,
   "metadata": {},
   "outputs": [
    {
     "data": {
      "text/html": [
       "<div>\n",
       "<style scoped>\n",
       "    .dataframe tbody tr th:only-of-type {\n",
       "        vertical-align: middle;\n",
       "    }\n",
       "\n",
       "    .dataframe tbody tr th {\n",
       "        vertical-align: top;\n",
       "    }\n",
       "\n",
       "    .dataframe thead th {\n",
       "        text-align: right;\n",
       "    }\n",
       "</style>\n",
       "<table border=\"1\" class=\"dataframe\">\n",
       "  <thead>\n",
       "    <tr style=\"text-align: right;\">\n",
       "      <th></th>\n",
       "      <th>index</th>\n",
       "      <th>counts</th>\n",
       "    </tr>\n",
       "  </thead>\n",
       "  <tbody>\n",
       "    <tr>\n",
       "      <th>0</th>\n",
       "      <td>United States of America</td>\n",
       "      <td>1547</td>\n",
       "    </tr>\n",
       "    <tr>\n",
       "      <th>1</th>\n",
       "      <td>United Kingdom of Great Britain and Northern I...</td>\n",
       "      <td>244</td>\n",
       "    </tr>\n",
       "    <tr>\n",
       "      <th>2</th>\n",
       "      <td>Canada</td>\n",
       "      <td>166</td>\n",
       "    </tr>\n",
       "    <tr>\n",
       "      <th>3</th>\n",
       "      <td>Germany</td>\n",
       "      <td>107</td>\n",
       "    </tr>\n",
       "    <tr>\n",
       "      <th>4</th>\n",
       "      <td>Australia</td>\n",
       "      <td>106</td>\n",
       "    </tr>\n",
       "    <tr>\n",
       "      <th>5</th>\n",
       "      <td>Israel</td>\n",
       "      <td>82</td>\n",
       "    </tr>\n",
       "    <tr>\n",
       "      <th>6</th>\n",
       "      <td>Switzerland</td>\n",
       "      <td>81</td>\n",
       "    </tr>\n",
       "    <tr>\n",
       "      <th>7</th>\n",
       "      <td>Denmark</td>\n",
       "      <td>57</td>\n",
       "    </tr>\n",
       "    <tr>\n",
       "      <th>8</th>\n",
       "      <td>Netherlands</td>\n",
       "      <td>40</td>\n",
       "    </tr>\n",
       "    <tr>\n",
       "      <th>9</th>\n",
       "      <td>France</td>\n",
       "      <td>36</td>\n",
       "    </tr>\n",
       "  </tbody>\n",
       "</table>\n",
       "</div>"
      ],
      "text/plain": [
       "                                               index  counts\n",
       "0                           United States of America    1547\n",
       "1  United Kingdom of Great Britain and Northern I...     244\n",
       "2                                             Canada     166\n",
       "3                                            Germany     107\n",
       "4                                          Australia     106\n",
       "5                                             Israel      82\n",
       "6                                        Switzerland      81\n",
       "7                                            Denmark      57\n",
       "8                                        Netherlands      40\n",
       "9                                             France      36"
      ]
     },
     "execution_count": 1156,
     "metadata": {},
     "output_type": "execute_result"
    }
   ],
   "source": [
    "df_flourish_015.head(10)"
   ]
  },
  {
   "cell_type": "code",
   "execution_count": 1157,
   "metadata": {},
   "outputs": [],
   "source": [
    "df_flourish_015.head(10).to_csv('015_flourish_data.csv', index=False)"
   ]
  },
  {
   "cell_type": "markdown",
   "metadata": {},
   "source": [
    "### 2.16. ¿Cuáles son los 10 lenguajes de programación más usados entre los programadores?\n",
    "\n",
    "Se seleccionarán los campos adecuados para responder a esta pregunta"
   ]
  },
  {
   "cell_type": "code",
   "execution_count": 1161,
   "metadata": {},
   "outputs": [
    {
     "data": {
      "text/html": [
       "<div>\n",
       "<style scoped>\n",
       "    .dataframe tbody tr th:only-of-type {\n",
       "        vertical-align: middle;\n",
       "    }\n",
       "\n",
       "    .dataframe tbody tr th {\n",
       "        vertical-align: top;\n",
       "    }\n",
       "\n",
       "    .dataframe thead th {\n",
       "        text-align: right;\n",
       "    }\n",
       "</style>\n",
       "<table border=\"1\" class=\"dataframe\">\n",
       "  <thead>\n",
       "    <tr style=\"text-align: right;\">\n",
       "      <th></th>\n",
       "      <th>LanguageHaveWorkedWith</th>\n",
       "    </tr>\n",
       "  </thead>\n",
       "  <tbody>\n",
       "    <tr>\n",
       "      <th>45</th>\n",
       "      <td>C#;C++;JavaScript;PowerShell;SQL;TypeScript</td>\n",
       "    </tr>\n",
       "    <tr>\n",
       "      <th>50</th>\n",
       "      <td>C#;HTML/CSS;JavaScript;Node.js;PowerShell;Type...</td>\n",
       "    </tr>\n",
       "    <tr>\n",
       "      <th>58</th>\n",
       "      <td>Bash/Shell;HTML/CSS;JavaScript;Python;SQL</td>\n",
       "    </tr>\n",
       "    <tr>\n",
       "      <th>64</th>\n",
       "      <td>HTML/CSS;JavaScript;Python</td>\n",
       "    </tr>\n",
       "    <tr>\n",
       "      <th>76</th>\n",
       "      <td>Bash/Shell;C#;Dart;Delphi;Go;HTML/CSS;Java;Jav...</td>\n",
       "    </tr>\n",
       "  </tbody>\n",
       "</table>\n",
       "</div>"
      ],
      "text/plain": [
       "                               LanguageHaveWorkedWith\n",
       "45        C#;C++;JavaScript;PowerShell;SQL;TypeScript\n",
       "50  C#;HTML/CSS;JavaScript;Node.js;PowerShell;Type...\n",
       "58          Bash/Shell;HTML/CSS;JavaScript;Python;SQL\n",
       "64                         HTML/CSS;JavaScript;Python\n",
       "76  Bash/Shell;C#;Dart;Delphi;Go;HTML/CSS;Java;Jav..."
      ]
     },
     "execution_count": 1161,
     "metadata": {},
     "output_type": "execute_result"
    }
   ],
   "source": [
    "df_10_prog_languages_devs = data_test[['LanguageHaveWorkedWith']].copy()\n",
    "df_10_prog_languages_devs.head()"
   ]
  },
  {
   "cell_type": "code",
   "execution_count": 1162,
   "metadata": {},
   "outputs": [],
   "source": [
    "df_10_prog_languages_devs['LanguageHaveWorkedWith'] = df_10_prog_languages_devs['LanguageHaveWorkedWith'].str.replace(';', ' ')"
   ]
  },
  {
   "cell_type": "code",
   "execution_count": 1163,
   "metadata": {},
   "outputs": [],
   "source": [
    "df_counts_016 = df_10_prog_languages_devs['LanguageHaveWorkedWith'].str.split(expand=True).stack().value_counts().rename_axis('Languages').reset_index(name='Count')"
   ]
  },
  {
   "cell_type": "code",
   "execution_count": 1164,
   "metadata": {},
   "outputs": [
    {
     "data": {
      "text/html": [
       "<div>\n",
       "<style scoped>\n",
       "    .dataframe tbody tr th:only-of-type {\n",
       "        vertical-align: middle;\n",
       "    }\n",
       "\n",
       "    .dataframe tbody tr th {\n",
       "        vertical-align: top;\n",
       "    }\n",
       "\n",
       "    .dataframe thead th {\n",
       "        text-align: right;\n",
       "    }\n",
       "</style>\n",
       "<table border=\"1\" class=\"dataframe\">\n",
       "  <thead>\n",
       "    <tr style=\"text-align: right;\">\n",
       "      <th></th>\n",
       "      <th>Languages</th>\n",
       "      <th>Count</th>\n",
       "    </tr>\n",
       "  </thead>\n",
       "  <tbody>\n",
       "    <tr>\n",
       "      <th>0</th>\n",
       "      <td>JavaScript</td>\n",
       "      <td>11779</td>\n",
       "    </tr>\n",
       "    <tr>\n",
       "      <th>1</th>\n",
       "      <td>HTML/CSS</td>\n",
       "      <td>9714</td>\n",
       "    </tr>\n",
       "    <tr>\n",
       "      <th>2</th>\n",
       "      <td>SQL</td>\n",
       "      <td>9294</td>\n",
       "    </tr>\n",
       "    <tr>\n",
       "      <th>3</th>\n",
       "      <td>C#</td>\n",
       "      <td>7318</td>\n",
       "    </tr>\n",
       "    <tr>\n",
       "      <th>4</th>\n",
       "      <td>TypeScript</td>\n",
       "      <td>7261</td>\n",
       "    </tr>\n",
       "    <tr>\n",
       "      <th>5</th>\n",
       "      <td>Python</td>\n",
       "      <td>7225</td>\n",
       "    </tr>\n",
       "    <tr>\n",
       "      <th>6</th>\n",
       "      <td>Node.js</td>\n",
       "      <td>7066</td>\n",
       "    </tr>\n",
       "    <tr>\n",
       "      <th>7</th>\n",
       "      <td>Java</td>\n",
       "      <td>4855</td>\n",
       "    </tr>\n",
       "    <tr>\n",
       "      <th>8</th>\n",
       "      <td>Bash/Shell</td>\n",
       "      <td>4574</td>\n",
       "    </tr>\n",
       "    <tr>\n",
       "      <th>9</th>\n",
       "      <td>PHP</td>\n",
       "      <td>3524</td>\n",
       "    </tr>\n",
       "  </tbody>\n",
       "</table>\n",
       "</div>"
      ],
      "text/plain": [
       "    Languages  Count\n",
       "0  JavaScript  11779\n",
       "1    HTML/CSS   9714\n",
       "2         SQL   9294\n",
       "3          C#   7318\n",
       "4  TypeScript   7261\n",
       "5      Python   7225\n",
       "6     Node.js   7066\n",
       "7        Java   4855\n",
       "8  Bash/Shell   4574\n",
       "9         PHP   3524"
      ]
     },
     "execution_count": 1164,
     "metadata": {},
     "output_type": "execute_result"
    }
   ],
   "source": [
    "df_counts_016.head(10)"
   ]
  },
  {
   "cell_type": "code",
   "execution_count": 1165,
   "metadata": {},
   "outputs": [],
   "source": [
    "df_counts_016.head(10).to_csv('016_flourish_data.csv', index=False)"
   ]
  },
  {
   "cell_type": "markdown",
   "metadata": {},
   "source": [
    "### 2.17. ¿Cuáles son las bases de datos más usadas entre los programadores?\n",
    "\n",
    "Se seleccionarán los campos adecuados para responder a esta pregunta"
   ]
  },
  {
   "cell_type": "code",
   "execution_count": 1171,
   "metadata": {
    "scrolled": true
   },
   "outputs": [
    {
     "data": {
      "text/html": [
       "<div>\n",
       "<style scoped>\n",
       "    .dataframe tbody tr th:only-of-type {\n",
       "        vertical-align: middle;\n",
       "    }\n",
       "\n",
       "    .dataframe tbody tr th {\n",
       "        vertical-align: top;\n",
       "    }\n",
       "\n",
       "    .dataframe thead th {\n",
       "        text-align: right;\n",
       "    }\n",
       "</style>\n",
       "<table border=\"1\" class=\"dataframe\">\n",
       "  <thead>\n",
       "    <tr style=\"text-align: right;\">\n",
       "      <th></th>\n",
       "      <th>DatabaseHaveWorkedWith</th>\n",
       "    </tr>\n",
       "  </thead>\n",
       "  <tbody>\n",
       "    <tr>\n",
       "      <th>45</th>\n",
       "      <td>Microsoft SQL Server;PostgreSQL;Redis</td>\n",
       "    </tr>\n",
       "    <tr>\n",
       "      <th>50</th>\n",
       "      <td>Couchbase;MariaDB;Microsoft SQL Server;MongoDB...</td>\n",
       "    </tr>\n",
       "    <tr>\n",
       "      <th>58</th>\n",
       "      <td>Oracle</td>\n",
       "    </tr>\n",
       "    <tr>\n",
       "      <th>64</th>\n",
       "      <td>MySQL</td>\n",
       "    </tr>\n",
       "    <tr>\n",
       "      <th>76</th>\n",
       "      <td>Firebase;Microsoft SQL Server;MongoDB;MySQL;Po...</td>\n",
       "    </tr>\n",
       "  </tbody>\n",
       "</table>\n",
       "</div>"
      ],
      "text/plain": [
       "                               DatabaseHaveWorkedWith\n",
       "45              Microsoft SQL Server;PostgreSQL;Redis\n",
       "50  Couchbase;MariaDB;Microsoft SQL Server;MongoDB...\n",
       "58                                             Oracle\n",
       "64                                              MySQL\n",
       "76  Firebase;Microsoft SQL Server;MongoDB;MySQL;Po..."
      ]
     },
     "execution_count": 1171,
     "metadata": {},
     "output_type": "execute_result"
    }
   ],
   "source": [
    "df_10_databases = data_test[['DatabaseHaveWorkedWith']].copy()\n",
    "df_10_databases.head()"
   ]
  },
  {
   "cell_type": "code",
   "execution_count": 1172,
   "metadata": {},
   "outputs": [],
   "source": [
    "df_10_databases['DatabaseHaveWorkedWith'] = df_10_databases['DatabaseHaveWorkedWith'].str.replace(' ', '')"
   ]
  },
  {
   "cell_type": "code",
   "execution_count": 1173,
   "metadata": {},
   "outputs": [],
   "source": [
    "df_10_databases['DatabaseHaveWorkedWith'] = df_10_databases['DatabaseHaveWorkedWith'].str.replace(';', ' ')"
   ]
  },
  {
   "cell_type": "code",
   "execution_count": 1174,
   "metadata": {},
   "outputs": [],
   "source": [
    "df_counts_017 = df_10_databases['DatabaseHaveWorkedWith'].str.split(expand=True).stack().value_counts().rename_axis('Databases').reset_index(name='Count')"
   ]
  },
  {
   "cell_type": "code",
   "execution_count": 1175,
   "metadata": {},
   "outputs": [
    {
     "data": {
      "text/html": [
       "<div>\n",
       "<style scoped>\n",
       "    .dataframe tbody tr th:only-of-type {\n",
       "        vertical-align: middle;\n",
       "    }\n",
       "\n",
       "    .dataframe tbody tr th {\n",
       "        vertical-align: top;\n",
       "    }\n",
       "\n",
       "    .dataframe thead th {\n",
       "        text-align: right;\n",
       "    }\n",
       "</style>\n",
       "<table border=\"1\" class=\"dataframe\">\n",
       "  <thead>\n",
       "    <tr style=\"text-align: right;\">\n",
       "      <th></th>\n",
       "      <th>Databases</th>\n",
       "      <th>Count</th>\n",
       "    </tr>\n",
       "  </thead>\n",
       "  <tbody>\n",
       "    <tr>\n",
       "      <th>0</th>\n",
       "      <td>PostgreSQL</td>\n",
       "      <td>7163</td>\n",
       "    </tr>\n",
       "    <tr>\n",
       "      <th>1</th>\n",
       "      <td>MySQL</td>\n",
       "      <td>7150</td>\n",
       "    </tr>\n",
       "    <tr>\n",
       "      <th>2</th>\n",
       "      <td>MicrosoftSQLServer</td>\n",
       "      <td>6553</td>\n",
       "    </tr>\n",
       "    <tr>\n",
       "      <th>3</th>\n",
       "      <td>SQLite</td>\n",
       "      <td>5442</td>\n",
       "    </tr>\n",
       "    <tr>\n",
       "      <th>4</th>\n",
       "      <td>MongoDB</td>\n",
       "      <td>5107</td>\n",
       "    </tr>\n",
       "    <tr>\n",
       "      <th>5</th>\n",
       "      <td>Redis</td>\n",
       "      <td>4507</td>\n",
       "    </tr>\n",
       "    <tr>\n",
       "      <th>6</th>\n",
       "      <td>Firebase</td>\n",
       "      <td>3032</td>\n",
       "    </tr>\n",
       "    <tr>\n",
       "      <th>7</th>\n",
       "      <td>Elasticsearch</td>\n",
       "      <td>2890</td>\n",
       "    </tr>\n",
       "    <tr>\n",
       "      <th>8</th>\n",
       "      <td>MariaDB</td>\n",
       "      <td>2704</td>\n",
       "    </tr>\n",
       "    <tr>\n",
       "      <th>9</th>\n",
       "      <td>Oracle</td>\n",
       "      <td>1921</td>\n",
       "    </tr>\n",
       "  </tbody>\n",
       "</table>\n",
       "</div>"
      ],
      "text/plain": [
       "            Databases  Count\n",
       "0          PostgreSQL   7163\n",
       "1               MySQL   7150\n",
       "2  MicrosoftSQLServer   6553\n",
       "3              SQLite   5442\n",
       "4             MongoDB   5107\n",
       "5               Redis   4507\n",
       "6            Firebase   3032\n",
       "7       Elasticsearch   2890\n",
       "8             MariaDB   2704\n",
       "9              Oracle   1921"
      ]
     },
     "execution_count": 1175,
     "metadata": {},
     "output_type": "execute_result"
    }
   ],
   "source": [
    "df_counts_017.head(10)"
   ]
  },
  {
   "cell_type": "code",
   "execution_count": 1176,
   "metadata": {},
   "outputs": [],
   "source": [
    "df_counts_017.head(10).to_csv('017_flourish_data.csv', index=False)"
   ]
  },
  {
   "cell_type": "markdown",
   "metadata": {},
   "source": [
    "### 2.18. ¿Cuáles son las plataformas más usadas entre los programadores?\n",
    "\n",
    "Se seleccionarán los campos adecuados para responder a esta pregunta"
   ]
  },
  {
   "cell_type": "code",
   "execution_count": 1177,
   "metadata": {
    "scrolled": true
   },
   "outputs": [
    {
     "data": {
      "text/html": [
       "<div>\n",
       "<style scoped>\n",
       "    .dataframe tbody tr th:only-of-type {\n",
       "        vertical-align: middle;\n",
       "    }\n",
       "\n",
       "    .dataframe tbody tr th {\n",
       "        vertical-align: top;\n",
       "    }\n",
       "\n",
       "    .dataframe thead th {\n",
       "        text-align: right;\n",
       "    }\n",
       "</style>\n",
       "<table border=\"1\" class=\"dataframe\">\n",
       "  <thead>\n",
       "    <tr style=\"text-align: right;\">\n",
       "      <th></th>\n",
       "      <th>PlatformHaveWorkedWith</th>\n",
       "    </tr>\n",
       "  </thead>\n",
       "  <tbody>\n",
       "    <tr>\n",
       "      <th>45</th>\n",
       "      <td>Heroku;Microsoft Azure</td>\n",
       "    </tr>\n",
       "    <tr>\n",
       "      <th>50</th>\n",
       "      <td>AWS;DigitalOcean;Microsoft Azure</td>\n",
       "    </tr>\n",
       "    <tr>\n",
       "      <th>58</th>\n",
       "      <td>Heroku</td>\n",
       "    </tr>\n",
       "    <tr>\n",
       "      <th>64</th>\n",
       "      <td>AWS</td>\n",
       "    </tr>\n",
       "    <tr>\n",
       "      <th>76</th>\n",
       "      <td>Google Cloud Platform;Microsoft Azure</td>\n",
       "    </tr>\n",
       "  </tbody>\n",
       "</table>\n",
       "</div>"
      ],
      "text/plain": [
       "                   PlatformHaveWorkedWith\n",
       "45                 Heroku;Microsoft Azure\n",
       "50       AWS;DigitalOcean;Microsoft Azure\n",
       "58                                 Heroku\n",
       "64                                    AWS\n",
       "76  Google Cloud Platform;Microsoft Azure"
      ]
     },
     "execution_count": 1177,
     "metadata": {},
     "output_type": "execute_result"
    }
   ],
   "source": [
    "df_10_platforms = data_test[['PlatformHaveWorkedWith']].copy()\n",
    "df_10_platforms.head()"
   ]
  },
  {
   "cell_type": "code",
   "execution_count": 1178,
   "metadata": {},
   "outputs": [],
   "source": [
    "df_10_platforms['PlatformHaveWorkedWith'] = df_10_platforms['PlatformHaveWorkedWith'].str.replace(' ', '')"
   ]
  },
  {
   "cell_type": "code",
   "execution_count": 1179,
   "metadata": {},
   "outputs": [],
   "source": [
    "df_10_platforms['PlatformHaveWorkedWith'] = df_10_platforms['PlatformHaveWorkedWith'].str.replace(';', ' ')"
   ]
  },
  {
   "cell_type": "code",
   "execution_count": 1181,
   "metadata": {},
   "outputs": [],
   "source": [
    "df_counts_018 = df_10_platforms['PlatformHaveWorkedWith'].str.split(expand=True).stack().value_counts().rename_axis('Platform').reset_index(name='Count')"
   ]
  },
  {
   "cell_type": "code",
   "execution_count": 1182,
   "metadata": {},
   "outputs": [
    {
     "data": {
      "text/html": [
       "<div>\n",
       "<style scoped>\n",
       "    .dataframe tbody tr th:only-of-type {\n",
       "        vertical-align: middle;\n",
       "    }\n",
       "\n",
       "    .dataframe tbody tr th {\n",
       "        vertical-align: top;\n",
       "    }\n",
       "\n",
       "    .dataframe thead th {\n",
       "        text-align: right;\n",
       "    }\n",
       "</style>\n",
       "<table border=\"1\" class=\"dataframe\">\n",
       "  <thead>\n",
       "    <tr style=\"text-align: right;\">\n",
       "      <th></th>\n",
       "      <th>Platform</th>\n",
       "      <th>Count</th>\n",
       "    </tr>\n",
       "  </thead>\n",
       "  <tbody>\n",
       "    <tr>\n",
       "      <th>0</th>\n",
       "      <td>AWS</td>\n",
       "      <td>8348</td>\n",
       "    </tr>\n",
       "    <tr>\n",
       "      <th>1</th>\n",
       "      <td>MicrosoftAzure</td>\n",
       "      <td>6738</td>\n",
       "    </tr>\n",
       "    <tr>\n",
       "      <th>2</th>\n",
       "      <td>GoogleCloudPlatform</td>\n",
       "      <td>4710</td>\n",
       "    </tr>\n",
       "    <tr>\n",
       "      <th>3</th>\n",
       "      <td>Heroku</td>\n",
       "      <td>3182</td>\n",
       "    </tr>\n",
       "    <tr>\n",
       "      <th>4</th>\n",
       "      <td>DigitalOcean</td>\n",
       "      <td>2829</td>\n",
       "    </tr>\n",
       "    <tr>\n",
       "      <th>5</th>\n",
       "      <td>IBMCloudorWatson</td>\n",
       "      <td>350</td>\n",
       "    </tr>\n",
       "    <tr>\n",
       "      <th>6</th>\n",
       "      <td>OracleCloudInfrastructure</td>\n",
       "      <td>212</td>\n",
       "    </tr>\n",
       "  </tbody>\n",
       "</table>\n",
       "</div>"
      ],
      "text/plain": [
       "                    Platform  Count\n",
       "0                        AWS   8348\n",
       "1             MicrosoftAzure   6738\n",
       "2        GoogleCloudPlatform   4710\n",
       "3                     Heroku   3182\n",
       "4               DigitalOcean   2829\n",
       "5           IBMCloudorWatson    350\n",
       "6  OracleCloudInfrastructure    212"
      ]
     },
     "execution_count": 1182,
     "metadata": {},
     "output_type": "execute_result"
    }
   ],
   "source": [
    "df_counts_018.head(10)"
   ]
  },
  {
   "cell_type": "code",
   "execution_count": 1183,
   "metadata": {},
   "outputs": [],
   "source": [
    "df_counts_018.to_csv('018_flourish_data.csv', index=False)"
   ]
  },
  {
   "cell_type": "markdown",
   "metadata": {},
   "source": [
    "### 2.19. ¿Cuáles son los frameworks web más usados entre los programadores?\n",
    "\n",
    "Se seleccionarán los campos adecuados para responder a esta pregunta"
   ]
  },
  {
   "cell_type": "code",
   "execution_count": 1185,
   "metadata": {
    "scrolled": true
   },
   "outputs": [
    {
     "data": {
      "text/html": [
       "<div>\n",
       "<style scoped>\n",
       "    .dataframe tbody tr th:only-of-type {\n",
       "        vertical-align: middle;\n",
       "    }\n",
       "\n",
       "    .dataframe tbody tr th {\n",
       "        vertical-align: top;\n",
       "    }\n",
       "\n",
       "    .dataframe thead th {\n",
       "        text-align: right;\n",
       "    }\n",
       "</style>\n",
       "<table border=\"1\" class=\"dataframe\">\n",
       "  <thead>\n",
       "    <tr style=\"text-align: right;\">\n",
       "      <th></th>\n",
       "      <th>WebframeHaveWorkedWith</th>\n",
       "    </tr>\n",
       "  </thead>\n",
       "  <tbody>\n",
       "    <tr>\n",
       "      <th>45</th>\n",
       "      <td>ASP.NET Core ;React.js</td>\n",
       "    </tr>\n",
       "    <tr>\n",
       "      <th>50</th>\n",
       "      <td>Angular;ASP.NET;ASP.NET Core ;Express;Svelte</td>\n",
       "    </tr>\n",
       "    <tr>\n",
       "      <th>58</th>\n",
       "      <td>Django;FastAPI;Vue.js</td>\n",
       "    </tr>\n",
       "    <tr>\n",
       "      <th>64</th>\n",
       "      <td>Flask</td>\n",
       "    </tr>\n",
       "    <tr>\n",
       "      <th>76</th>\n",
       "      <td>Angular;Angular.js;ASP.NET;ASP.NET Core ;Djang...</td>\n",
       "    </tr>\n",
       "  </tbody>\n",
       "</table>\n",
       "</div>"
      ],
      "text/plain": [
       "                               WebframeHaveWorkedWith\n",
       "45                             ASP.NET Core ;React.js\n",
       "50       Angular;ASP.NET;ASP.NET Core ;Express;Svelte\n",
       "58                              Django;FastAPI;Vue.js\n",
       "64                                              Flask\n",
       "76  Angular;Angular.js;ASP.NET;ASP.NET Core ;Djang..."
      ]
     },
     "execution_count": 1185,
     "metadata": {},
     "output_type": "execute_result"
    }
   ],
   "source": [
    "df_10_web_frameworks = data_test[['WebframeHaveWorkedWith']].copy()\n",
    "df_10_web_frameworks.head()"
   ]
  },
  {
   "cell_type": "code",
   "execution_count": 1186,
   "metadata": {},
   "outputs": [],
   "source": [
    "df_10_web_frameworks['WebframeHaveWorkedWith'] = df_10_web_frameworks['WebframeHaveWorkedWith'].str.replace(' ', '')"
   ]
  },
  {
   "cell_type": "code",
   "execution_count": 1187,
   "metadata": {},
   "outputs": [],
   "source": [
    "df_10_web_frameworks['WebframeHaveWorkedWith'] = df_10_web_frameworks['WebframeHaveWorkedWith'].str.replace(';', ' ')"
   ]
  },
  {
   "cell_type": "code",
   "execution_count": 1188,
   "metadata": {},
   "outputs": [],
   "source": [
    "df_counts_019 = df_10_web_frameworks['WebframeHaveWorkedWith'].str.split(expand=True).stack().value_counts().rename_axis('Web framework').reset_index(name='Count')"
   ]
  },
  {
   "cell_type": "code",
   "execution_count": 1189,
   "metadata": {},
   "outputs": [
    {
     "data": {
      "text/html": [
       "<div>\n",
       "<style scoped>\n",
       "    .dataframe tbody tr th:only-of-type {\n",
       "        vertical-align: middle;\n",
       "    }\n",
       "\n",
       "    .dataframe tbody tr th {\n",
       "        vertical-align: top;\n",
       "    }\n",
       "\n",
       "    .dataframe thead th {\n",
       "        text-align: right;\n",
       "    }\n",
       "</style>\n",
       "<table border=\"1\" class=\"dataframe\">\n",
       "  <thead>\n",
       "    <tr style=\"text-align: right;\">\n",
       "      <th></th>\n",
       "      <th>Web framework</th>\n",
       "      <th>Count</th>\n",
       "    </tr>\n",
       "  </thead>\n",
       "  <tbody>\n",
       "    <tr>\n",
       "      <th>0</th>\n",
       "      <td>React.js</td>\n",
       "      <td>6745</td>\n",
       "    </tr>\n",
       "    <tr>\n",
       "      <th>1</th>\n",
       "      <td>jQuery</td>\n",
       "      <td>5391</td>\n",
       "    </tr>\n",
       "    <tr>\n",
       "      <th>2</th>\n",
       "      <td>ASP.NETCore</td>\n",
       "      <td>5304</td>\n",
       "    </tr>\n",
       "    <tr>\n",
       "      <th>3</th>\n",
       "      <td>Angular</td>\n",
       "      <td>4506</td>\n",
       "    </tr>\n",
       "    <tr>\n",
       "      <th>4</th>\n",
       "      <td>ASP.NET</td>\n",
       "      <td>4169</td>\n",
       "    </tr>\n",
       "    <tr>\n",
       "      <th>5</th>\n",
       "      <td>Express</td>\n",
       "      <td>4048</td>\n",
       "    </tr>\n",
       "    <tr>\n",
       "      <th>6</th>\n",
       "      <td>Vue.js</td>\n",
       "      <td>3141</td>\n",
       "    </tr>\n",
       "    <tr>\n",
       "      <th>7</th>\n",
       "      <td>Flask</td>\n",
       "      <td>2873</td>\n",
       "    </tr>\n",
       "    <tr>\n",
       "      <th>8</th>\n",
       "      <td>Angular.js</td>\n",
       "      <td>2349</td>\n",
       "    </tr>\n",
       "    <tr>\n",
       "      <th>9</th>\n",
       "      <td>Django</td>\n",
       "      <td>2273</td>\n",
       "    </tr>\n",
       "  </tbody>\n",
       "</table>\n",
       "</div>"
      ],
      "text/plain": [
       "  Web framework  Count\n",
       "0      React.js   6745\n",
       "1        jQuery   5391\n",
       "2   ASP.NETCore   5304\n",
       "3       Angular   4506\n",
       "4       ASP.NET   4169\n",
       "5       Express   4048\n",
       "6        Vue.js   3141\n",
       "7         Flask   2873\n",
       "8    Angular.js   2349\n",
       "9        Django   2273"
      ]
     },
     "execution_count": 1189,
     "metadata": {},
     "output_type": "execute_result"
    }
   ],
   "source": [
    "df_counts_019.head(10)"
   ]
  },
  {
   "cell_type": "code",
   "execution_count": 1190,
   "metadata": {},
   "outputs": [],
   "source": [
    "df_counts_019.to_csv('019_flourish_data.csv', index=False)"
   ]
  },
  {
   "cell_type": "markdown",
   "metadata": {},
   "source": [
    "### 2.20. ¿Cuáles son las herramientas tecnológicas más usadas entre los programadores?\n",
    "\n",
    "Se seleccionarán los campos adecuados para responder a esta pregunta"
   ]
  },
  {
   "cell_type": "code",
   "execution_count": 1192,
   "metadata": {
    "scrolled": true
   },
   "outputs": [
    {
     "data": {
      "text/html": [
       "<div>\n",
       "<style scoped>\n",
       "    .dataframe tbody tr th:only-of-type {\n",
       "        vertical-align: middle;\n",
       "    }\n",
       "\n",
       "    .dataframe tbody tr th {\n",
       "        vertical-align: top;\n",
       "    }\n",
       "\n",
       "    .dataframe thead th {\n",
       "        text-align: right;\n",
       "    }\n",
       "</style>\n",
       "<table border=\"1\" class=\"dataframe\">\n",
       "  <thead>\n",
       "    <tr style=\"text-align: right;\">\n",
       "      <th></th>\n",
       "      <th>MiscTechHaveWorkedWith</th>\n",
       "      <th>ToolsTechHaveWorkedWith</th>\n",
       "    </tr>\n",
       "  </thead>\n",
       "  <tbody>\n",
       "    <tr>\n",
       "      <th>45</th>\n",
       "      <td>.NET Core / .NET 5</td>\n",
       "      <td>Docker;Git;Kubernetes</td>\n",
       "    </tr>\n",
       "    <tr>\n",
       "      <th>50</th>\n",
       "      <td>.NET Framework;.NET Core / .NET 5</td>\n",
       "      <td>Docker;Kubernetes</td>\n",
       "    </tr>\n",
       "    <tr>\n",
       "      <th>58</th>\n",
       "      <td>NumPy;Pandas;Torch/PyTorch</td>\n",
       "      <td>Docker;Git</td>\n",
       "    </tr>\n",
       "    <tr>\n",
       "      <th>64</th>\n",
       "      <td>Pandas</td>\n",
       "      <td>Git</td>\n",
       "    </tr>\n",
       "    <tr>\n",
       "      <th>76</th>\n",
       "      <td>.NET Framework;.NET Core / .NET 5;Apache Spark...</td>\n",
       "      <td>Docker;Git;Unity 3D</td>\n",
       "    </tr>\n",
       "  </tbody>\n",
       "</table>\n",
       "</div>"
      ],
      "text/plain": [
       "                               MiscTechHaveWorkedWith ToolsTechHaveWorkedWith\n",
       "45                                 .NET Core / .NET 5   Docker;Git;Kubernetes\n",
       "50                  .NET Framework;.NET Core / .NET 5       Docker;Kubernetes\n",
       "58                         NumPy;Pandas;Torch/PyTorch              Docker;Git\n",
       "64                                             Pandas                     Git\n",
       "76  .NET Framework;.NET Core / .NET 5;Apache Spark...     Docker;Git;Unity 3D"
      ]
     },
     "execution_count": 1192,
     "metadata": {},
     "output_type": "execute_result"
    }
   ],
   "source": [
    "df_10_data_misc_techs = data_test[['MiscTechHaveWorkedWith', 'ToolsTechHaveWorkedWith']].copy()\n",
    "df_10_data_misc_techs.head()"
   ]
  },
  {
   "cell_type": "code",
   "execution_count": 1193,
   "metadata": {},
   "outputs": [],
   "source": [
    "df_10_data_misc_techs['AllMiscTechs'] = df_10_data_misc_techs['MiscTechHaveWorkedWith'].map(str) + ';' + df_10_data_misc_techs['ToolsTechHaveWorkedWith'].map(str)"
   ]
  },
  {
   "cell_type": "code",
   "execution_count": 1194,
   "metadata": {},
   "outputs": [
    {
     "data": {
      "text/html": [
       "<div>\n",
       "<style scoped>\n",
       "    .dataframe tbody tr th:only-of-type {\n",
       "        vertical-align: middle;\n",
       "    }\n",
       "\n",
       "    .dataframe tbody tr th {\n",
       "        vertical-align: top;\n",
       "    }\n",
       "\n",
       "    .dataframe thead th {\n",
       "        text-align: right;\n",
       "    }\n",
       "</style>\n",
       "<table border=\"1\" class=\"dataframe\">\n",
       "  <thead>\n",
       "    <tr style=\"text-align: right;\">\n",
       "      <th></th>\n",
       "      <th>MiscTechHaveWorkedWith</th>\n",
       "      <th>ToolsTechHaveWorkedWith</th>\n",
       "      <th>AllMiscTechs</th>\n",
       "    </tr>\n",
       "  </thead>\n",
       "  <tbody>\n",
       "    <tr>\n",
       "      <th>45</th>\n",
       "      <td>.NET Core / .NET 5</td>\n",
       "      <td>Docker;Git;Kubernetes</td>\n",
       "      <td>.NET Core / .NET 5;Docker;Git;Kubernetes</td>\n",
       "    </tr>\n",
       "    <tr>\n",
       "      <th>50</th>\n",
       "      <td>.NET Framework;.NET Core / .NET 5</td>\n",
       "      <td>Docker;Kubernetes</td>\n",
       "      <td>.NET Framework;.NET Core / .NET 5;Docker;Kuber...</td>\n",
       "    </tr>\n",
       "    <tr>\n",
       "      <th>58</th>\n",
       "      <td>NumPy;Pandas;Torch/PyTorch</td>\n",
       "      <td>Docker;Git</td>\n",
       "      <td>NumPy;Pandas;Torch/PyTorch;Docker;Git</td>\n",
       "    </tr>\n",
       "    <tr>\n",
       "      <th>64</th>\n",
       "      <td>Pandas</td>\n",
       "      <td>Git</td>\n",
       "      <td>Pandas;Git</td>\n",
       "    </tr>\n",
       "    <tr>\n",
       "      <th>76</th>\n",
       "      <td>.NET Framework;.NET Core / .NET 5;Apache Spark...</td>\n",
       "      <td>Docker;Git;Unity 3D</td>\n",
       "      <td>.NET Framework;.NET Core / .NET 5;Apache Spark...</td>\n",
       "    </tr>\n",
       "  </tbody>\n",
       "</table>\n",
       "</div>"
      ],
      "text/plain": [
       "                               MiscTechHaveWorkedWith ToolsTechHaveWorkedWith  \\\n",
       "45                                 .NET Core / .NET 5   Docker;Git;Kubernetes   \n",
       "50                  .NET Framework;.NET Core / .NET 5       Docker;Kubernetes   \n",
       "58                         NumPy;Pandas;Torch/PyTorch              Docker;Git   \n",
       "64                                             Pandas                     Git   \n",
       "76  .NET Framework;.NET Core / .NET 5;Apache Spark...     Docker;Git;Unity 3D   \n",
       "\n",
       "                                         AllMiscTechs  \n",
       "45           .NET Core / .NET 5;Docker;Git;Kubernetes  \n",
       "50  .NET Framework;.NET Core / .NET 5;Docker;Kuber...  \n",
       "58              NumPy;Pandas;Torch/PyTorch;Docker;Git  \n",
       "64                                         Pandas;Git  \n",
       "76  .NET Framework;.NET Core / .NET 5;Apache Spark...  "
      ]
     },
     "execution_count": 1194,
     "metadata": {},
     "output_type": "execute_result"
    }
   ],
   "source": [
    "df_10_data_misc_techs.head()"
   ]
  },
  {
   "cell_type": "code",
   "execution_count": 1197,
   "metadata": {},
   "outputs": [],
   "source": [
    "df_10_data_misc_techs['AllMiscTechs'] = df_10_data_misc_techs['AllMiscTechs'].str.replace(' ', '')"
   ]
  },
  {
   "cell_type": "code",
   "execution_count": 1198,
   "metadata": {},
   "outputs": [],
   "source": [
    "df_10_data_misc_techs['AllMiscTechs'] = df_10_data_misc_techs['AllMiscTechs'].str.replace(';', ' ')"
   ]
  },
  {
   "cell_type": "code",
   "execution_count": 1200,
   "metadata": {},
   "outputs": [],
   "source": [
    "df_counts_020 = df_10_data_misc_techs['AllMiscTechs'].str.split(expand=True).stack().value_counts().rename_axis('Tecnología').reset_index(name='# Programadores')"
   ]
  },
  {
   "cell_type": "code",
   "execution_count": 1201,
   "metadata": {},
   "outputs": [
    {
     "data": {
      "text/html": [
       "<div>\n",
       "<style scoped>\n",
       "    .dataframe tbody tr th:only-of-type {\n",
       "        vertical-align: middle;\n",
       "    }\n",
       "\n",
       "    .dataframe tbody tr th {\n",
       "        vertical-align: top;\n",
       "    }\n",
       "\n",
       "    .dataframe thead th {\n",
       "        text-align: right;\n",
       "    }\n",
       "</style>\n",
       "<table border=\"1\" class=\"dataframe\">\n",
       "  <thead>\n",
       "    <tr style=\"text-align: right;\">\n",
       "      <th></th>\n",
       "      <th>Tecnología</th>\n",
       "      <th># Programadores</th>\n",
       "    </tr>\n",
       "  </thead>\n",
       "  <tbody>\n",
       "    <tr>\n",
       "      <th>0</th>\n",
       "      <td>Git</td>\n",
       "      <td>13828</td>\n",
       "    </tr>\n",
       "    <tr>\n",
       "      <th>1</th>\n",
       "      <td>Docker</td>\n",
       "      <td>9296</td>\n",
       "    </tr>\n",
       "    <tr>\n",
       "      <th>2</th>\n",
       "      <td>.NETCore/.NET5</td>\n",
       "      <td>6046</td>\n",
       "    </tr>\n",
       "    <tr>\n",
       "      <th>3</th>\n",
       "      <td>.NETFramework</td>\n",
       "      <td>5697</td>\n",
       "    </tr>\n",
       "    <tr>\n",
       "      <th>4</th>\n",
       "      <td>NumPy</td>\n",
       "      <td>3807</td>\n",
       "    </tr>\n",
       "    <tr>\n",
       "      <th>5</th>\n",
       "      <td>Kubernetes</td>\n",
       "      <td>3709</td>\n",
       "    </tr>\n",
       "    <tr>\n",
       "      <th>6</th>\n",
       "      <td>Pandas</td>\n",
       "      <td>3634</td>\n",
       "    </tr>\n",
       "    <tr>\n",
       "      <th>7</th>\n",
       "      <td>Yarn</td>\n",
       "      <td>3617</td>\n",
       "    </tr>\n",
       "    <tr>\n",
       "      <th>8</th>\n",
       "      <td>ReactNative</td>\n",
       "      <td>2960</td>\n",
       "    </tr>\n",
       "    <tr>\n",
       "      <th>9</th>\n",
       "      <td>TensorFlow</td>\n",
       "      <td>2068</td>\n",
       "    </tr>\n",
       "  </tbody>\n",
       "</table>\n",
       "</div>"
      ],
      "text/plain": [
       "       Tecnología  # Programadores\n",
       "0             Git            13828\n",
       "1          Docker             9296\n",
       "2  .NETCore/.NET5             6046\n",
       "3   .NETFramework             5697\n",
       "4           NumPy             3807\n",
       "5      Kubernetes             3709\n",
       "6          Pandas             3634\n",
       "7            Yarn             3617\n",
       "8     ReactNative             2960\n",
       "9      TensorFlow             2068"
      ]
     },
     "execution_count": 1201,
     "metadata": {},
     "output_type": "execute_result"
    }
   ],
   "source": [
    "df_counts_020.head(10)"
   ]
  },
  {
   "cell_type": "code",
   "execution_count": 1202,
   "metadata": {},
   "outputs": [],
   "source": [
    "df_counts_020.head(10).to_csv('020_flourish_data.csv', index=False)"
   ]
  },
  {
   "cell_type": "markdown",
   "metadata": {},
   "source": [
    "### 2.21. ¿Cuáles son las herramientas colaborativas más usadas entre programadores?\n",
    "\n",
    "Se seleccionarán los campos adecuados para responder a esta pregunta"
   ]
  },
  {
   "cell_type": "code",
   "execution_count": 1204,
   "metadata": {
    "scrolled": true
   },
   "outputs": [
    {
     "data": {
      "text/html": [
       "<div>\n",
       "<style scoped>\n",
       "    .dataframe tbody tr th:only-of-type {\n",
       "        vertical-align: middle;\n",
       "    }\n",
       "\n",
       "    .dataframe tbody tr th {\n",
       "        vertical-align: top;\n",
       "    }\n",
       "\n",
       "    .dataframe thead th {\n",
       "        text-align: right;\n",
       "    }\n",
       "</style>\n",
       "<table border=\"1\" class=\"dataframe\">\n",
       "  <thead>\n",
       "    <tr style=\"text-align: right;\">\n",
       "      <th></th>\n",
       "      <th>NEWCollabToolsHaveWorkedWith</th>\n",
       "    </tr>\n",
       "  </thead>\n",
       "  <tbody>\n",
       "    <tr>\n",
       "      <th>45</th>\n",
       "      <td>Notepad++;Visual Studio;Visual Studio Code</td>\n",
       "    </tr>\n",
       "    <tr>\n",
       "      <th>50</th>\n",
       "      <td>Notepad++;Visual Studio;Visual Studio Code</td>\n",
       "    </tr>\n",
       "    <tr>\n",
       "      <th>58</th>\n",
       "      <td>IPython/Jupyter;Visual Studio Code</td>\n",
       "    </tr>\n",
       "    <tr>\n",
       "      <th>64</th>\n",
       "      <td>Notepad++;PyCharm;Sublime Text</td>\n",
       "    </tr>\n",
       "    <tr>\n",
       "      <th>76</th>\n",
       "      <td>Android Studio;Eclipse;NetBeans;Notepad++;Visu...</td>\n",
       "    </tr>\n",
       "  </tbody>\n",
       "</table>\n",
       "</div>"
      ],
      "text/plain": [
       "                         NEWCollabToolsHaveWorkedWith\n",
       "45         Notepad++;Visual Studio;Visual Studio Code\n",
       "50         Notepad++;Visual Studio;Visual Studio Code\n",
       "58                 IPython/Jupyter;Visual Studio Code\n",
       "64                     Notepad++;PyCharm;Sublime Text\n",
       "76  Android Studio;Eclipse;NetBeans;Notepad++;Visu..."
      ]
     },
     "execution_count": 1204,
     "metadata": {},
     "output_type": "execute_result"
    }
   ],
   "source": [
    "df_10_colab = data_test[['NEWCollabToolsHaveWorkedWith']].copy()\n",
    "df_10_colab.head()"
   ]
  },
  {
   "cell_type": "code",
   "execution_count": 1205,
   "metadata": {},
   "outputs": [],
   "source": [
    "df_10_colab['NEWCollabToolsHaveWorkedWith'] = df_10_colab['NEWCollabToolsHaveWorkedWith'].str.replace(' ', '')"
   ]
  },
  {
   "cell_type": "code",
   "execution_count": 1206,
   "metadata": {},
   "outputs": [],
   "source": [
    "df_10_colab['NEWCollabToolsHaveWorkedWith'] = df_10_colab['NEWCollabToolsHaveWorkedWith'].str.replace(';', ' ')"
   ]
  },
  {
   "cell_type": "code",
   "execution_count": 1207,
   "metadata": {},
   "outputs": [],
   "source": [
    "df_counts_021 = df_10_colab['NEWCollabToolsHaveWorkedWith'].str.split(expand=True).stack().value_counts().rename_axis('Herramienta Colaborativa').reset_index(name='# Programadores')"
   ]
  },
  {
   "cell_type": "code",
   "execution_count": 1208,
   "metadata": {},
   "outputs": [
    {
     "data": {
      "text/html": [
       "<div>\n",
       "<style scoped>\n",
       "    .dataframe tbody tr th:only-of-type {\n",
       "        vertical-align: middle;\n",
       "    }\n",
       "\n",
       "    .dataframe tbody tr th {\n",
       "        vertical-align: top;\n",
       "    }\n",
       "\n",
       "    .dataframe thead th {\n",
       "        text-align: right;\n",
       "    }\n",
       "</style>\n",
       "<table border=\"1\" class=\"dataframe\">\n",
       "  <thead>\n",
       "    <tr style=\"text-align: right;\">\n",
       "      <th></th>\n",
       "      <th>Herramienta Colaborativa</th>\n",
       "      <th># Programadores</th>\n",
       "    </tr>\n",
       "  </thead>\n",
       "  <tbody>\n",
       "    <tr>\n",
       "      <th>0</th>\n",
       "      <td>VisualStudioCode</td>\n",
       "      <td>12030</td>\n",
       "    </tr>\n",
       "    <tr>\n",
       "      <th>1</th>\n",
       "      <td>VisualStudio</td>\n",
       "      <td>7183</td>\n",
       "    </tr>\n",
       "    <tr>\n",
       "      <th>2</th>\n",
       "      <td>Notepad++</td>\n",
       "      <td>4987</td>\n",
       "    </tr>\n",
       "    <tr>\n",
       "      <th>3</th>\n",
       "      <td>AndroidStudio</td>\n",
       "      <td>4291</td>\n",
       "    </tr>\n",
       "    <tr>\n",
       "      <th>4</th>\n",
       "      <td>IntelliJ</td>\n",
       "      <td>4242</td>\n",
       "    </tr>\n",
       "    <tr>\n",
       "      <th>5</th>\n",
       "      <td>Vim</td>\n",
       "      <td>3773</td>\n",
       "    </tr>\n",
       "    <tr>\n",
       "      <th>6</th>\n",
       "      <td>SublimeText</td>\n",
       "      <td>3080</td>\n",
       "    </tr>\n",
       "    <tr>\n",
       "      <th>7</th>\n",
       "      <td>PyCharm</td>\n",
       "      <td>3024</td>\n",
       "    </tr>\n",
       "    <tr>\n",
       "      <th>8</th>\n",
       "      <td>Xcode</td>\n",
       "      <td>2602</td>\n",
       "    </tr>\n",
       "    <tr>\n",
       "      <th>9</th>\n",
       "      <td>Eclipse</td>\n",
       "      <td>2176</td>\n",
       "    </tr>\n",
       "  </tbody>\n",
       "</table>\n",
       "</div>"
      ],
      "text/plain": [
       "  Herramienta Colaborativa  # Programadores\n",
       "0         VisualStudioCode            12030\n",
       "1             VisualStudio             7183\n",
       "2                Notepad++             4987\n",
       "3            AndroidStudio             4291\n",
       "4                 IntelliJ             4242\n",
       "5                      Vim             3773\n",
       "6              SublimeText             3080\n",
       "7                  PyCharm             3024\n",
       "8                    Xcode             2602\n",
       "9                  Eclipse             2176"
      ]
     },
     "execution_count": 1208,
     "metadata": {},
     "output_type": "execute_result"
    }
   ],
   "source": [
    "df_counts_021.head(10)"
   ]
  },
  {
   "cell_type": "code",
   "execution_count": 1209,
   "metadata": {},
   "outputs": [],
   "source": [
    "df_counts_021.head(10).to_csv('021_flourish_data.csv', index=False)"
   ]
  },
  {
   "cell_type": "markdown",
   "metadata": {},
   "source": [
    "### 2.22. ¿Cuáles son los países con mayor número de programadores trabajando a tiempo completo?\n",
    "\n",
    "Se seleccionarán los campos adecuados para responder a esta pregunta"
   ]
  },
  {
   "cell_type": "code",
   "execution_count": 1210,
   "metadata": {},
   "outputs": [
    {
     "data": {
      "text/html": [
       "<div>\n",
       "<style scoped>\n",
       "    .dataframe tbody tr th:only-of-type {\n",
       "        vertical-align: middle;\n",
       "    }\n",
       "\n",
       "    .dataframe tbody tr th {\n",
       "        vertical-align: top;\n",
       "    }\n",
       "\n",
       "    .dataframe thead th {\n",
       "        text-align: right;\n",
       "    }\n",
       "</style>\n",
       "<table border=\"1\" class=\"dataframe\">\n",
       "  <thead>\n",
       "    <tr style=\"text-align: right;\">\n",
       "      <th></th>\n",
       "      <th>Country</th>\n",
       "      <th>Employment</th>\n",
       "    </tr>\n",
       "  </thead>\n",
       "  <tbody>\n",
       "    <tr>\n",
       "      <th>45</th>\n",
       "      <td>Brazil</td>\n",
       "      <td>Tiempo completo</td>\n",
       "    </tr>\n",
       "    <tr>\n",
       "      <th>50</th>\n",
       "      <td>Greece</td>\n",
       "      <td>Tiempo completo</td>\n",
       "    </tr>\n",
       "    <tr>\n",
       "      <th>58</th>\n",
       "      <td>Russian Federation</td>\n",
       "      <td>Tiempo completo</td>\n",
       "    </tr>\n",
       "    <tr>\n",
       "      <th>64</th>\n",
       "      <td>United States of America</td>\n",
       "      <td>Independiete</td>\n",
       "    </tr>\n",
       "    <tr>\n",
       "      <th>76</th>\n",
       "      <td>Poland</td>\n",
       "      <td>Tiempo completo</td>\n",
       "    </tr>\n",
       "  </tbody>\n",
       "</table>\n",
       "</div>"
      ],
      "text/plain": [
       "                     Country       Employment\n",
       "45                    Brazil  Tiempo completo\n",
       "50                    Greece  Tiempo completo\n",
       "58        Russian Federation  Tiempo completo\n",
       "64  United States of America     Independiete\n",
       "76                    Poland  Tiempo completo"
      ]
     },
     "execution_count": 1210,
     "metadata": {},
     "output_type": "execute_result"
    }
   ],
   "source": [
    "df_fulltime_employment = data_test[['Country', 'Employment']].copy()\n",
    "df_fulltime_employment.head()"
   ]
  },
  {
   "cell_type": "code",
   "execution_count": 1213,
   "metadata": {},
   "outputs": [
    {
     "name": "stdout",
     "output_type": "stream",
     "text": [
      "<class 'pandas.core.frame.DataFrame'>\n",
      "Int64Index: 14517 entries, 45 to 83437\n",
      "Data columns (total 2 columns):\n",
      " #   Column      Non-Null Count  Dtype \n",
      "---  ------      --------------  ----- \n",
      " 0   Country     14517 non-null  object\n",
      " 1   Employment  14517 non-null  object\n",
      "dtypes: object(2)\n",
      "memory usage: 856.3+ KB\n"
     ]
    }
   ],
   "source": [
    "df_fulltime_employment.info()"
   ]
  },
  {
   "cell_type": "code",
   "execution_count": 1211,
   "metadata": {},
   "outputs": [],
   "source": [
    "df_fulltime_only = df_fulltime_employment[df_fulltime_employment['Employment'] == 'Tiempo completo']"
   ]
  },
  {
   "cell_type": "code",
   "execution_count": 1212,
   "metadata": {},
   "outputs": [
    {
     "data": {
      "text/html": [
       "<div>\n",
       "<style scoped>\n",
       "    .dataframe tbody tr th:only-of-type {\n",
       "        vertical-align: middle;\n",
       "    }\n",
       "\n",
       "    .dataframe tbody tr th {\n",
       "        vertical-align: top;\n",
       "    }\n",
       "\n",
       "    .dataframe thead th {\n",
       "        text-align: right;\n",
       "    }\n",
       "</style>\n",
       "<table border=\"1\" class=\"dataframe\">\n",
       "  <thead>\n",
       "    <tr style=\"text-align: right;\">\n",
       "      <th></th>\n",
       "      <th>Country</th>\n",
       "      <th>Employment</th>\n",
       "    </tr>\n",
       "  </thead>\n",
       "  <tbody>\n",
       "    <tr>\n",
       "      <th>45</th>\n",
       "      <td>Brazil</td>\n",
       "      <td>Tiempo completo</td>\n",
       "    </tr>\n",
       "    <tr>\n",
       "      <th>50</th>\n",
       "      <td>Greece</td>\n",
       "      <td>Tiempo completo</td>\n",
       "    </tr>\n",
       "    <tr>\n",
       "      <th>58</th>\n",
       "      <td>Russian Federation</td>\n",
       "      <td>Tiempo completo</td>\n",
       "    </tr>\n",
       "    <tr>\n",
       "      <th>76</th>\n",
       "      <td>Poland</td>\n",
       "      <td>Tiempo completo</td>\n",
       "    </tr>\n",
       "    <tr>\n",
       "      <th>77</th>\n",
       "      <td>Canada</td>\n",
       "      <td>Tiempo completo</td>\n",
       "    </tr>\n",
       "  </tbody>\n",
       "</table>\n",
       "</div>"
      ],
      "text/plain": [
       "               Country       Employment\n",
       "45              Brazil  Tiempo completo\n",
       "50              Greece  Tiempo completo\n",
       "58  Russian Federation  Tiempo completo\n",
       "76              Poland  Tiempo completo\n",
       "77              Canada  Tiempo completo"
      ]
     },
     "execution_count": 1212,
     "metadata": {},
     "output_type": "execute_result"
    }
   ],
   "source": [
    "df_fulltime_only.head()"
   ]
  },
  {
   "cell_type": "code",
   "execution_count": 1215,
   "metadata": {},
   "outputs": [],
   "source": [
    "df_flourish_022 = df_fulltime_only['Country'].value_counts().to_frame('# Programadores').reset_index()"
   ]
  },
  {
   "cell_type": "code",
   "execution_count": 1216,
   "metadata": {
    "scrolled": true
   },
   "outputs": [
    {
     "data": {
      "text/html": [
       "<div>\n",
       "<style scoped>\n",
       "    .dataframe tbody tr th:only-of-type {\n",
       "        vertical-align: middle;\n",
       "    }\n",
       "\n",
       "    .dataframe tbody tr th {\n",
       "        vertical-align: top;\n",
       "    }\n",
       "\n",
       "    .dataframe thead th {\n",
       "        text-align: right;\n",
       "    }\n",
       "</style>\n",
       "<table border=\"1\" class=\"dataframe\">\n",
       "  <thead>\n",
       "    <tr style=\"text-align: right;\">\n",
       "      <th></th>\n",
       "      <th>index</th>\n",
       "      <th># Programadores</th>\n",
       "    </tr>\n",
       "  </thead>\n",
       "  <tbody>\n",
       "    <tr>\n",
       "      <th>0</th>\n",
       "      <td>United States of America</td>\n",
       "      <td>2947</td>\n",
       "    </tr>\n",
       "    <tr>\n",
       "      <th>1</th>\n",
       "      <td>India</td>\n",
       "      <td>984</td>\n",
       "    </tr>\n",
       "    <tr>\n",
       "      <th>2</th>\n",
       "      <td>United Kingdom of Great Britain and Northern I...</td>\n",
       "      <td>859</td>\n",
       "    </tr>\n",
       "    <tr>\n",
       "      <th>3</th>\n",
       "      <td>Germany</td>\n",
       "      <td>611</td>\n",
       "    </tr>\n",
       "    <tr>\n",
       "      <th>4</th>\n",
       "      <td>Brazil</td>\n",
       "      <td>502</td>\n",
       "    </tr>\n",
       "    <tr>\n",
       "      <th>5</th>\n",
       "      <td>Canada</td>\n",
       "      <td>499</td>\n",
       "    </tr>\n",
       "    <tr>\n",
       "      <th>6</th>\n",
       "      <td>Australia</td>\n",
       "      <td>308</td>\n",
       "    </tr>\n",
       "    <tr>\n",
       "      <th>7</th>\n",
       "      <td>France</td>\n",
       "      <td>303</td>\n",
       "    </tr>\n",
       "    <tr>\n",
       "      <th>8</th>\n",
       "      <td>Spain</td>\n",
       "      <td>279</td>\n",
       "    </tr>\n",
       "    <tr>\n",
       "      <th>9</th>\n",
       "      <td>Netherlands</td>\n",
       "      <td>258</td>\n",
       "    </tr>\n",
       "  </tbody>\n",
       "</table>\n",
       "</div>"
      ],
      "text/plain": [
       "                                               index  # Programadores\n",
       "0                           United States of America             2947\n",
       "1                                              India              984\n",
       "2  United Kingdom of Great Britain and Northern I...              859\n",
       "3                                            Germany              611\n",
       "4                                             Brazil              502\n",
       "5                                             Canada              499\n",
       "6                                          Australia              308\n",
       "7                                             France              303\n",
       "8                                              Spain              279\n",
       "9                                        Netherlands              258"
      ]
     },
     "execution_count": 1216,
     "metadata": {},
     "output_type": "execute_result"
    }
   ],
   "source": [
    "df_flourish_022.head(10)"
   ]
  },
  {
   "cell_type": "code",
   "execution_count": 1218,
   "metadata": {},
   "outputs": [],
   "source": [
    "df_flourish_022.head(10).to_csv('022_flourish_data.csv', index=False)"
   ]
  }
 ],
 "metadata": {
  "kernelspec": {
   "display_name": "Python 3 (ipykernel)",
   "language": "python",
   "name": "python3"
  },
  "language_info": {
   "codemirror_mode": {
    "name": "ipython",
    "version": 3
   },
   "file_extension": ".py",
   "mimetype": "text/x-python",
   "name": "python",
   "nbconvert_exporter": "python",
   "pygments_lexer": "ipython3",
   "version": "3.9.1"
  },
  "toc": {
   "base_numbering": 1,
   "nav_menu": {},
   "number_sections": true,
   "sideBar": true,
   "skip_h1_title": false,
   "title_cell": "Table of Contents",
   "title_sidebar": "Contents",
   "toc_cell": false,
   "toc_position": {},
   "toc_section_display": true,
   "toc_window_display": false
  }
 },
 "nbformat": 4,
 "nbformat_minor": 2
}
